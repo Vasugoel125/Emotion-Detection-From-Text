{
 "cells": [
  {
   "cell_type": "markdown",
   "id": "6e5cf851",
   "metadata": {},
   "source": [
    "# Emotion Detection of Text \n",
    "\n",
    "1. Text Classification \n",
    "2. Sentiment Analysis "
   ]
  },
  {
   "cell_type": "code",
   "execution_count": 1,
   "id": "a25a3396",
   "metadata": {},
   "outputs": [],
   "source": [
    "#loading packages \n",
    "import pandas as pd\n",
    "import numpy as np"
   ]
  },
  {
   "cell_type": "code",
   "execution_count": 2,
   "id": "4198609b",
   "metadata": {},
   "outputs": [],
   "source": [
    "#loading data viz packages \n",
    "import matplotlib.pyplot as plt\n",
    "import seaborn as sns "
   ]
  },
  {
   "cell_type": "code",
   "execution_count": 3,
   "id": "2d6f7223",
   "metadata": {},
   "outputs": [],
   "source": [
    "#Load Text cleaning \n",
    "import neattext.functions as nfx"
   ]
  },
  {
   "cell_type": "code",
   "execution_count": 4,
   "id": "40c38e18",
   "metadata": {},
   "outputs": [],
   "source": [
    "#load Dataset \n",
    "df = pd.read_csv(\"D:\\Spoonshot Assessment\\intern_assignment\\data.csv\")"
   ]
  },
  {
   "cell_type": "code",
   "execution_count": 5,
   "id": "638e86de",
   "metadata": {},
   "outputs": [
    {
     "data": {
      "text/html": [
       "<div>\n",
       "<style scoped>\n",
       "    .dataframe tbody tr th:only-of-type {\n",
       "        vertical-align: middle;\n",
       "    }\n",
       "\n",
       "    .dataframe tbody tr th {\n",
       "        vertical-align: top;\n",
       "    }\n",
       "\n",
       "    .dataframe thead th {\n",
       "        text-align: right;\n",
       "    }\n",
       "</style>\n",
       "<table border=\"1\" class=\"dataframe\">\n",
       "  <thead>\n",
       "    <tr style=\"text-align: right;\">\n",
       "      <th></th>\n",
       "      <th>text</th>\n",
       "      <th>sentiment</th>\n",
       "    </tr>\n",
       "  </thead>\n",
       "  <tbody>\n",
       "    <tr>\n",
       "      <th>0</th>\n",
       "      <td>@angelemotion yayyy for new videos by amazing ...</td>\n",
       "      <td>happiness</td>\n",
       "    </tr>\n",
       "    <tr>\n",
       "      <th>1</th>\n",
       "      <td>Surgery when I wake up</td>\n",
       "      <td>neutral</td>\n",
       "    </tr>\n",
       "    <tr>\n",
       "      <th>2</th>\n",
       "      <td>@ScylisSynaptic NO WAY MAN! i like 21 year olds</td>\n",
       "      <td>surprise</td>\n",
       "    </tr>\n",
       "    <tr>\n",
       "      <th>3</th>\n",
       "      <td>Just look @ this hellacious desk...good grief ...</td>\n",
       "      <td>hate</td>\n",
       "    </tr>\n",
       "    <tr>\n",
       "      <th>4</th>\n",
       "      <td>@ModelTheany  tee we beefin....what was u supp...</td>\n",
       "      <td>surprise</td>\n",
       "    </tr>\n",
       "  </tbody>\n",
       "</table>\n",
       "</div>"
      ],
      "text/plain": [
       "                                                text  sentiment\n",
       "0  @angelemotion yayyy for new videos by amazing ...  happiness\n",
       "1                             Surgery when I wake up    neutral\n",
       "2    @ScylisSynaptic NO WAY MAN! i like 21 year olds   surprise\n",
       "3  Just look @ this hellacious desk...good grief ...       hate\n",
       "4  @ModelTheany  tee we beefin....what was u supp...   surprise"
      ]
     },
     "execution_count": 5,
     "metadata": {},
     "output_type": "execute_result"
    }
   ],
   "source": [
    "#Preview\n",
    "df.head()"
   ]
  },
  {
   "cell_type": "code",
   "execution_count": 6,
   "id": "925f50a2",
   "metadata": {},
   "outputs": [
    {
     "data": {
      "text/plain": [
       "(32000, 2)"
      ]
     },
     "execution_count": 6,
     "metadata": {},
     "output_type": "execute_result"
    }
   ],
   "source": [
    "#Shape\n",
    "df.shape"
   ]
  },
  {
   "cell_type": "code",
   "execution_count": 7,
   "id": "1e9fc42f",
   "metadata": {},
   "outputs": [
    {
     "data": {
      "text/plain": [
       "text         object\n",
       "sentiment    object\n",
       "dtype: object"
      ]
     },
     "execution_count": 7,
     "metadata": {},
     "output_type": "execute_result"
    }
   ],
   "source": [
    "#DataTypes\n",
    "df.dtypes"
   ]
  },
  {
   "cell_type": "code",
   "execution_count": 8,
   "id": "68df0ca8",
   "metadata": {},
   "outputs": [
    {
     "data": {
      "text/plain": [
       "text         0\n",
       "sentiment    0\n",
       "dtype: int64"
      ]
     },
     "execution_count": 8,
     "metadata": {},
     "output_type": "execute_result"
    }
   ],
   "source": [
    "#Checking for missing values\n",
    "df.isnull().sum()"
   ]
  },
  {
   "cell_type": "code",
   "execution_count": 9,
   "id": "cbd05edb",
   "metadata": {},
   "outputs": [
    {
     "data": {
      "text/plain": [
       "neutral       6910\n",
       "worry         6767\n",
       "happiness     4167\n",
       "sadness       4132\n",
       "love          3074\n",
       "surprise      1750\n",
       "fun           1421\n",
       "relief        1221\n",
       "hate          1058\n",
       "empty          662\n",
       "enthusiasm     607\n",
       "boredom        143\n",
       "anger           88\n",
       "Name: sentiment, dtype: int64"
      ]
     },
     "execution_count": 9,
     "metadata": {},
     "output_type": "execute_result"
    }
   ],
   "source": [
    "#Value counts of emotions\n",
    "df['sentiment'].value_counts()"
   ]
  },
  {
   "cell_type": "code",
   "execution_count": 10,
   "id": "659f0085",
   "metadata": {},
   "outputs": [
    {
     "data": {
      "text/plain": [
       "<AxesSubplot:>"
      ]
     },
     "execution_count": 10,
     "metadata": {},
     "output_type": "execute_result"
    },
    {
     "data": {
      "image/png": "[encoded data removed]",
      "text/plain": [
       "<Figure size 432x288 with 1 Axes>"
      ]
     },
     "metadata": {
      "needs_background": "light"
     },
     "output_type": "display_data"
    }
   ],
   "source": [
    "df['sentiment'].value_counts().plot(kind='bar')"
   ]
  },
  {
   "cell_type": "code",
   "execution_count": 11,
   "id": "c33adaf2",
   "metadata": {
    "scrolled": false
   },
   "outputs": [
    {
     "data": {
      "text/plain": [
       "<function matplotlib.pyplot.show(close=None, block=None)>"
      ]
     },
     "execution_count": 11,
     "metadata": {},
     "output_type": "execute_result"
    },
    {
     "data": {
      "image/png": "[encoded data removed]",
      "text/plain": [
       "<Figure size 1440x720 with 1 Axes>"
      ]
     },
     "metadata": {
      "needs_background": "light"
     },
     "output_type": "display_data"
    }
   ],
   "source": [
    "#Using Seaborn to plot\n",
    "plt.figure(figsize=(20,10))\n",
    "sns.countplot(x='sentiment',data=df)\n",
    "plt.show"
   ]
  },
  {
   "cell_type": "markdown",
   "id": "b272090e",
   "metadata": {},
   "source": [
    "# Exploratory Data Analysis(EDA)\n",
    "+ Text Cleaning\n",
    "+ Sentiment Analysis\n",
    "+ Keyword Extraction \n",
    "    - Keywords for each emotion\n",
    "    - Wordcloud\n"
   ]
  },
  {
   "cell_type": "code",
   "execution_count": 12,
   "id": "052e15cd",
   "metadata": {},
   "outputs": [],
   "source": [
    "#Sentiment Analysis \n",
    "from textblob import TextBlob"
   ]
  },
  {
   "cell_type": "code",
   "execution_count": 13,
   "id": "76fe1df0",
   "metadata": {},
   "outputs": [],
   "source": [
    "def get_sentiment(text):\n",
    "    blob = TextBlob(text)\n",
    "    sentiment = blob.sentiment.polarity \n",
    "    if sentiment > 0:\n",
    "        result = \"Positive\"\n",
    "    elif sentiment < 0:\n",
    "        result = \"Negative\"\n",
    "    else:\n",
    "        result = \"Neutral\"\n",
    "    return result "
   ]
  },
  {
   "cell_type": "code",
   "execution_count": 14,
   "id": "0b5f7c8f",
   "metadata": {},
   "outputs": [
    {
     "data": {
      "text/plain": [
       "'Neutral'"
      ]
     },
     "execution_count": 14,
     "metadata": {},
     "output_type": "execute_result"
    }
   ],
   "source": [
    "#Checking text function\n",
    "get_sentiment(\"I am a coder\")"
   ]
  },
  {
   "cell_type": "code",
   "execution_count": 15,
   "id": "b0c4828f",
   "metadata": {},
   "outputs": [],
   "source": [
    "df['Emotion'] = df['text'].apply(get_sentiment)"
   ]
  },
  {
   "cell_type": "code",
   "execution_count": 16,
   "id": "46457a88",
   "metadata": {},
   "outputs": [
    {
     "data": {
      "text/html": [
       "<div>\n",
       "<style scoped>\n",
       "    .dataframe tbody tr th:only-of-type {\n",
       "        vertical-align: middle;\n",
       "    }\n",
       "\n",
       "    .dataframe tbody tr th {\n",
       "        vertical-align: top;\n",
       "    }\n",
       "\n",
       "    .dataframe thead th {\n",
       "        text-align: right;\n",
       "    }\n",
       "</style>\n",
       "<table border=\"1\" class=\"dataframe\">\n",
       "  <thead>\n",
       "    <tr style=\"text-align: right;\">\n",
       "      <th></th>\n",
       "      <th>text</th>\n",
       "      <th>sentiment</th>\n",
       "      <th>Emotion</th>\n",
       "    </tr>\n",
       "  </thead>\n",
       "  <tbody>\n",
       "    <tr>\n",
       "      <th>0</th>\n",
       "      <td>@angelemotion yayyy for new videos by amazing ...</td>\n",
       "      <td>happiness</td>\n",
       "      <td>Positive</td>\n",
       "    </tr>\n",
       "    <tr>\n",
       "      <th>1</th>\n",
       "      <td>Surgery when I wake up</td>\n",
       "      <td>neutral</td>\n",
       "      <td>Neutral</td>\n",
       "    </tr>\n",
       "    <tr>\n",
       "      <th>2</th>\n",
       "      <td>@ScylisSynaptic NO WAY MAN! i like 21 year olds</td>\n",
       "      <td>surprise</td>\n",
       "      <td>Neutral</td>\n",
       "    </tr>\n",
       "    <tr>\n",
       "      <th>3</th>\n",
       "      <td>Just look @ this hellacious desk...good grief ...</td>\n",
       "      <td>hate</td>\n",
       "      <td>Negative</td>\n",
       "    </tr>\n",
       "    <tr>\n",
       "      <th>4</th>\n",
       "      <td>@ModelTheany  tee we beefin....what was u supp...</td>\n",
       "      <td>surprise</td>\n",
       "      <td>Neutral</td>\n",
       "    </tr>\n",
       "  </tbody>\n",
       "</table>\n",
       "</div>"
      ],
      "text/plain": [
       "                                                text  sentiment   Emotion\n",
       "0  @angelemotion yayyy for new videos by amazing ...  happiness  Positive\n",
       "1                             Surgery when I wake up    neutral   Neutral\n",
       "2    @ScylisSynaptic NO WAY MAN! i like 21 year olds   surprise   Neutral\n",
       "3  Just look @ this hellacious desk...good grief ...       hate  Negative\n",
       "4  @ModelTheany  tee we beefin....what was u supp...   surprise   Neutral"
      ]
     },
     "execution_count": 16,
     "metadata": {},
     "output_type": "execute_result"
    }
   ],
   "source": [
    "df.head()"
   ]
  },
  {
   "cell_type": "code",
   "execution_count": 17,
   "id": "e3a048b3",
   "metadata": {},
   "outputs": [
    {
     "data": {
      "text/plain": [
       "sentiment   Emotion \n",
       "anger       Negative      27\n",
       "            Neutral       33\n",
       "            Positive      28\n",
       "boredom     Negative      67\n",
       "            Neutral       42\n",
       "            Positive      34\n",
       "empty       Negative     142\n",
       "            Neutral      326\n",
       "            Positive     194\n",
       "enthusiasm  Negative      82\n",
       "            Neutral      203\n",
       "            Positive     322\n",
       "fun         Negative     160\n",
       "            Neutral      380\n",
       "            Positive     881\n",
       "happiness   Negative     270\n",
       "            Neutral      993\n",
       "            Positive    2904\n",
       "hate        Negative     552\n",
       "            Neutral      294\n",
       "            Positive     212\n",
       "love        Negative     173\n",
       "            Neutral      543\n",
       "            Positive    2358\n",
       "neutral     Negative     944\n",
       "            Neutral     3546\n",
       "            Positive    2420\n",
       "relief      Negative     174\n",
       "            Neutral      374\n",
       "            Positive     673\n",
       "sadness     Negative    1508\n",
       "            Neutral     1351\n",
       "            Positive    1273\n",
       "surprise    Negative     303\n",
       "            Neutral      635\n",
       "            Positive     812\n",
       "worry       Negative    2128\n",
       "            Neutral     2343\n",
       "            Positive    2296\n",
       "dtype: int64"
      ]
     },
     "execution_count": 17,
     "metadata": {},
     "output_type": "execute_result"
    }
   ],
   "source": [
    "#Compare our emotion vs sentiment\n",
    "df.groupby(['sentiment','Emotion']).size()"
   ]
  },
  {
   "cell_type": "code",
   "execution_count": 18,
   "id": "a7b6b1ce",
   "metadata": {},
   "outputs": [
    {
     "data": {
      "text/plain": [
       "<AxesSubplot:xlabel='sentiment,Emotion'>"
      ]
     },
     "execution_count": 18,
     "metadata": {},
     "output_type": "execute_result"
    },
    {
     "data": {
      "image/png": "[encoded data removed]",
      "text/plain": [
       "<Figure size 432x288 with 1 Axes>"
      ]
     },
     "metadata": {
      "needs_background": "light"
     },
     "output_type": "display_data"
    }
   ],
   "source": [
    "#plotting matplotlib of comparision \n",
    "df.groupby(['sentiment','Emotion']).size().plot(kind='bar')"
   ]
  },
  {
   "cell_type": "code",
   "execution_count": 19,
   "id": "2c252628",
   "metadata": {},
   "outputs": [
    {
     "name": "stderr",
     "output_type": "stream",
     "text": [
      "C:\\ProgramData\\Anaconda3\\lib\\site-packages\\seaborn\\categorical.py:3717: UserWarning: The `factorplot` function has been renamed to `catplot`. The original name will be removed in a future release. Please update your code. Note that the default `kind` in `factorplot` (`'point'`) has changed `'strip'` in `catplot`.\n",
      "  warnings.warn(msg)\n",
      "C:\\ProgramData\\Anaconda3\\lib\\site-packages\\seaborn\\categorical.py:3723: UserWarning: The `size` parameter has been renamed to `height`; please update your code.\n",
      "  warnings.warn(msg, UserWarning)\n"
     ]
    },
    {
     "data": {
      "text/plain": [
       "<seaborn.axisgrid.FacetGrid at 0x1ad2023d4f0>"
      ]
     },
     "execution_count": 19,
     "metadata": {},
     "output_type": "execute_result"
    },
    {
     "data": {
      "image/png": "[encoded data removed]",
      "text/plain": [
       "<Figure size 728.875x432 with 1 Axes>"
      ]
     },
     "metadata": {
      "needs_background": "light"
     },
     "output_type": "display_data"
    }
   ],
   "source": [
    "#Using Seaborn\n",
    "sns.factorplot\n",
    "sns.catplot\n",
    "sns.factorplot(x='sentiment',hue='Emotion',data=df,kind='count',size=6,aspect=1.5)"
   ]
  },
  {
   "cell_type": "code",
   "execution_count": 20,
   "id": "18742b1f",
   "metadata": {},
   "outputs": [
    {
     "data": {
      "text/plain": [
       "<seaborn.axisgrid.FacetGrid at 0x1ad20281a90>"
      ]
     },
     "execution_count": 20,
     "metadata": {},
     "output_type": "execute_result"
    },
    {
     "data": {
      "image/png": "[encoded data removed]",
      "text/plain": [
       "<Figure size 620.875x360 with 1 Axes>"
      ]
     },
     "metadata": {
      "needs_background": "light"
     },
     "output_type": "display_data"
    }
   ],
   "source": [
    "sns.catplot(x='sentiment',hue='Emotion',data=df,kind='count',aspect=1.5)"
   ]
  },
  {
   "cell_type": "markdown",
   "id": "d9ec9918",
   "metadata": {},
   "source": [
    "## Text Cleaning \n",
    "+ Remove noise\n",
    "    - Stopwords\n",
    "    - Special characters\n",
    "    - Punctuations\n",
    "    - Emojis"
   ]
  },
  {
   "cell_type": "code",
   "execution_count": 21,
   "id": "9221c938",
   "metadata": {},
   "outputs": [
    {
     "data": {
      "text/plain": [
       "['BTC_ADDRESS_REGEX',\n",
       " 'CURRENCY_REGEX',\n",
       " 'CURRENCY_SYMB_REGEX',\n",
       " 'Counter',\n",
       " 'DATE_REGEX',\n",
       " 'EMAIL_REGEX',\n",
       " 'EMOJI_REGEX',\n",
       " 'HASTAG_REGEX',\n",
       " 'MASTERCard_REGEX',\n",
       " 'MD5_SHA_REGEX',\n",
       " 'MOST_COMMON_PUNCT_REGEX',\n",
       " 'NUMBERS_REGEX',\n",
       " 'PHONE_REGEX',\n",
       " 'PoBOX_REGEX',\n",
       " 'SPECIAL_CHARACTERS_REGEX',\n",
       " 'STOPWORDS',\n",
       " 'STOPWORDS_de',\n",
       " 'STOPWORDS_en',\n",
       " 'STOPWORDS_es',\n",
       " 'STOPWORDS_fr',\n",
       " 'STOPWORDS_ru',\n",
       " 'STOPWORDS_yo',\n",
       " 'STREET_ADDRESS_REGEX',\n",
       " 'TextFrame',\n",
       " 'URL_PATTERN',\n",
       " 'USER_HANDLES_REGEX',\n",
       " 'VISACard_REGEX',\n",
       " '__builtins__',\n",
       " '__cached__',\n",
       " '__doc__',\n",
       " '__file__',\n",
       " '__generate_text',\n",
       " '__loader__',\n",
       " '__name__',\n",
       " '__numbers_dict',\n",
       " '__package__',\n",
       " '__spec__',\n",
       " '_lex_richness_herdan',\n",
       " '_lex_richness_maas_ttr',\n",
       " 'clean_text',\n",
       " 'defaultdict',\n",
       " 'digit2words',\n",
       " 'extract_btc_address',\n",
       " 'extract_currencies',\n",
       " 'extract_currency_symbols',\n",
       " 'extract_dates',\n",
       " 'extract_emails',\n",
       " 'extract_emojis',\n",
       " 'extract_hashtags',\n",
       " 'extract_html_tags',\n",
       " 'extract_mastercard_addr',\n",
       " 'extract_md5sha',\n",
       " 'extract_numbers',\n",
       " 'extract_pattern',\n",
       " 'extract_phone_numbers',\n",
       " 'extract_postoffice_box',\n",
       " 'extract_shortwords',\n",
       " 'extract_special_characters',\n",
       " 'extract_stopwords',\n",
       " 'extract_street_address',\n",
       " 'extract_terms_in_bracket',\n",
       " 'extract_urls',\n",
       " 'extract_userhandles',\n",
       " 'extract_visacard_addr',\n",
       " 'fix_contractions',\n",
       " 'generate_sentence',\n",
       " 'hamming_distance',\n",
       " 'inverse_df',\n",
       " 'lexical_richness',\n",
       " 'markov_chain',\n",
       " 'math',\n",
       " 'nlargest',\n",
       " 'normalize',\n",
       " 'num2words',\n",
       " 'random',\n",
       " 're',\n",
       " 'read_txt',\n",
       " 'remove_bad_quotes',\n",
       " 'remove_btc_address',\n",
       " 'remove_currencies',\n",
       " 'remove_currency_symbols',\n",
       " 'remove_custom_pattern',\n",
       " 'remove_custom_words',\n",
       " 'remove_dates',\n",
       " 'remove_emails',\n",
       " 'remove_emojis',\n",
       " 'remove_hashtags',\n",
       " 'remove_html_tags',\n",
       " 'remove_mastercard_addr',\n",
       " 'remove_md5sha',\n",
       " 'remove_multiple_spaces',\n",
       " 'remove_non_ascii',\n",
       " 'remove_numbers',\n",
       " 'remove_phone_numbers',\n",
       " 'remove_postoffice_box',\n",
       " 'remove_puncts',\n",
       " 'remove_punctuations',\n",
       " 'remove_shortwords',\n",
       " 'remove_special_characters',\n",
       " 'remove_stopwords',\n",
       " 'remove_street_address',\n",
       " 'remove_terms_in_bracket',\n",
       " 'remove_urls',\n",
       " 'remove_userhandles',\n",
       " 'remove_visacard_addr',\n",
       " 'replace_bad_quotes',\n",
       " 'replace_currencies',\n",
       " 'replace_currency_symbols',\n",
       " 'replace_dates',\n",
       " 'replace_emails',\n",
       " 'replace_emojis',\n",
       " 'replace_numbers',\n",
       " 'replace_phone_numbers',\n",
       " 'replace_special_characters',\n",
       " 'replace_term',\n",
       " 'replace_urls',\n",
       " 'string',\n",
       " 'term_freq',\n",
       " 'to_txt',\n",
       " 'word_freq',\n",
       " 'word_length_freq']"
      ]
     },
     "execution_count": 21,
     "metadata": {},
     "output_type": "execute_result"
    }
   ],
   "source": [
    "dir(nfx)"
   ]
  },
  {
   "cell_type": "code",
   "execution_count": 22,
   "id": "3ae31238",
   "metadata": {},
   "outputs": [],
   "source": [
    "df['Clean_Text'] = df['text'].apply(nfx.remove_stopwords)"
   ]
  },
  {
   "cell_type": "code",
   "execution_count": 23,
   "id": "6cc04d09",
   "metadata": {},
   "outputs": [],
   "source": [
    "df['Clean_Text'] = df['Clean_Text'].apply(nfx.remove_userhandles)"
   ]
  },
  {
   "cell_type": "code",
   "execution_count": 24,
   "id": "2552afb1",
   "metadata": {},
   "outputs": [],
   "source": [
    "df['Clean_Text'] = df['Clean_Text'].apply(nfx.remove_punctuations)"
   ]
  },
  {
   "cell_type": "code",
   "execution_count": 25,
   "id": "62118466",
   "metadata": {},
   "outputs": [],
   "source": [
    "df['Clean_Text'] = df['Clean_Text'].apply(nfx.remove_urls)"
   ]
  },
  {
   "cell_type": "code",
   "execution_count": 26,
   "id": "f5129d7d",
   "metadata": {},
   "outputs": [],
   "source": [
    "df['Clean_Text'] = df['Clean_Text'].apply(nfx.remove_emails)"
   ]
  },
  {
   "cell_type": "code",
   "execution_count": 27,
   "id": "a9cf9fc2",
   "metadata": {},
   "outputs": [
    {
     "data": {
      "text/html": [
       "<div>\n",
       "<style scoped>\n",
       "    .dataframe tbody tr th:only-of-type {\n",
       "        vertical-align: middle;\n",
       "    }\n",
       "\n",
       "    .dataframe tbody tr th {\n",
       "        vertical-align: top;\n",
       "    }\n",
       "\n",
       "    .dataframe thead th {\n",
       "        text-align: right;\n",
       "    }\n",
       "</style>\n",
       "<table border=\"1\" class=\"dataframe\">\n",
       "  <thead>\n",
       "    <tr style=\"text-align: right;\">\n",
       "      <th></th>\n",
       "      <th>text</th>\n",
       "      <th>Clean_Text</th>\n",
       "    </tr>\n",
       "  </thead>\n",
       "  <tbody>\n",
       "    <tr>\n",
       "      <th>0</th>\n",
       "      <td>@angelemotion yayyy for new videos by amazing ...</td>\n",
       "      <td>yayyy new videos amazing people</td>\n",
       "    </tr>\n",
       "    <tr>\n",
       "      <th>1</th>\n",
       "      <td>Surgery when I wake up</td>\n",
       "      <td>Surgery wake</td>\n",
       "    </tr>\n",
       "    <tr>\n",
       "      <th>2</th>\n",
       "      <td>@ScylisSynaptic NO WAY MAN! i like 21 year olds</td>\n",
       "      <td>WAY MAN like 21 year olds</td>\n",
       "    </tr>\n",
       "    <tr>\n",
       "      <th>3</th>\n",
       "      <td>Just look @ this hellacious desk...good grief ...</td>\n",
       "      <td>look @ hellacious deskgood grief http://shortt...</td>\n",
       "    </tr>\n",
       "    <tr>\n",
       "      <th>4</th>\n",
       "      <td>@ModelTheany  tee we beefin....what was u supp...</td>\n",
       "      <td>tee beefinwhat u supposed leavin</td>\n",
       "    </tr>\n",
       "    <tr>\n",
       "      <th>...</th>\n",
       "      <td>...</td>\n",
       "      <td>...</td>\n",
       "    </tr>\n",
       "    <tr>\n",
       "      <th>31995</th>\n",
       "      <td>as any1 been up all night like me and now the ...</td>\n",
       "      <td>any1 night like birds keeping awake</td>\n",
       "    </tr>\n",
       "    <tr>\n",
       "      <th>31996</th>\n",
       "      <td>Not going to Suffolk tomorrow.   However, now ...</td>\n",
       "      <td>going Suffolk tomorrow However MB amp planning...</td>\n",
       "    </tr>\n",
       "    <tr>\n",
       "      <th>31997</th>\n",
       "      <td>i really wanna play....</td>\n",
       "      <td>wanna play</td>\n",
       "    </tr>\n",
       "    <tr>\n",
       "      <th>31998</th>\n",
       "      <td>@DavidArchie Hey David, I'm wondering if you r...</td>\n",
       "      <td>Hey David Im wondering received letter song ...</td>\n",
       "    </tr>\n",
       "    <tr>\n",
       "      <th>31999</th>\n",
       "      <td>who watched X-men origins: wolverine? i totall...</td>\n",
       "      <td>watched Xmen origins: wolverine totally loved ...</td>\n",
       "    </tr>\n",
       "  </tbody>\n",
       "</table>\n",
       "<p>32000 rows × 2 columns</p>\n",
       "</div>"
      ],
      "text/plain": [
       "                                                    text  \\\n",
       "0      @angelemotion yayyy for new videos by amazing ...   \n",
       "1                                 Surgery when I wake up   \n",
       "2        @ScylisSynaptic NO WAY MAN! i like 21 year olds   \n",
       "3      Just look @ this hellacious desk...good grief ...   \n",
       "4      @ModelTheany  tee we beefin....what was u supp...   \n",
       "...                                                  ...   \n",
       "31995  as any1 been up all night like me and now the ...   \n",
       "31996  Not going to Suffolk tomorrow.   However, now ...   \n",
       "31997                            i really wanna play....   \n",
       "31998  @DavidArchie Hey David, I'm wondering if you r...   \n",
       "31999  who watched X-men origins: wolverine? i totall...   \n",
       "\n",
       "                                              Clean_Text  \n",
       "0                        yayyy new videos amazing people  \n",
       "1                                           Surgery wake  \n",
       "2                              WAY MAN like 21 year olds  \n",
       "3      look @ hellacious deskgood grief http://shortt...  \n",
       "4                       tee beefinwhat u supposed leavin  \n",
       "...                                                  ...  \n",
       "31995                any1 night like birds keeping awake  \n",
       "31996  going Suffolk tomorrow However MB amp planning...  \n",
       "31997                                         wanna play  \n",
       "31998    Hey David Im wondering received letter song ...  \n",
       "31999  watched Xmen origins: wolverine totally loved ...  \n",
       "\n",
       "[32000 rows x 2 columns]"
      ]
     },
     "execution_count": 27,
     "metadata": {},
     "output_type": "execute_result"
    }
   ],
   "source": [
    "df[['text','Clean_Text']]"
   ]
  },
  {
   "cell_type": "markdown",
   "id": "bbf62a1e",
   "metadata": {},
   "source": [
    "## Keyword Extraction \n",
    "+ Extract most commonest words per class of emotion"
   ]
  },
  {
   "cell_type": "code",
   "execution_count": 28,
   "id": "2f9fa96f",
   "metadata": {},
   "outputs": [],
   "source": [
    "from collections import Counter"
   ]
  },
  {
   "cell_type": "code",
   "execution_count": 29,
   "id": "1b17129f",
   "metadata": {},
   "outputs": [],
   "source": [
    "def extract_keywords(text,num=50):\n",
    "    tokens = [ tok for tok in text.split()]\n",
    "    most_common_tokens = Counter(tokens).most_common(num)\n",
    "    return dict(most_common_tokens)"
   ]
  },
  {
   "cell_type": "code",
   "execution_count": 30,
   "id": "10d375e7",
   "metadata": {},
   "outputs": [],
   "source": [
    "#List of sentiments\n",
    "sentiment_list = df['sentiment'].unique().tolist()"
   ]
  },
  {
   "cell_type": "code",
   "execution_count": 31,
   "id": "a76b3f2f",
   "metadata": {},
   "outputs": [
    {
     "data": {
      "text/plain": [
       "['happiness',\n",
       " 'neutral',\n",
       " 'surprise',\n",
       " 'hate',\n",
       " 'love',\n",
       " 'sadness',\n",
       " 'worry',\n",
       " 'relief',\n",
       " 'fun',\n",
       " 'empty',\n",
       " 'enthusiasm',\n",
       " 'boredom',\n",
       " 'anger']"
      ]
     },
     "execution_count": 31,
     "metadata": {},
     "output_type": "execute_result"
    }
   ],
   "source": [
    "sentiment_list"
   ]
  },
  {
   "cell_type": "code",
   "execution_count": 32,
   "id": "6fd5b8f0",
   "metadata": {},
   "outputs": [],
   "source": [
    "happiness_list = df[df['sentiment'] == 'happiness']['Clean_Text'].tolist()"
   ]
  },
  {
   "cell_type": "code",
   "execution_count": 33,
   "id": "e400052c",
   "metadata": {},
   "outputs": [],
   "source": [
    "#Happiness Document \n",
    "happiness_docx = ' '.join(happiness_list)"
   ]
  },
  {
   "cell_type": "code",
   "execution_count": 34,
   "id": "3ca6e445",
   "metadata": {},
   "outputs": [
    {
     "data": {
      "text/plain": [
       "'  yayyy new videos amazing people 10th 2 months=] going watch davids yey   Oh wow Thanks info Mariana ~ Photography Cassones 2009 Feature http://bitly/E2bjm  Thanks Goooood beer tiiiimes   awesome Ill look it favorite relaxing songs wake to: http://tinyurlcom/c8fr3e Good morning http://twitpiccom/4w855 Operation Happy Mom success NITE PEOPLES going hometown excited Thames Street IM GONNA ORIGINAL THAMES RIVER BITCH ohhhh Looking forward Sunday b/c weather warm sunny getting ready lay pool   KNEW that   haha told you important Oh yeah Radio1 playing Earth Wind Fire     great pichave upload pix tomoIve laptop tonight picture burn  taylor swift great song   thanks havin overrr Woo hoo party here gonna fun Ive brush teeth im eating Chocolates right haha sharing @ BeardBurk: optimistic 1st TY follow back 2nd  grrr dont cuz messes able follow u want ur 2000+ also Liptons Sparkling Green Tea gross   Wow   constantly ranting love Genghis Grill too there Colorado wishing happy monday wonderful start week  good   scones afternoon great were gonna cupcakes week Wednesday life beautiful morning think better way ruin work   ill buy   nice new profile picture Glad friends want wish HAPPY MOTHERS DAY favorite moms world: mom course sister HAPPY MOMS DAY TWO mcfly gig nightt omg amazin didnt sit thing mcfly best mate tutus   liked it Glad hear coffee gym studio story of my life these days grateful Guys follow   RX Twitterwar DD GINOOOO   Im wit cha got home da reggae club wishin sexin somebody   lumberjack http://twitpiccom/4wqe8   Sweet deal want movie Methinks Star Trek movie night time hmm Enjoy hols xxx Good Morning Everyone  Time work   Lucky Rob gettin T8s Emalon   thank saw comment chew aerobics tickled   Thanks Wow sunny day recovering erased files   Anytime Im ~ cant match stamina nice warm comfy bed calling (screaming) namelol Night Ninja watching beauty amp beast haha   haha Thanks welcome family new pillow im going lay head tonight Im Celebrating Bday Friday internet access board means bad weather flying http://bitly/h14Tw Time snuggle bed electric blankie listening music Oh today remember Hoppusday happy Hoppusday Yes said yesterday changed okay   LOL #yourock university hungry happy bank holiday monday twitter bath time spring clean movie marathon  lazy day Ahh saved mowing lawn rain plenty time kayaking Blessed rain gods Finally eating unagi Ive saving while +udon :] AGH realized band playing Bear Garden today like best weekend   Thanks feedback Surreal life surreal oils playing MYBRUTE follow at: http://yhana09mybrutecom   ran 5 miles went gym amp woke Ur great kidsdependable Danny hope great Maaaan way nice outside working Getting ready launch podcast chapter 1 quotTurning Left Albuquerquequot morning know excited  I   thanks follow bro   happy #juddday carrie wahAmerican Chocolate Cheese Cake chweet mummy  muaxxx Playing munchkin today talking cakes getting ready yard sale tomorrow looking forward fun night needed break PS love man effing hilarious Good night twitter world Sweet dreams Liam peed potty   AWESOME feels fulfilling it Im gonna work SOOOO people summer Totally excited mums day  ended happy day anything   know lol  Ill grin bear Welcome    glad know here products rox man Straighening hair going straight want bummerrr haciendo mi primer app con Thin + Rack + crazy stuff good day you lindy day today Level A B FREE tester 20:00 (Olympiou Diamanti 25 6th floor Thessaloniki)    yep meeeee Im awesome hahahha going watch tv  crazy night  7am work tomorrow Ill live somehow means finish early   nice meet tonight amp thanks   nicei cleared head babi pangang friends Tomorrow working time   Happy anniversary   Hoping many more best   nearly month exciting   actually play keyboards pohaku lol played 12st bday earlier im spinning shack watching movie rocking baby kitty asleep sling hanging neck cute   wantttt Bumping Air Supplys Greastest Hits   missed you today greatest day ever im burnt shit lmfao nice tan 11 rides 6 hrs lt3   John Lennon poster inner fan girl dancing joy   xD send it feeling like 16  watching TWILIGHT amp enjoying good morning ready hospital cat scan best wishes you   Nope quotdonequot   LOL gt mention it pleasure   hehee yea supposed sound mean hahhaa believe it:Tomorrow Night Jay Lenos episode Tonight encourage watch welcome Conan   Im good mood See Im smiling   course come join sleepover bring big dill pickle   hi there nice meet   neighborhood little one Like 25 runners got 1st place okay time happy goodnight twitter bugs sleep   idea good dinner happy munchin   iye nehkurang tidur kayaknya pulang pagian deh hari ini tidur langsunghaha Thanks love jonas brothers trending topics maybe taylors turn mountains slice pizza movie (Star Trek) shared hot fudge sundae @ Sundae House Saturday nights Date Nights   great night   happy came said hi Twas nice meet Thanks coming talking Good morning World wonderfull day starting breakfst champions kids ofcourse   Yeah too lookout tweets too Happy Tweeting   lmao yep   welcome   movie plane Mall Cop (but saw nephews Im currently enjoying work bank holiday Frasier Jeremy Kyle far Enjoy extra day Tweeters short work week Finishing giraffe getting sleep Super excited tomorrow great weekend Glad sunny today   haha yeah improving nite big time skype soon tho tear away   feeling well able want long quotgreenquot washed Im clothing type xD WOOOO Ok mother fucking duet hysterical LOL   Gerry THANK following mehelp spread newsfurtherI think coolthank u thank u thank u LMAO Twitting thats gonna old haha Home work weeks left middle school gig Fulltime work summer Teaching Credential begins end August actually got bit tan today haha sadly working weekend chance enjoy glorious sunrays boo   Yeah hope so Im excited   Yup stayed end Exciting Happy Mothers Day Mama today   Dude eerie Good song though good movie   looking like magic Dollhouse saved coming season bad scrubs   http://bitly/TVERS  here night didnt meet ended  possibly best pizza Chicago Friday yay bonus drive Wales tonight Athough miss kitten cuddles going ride got new prom dress wedding perfect totally got hit bar guests Ha haYay me came hanging friends + cocktails lt3 Im drunk feeling good Hope everyones well excited tonights party ron http://plurkcom/p/sujth Im sure people hangovers glad know Im hangover free   hope fragile morning inner desire isle middle Mediterranean soak sun Good night dream inner desire   need find Keynote one know go #ScreenCastsOnline Happy Star Wars Day LOL force strong all   Tat looks beautiful heck mama business woman Dana meeting strangers lol vegas amazing Finishing Homework BOOO   Im pleased hun   like you   thats cool Id happy contribute future articles Enjoy rest weekend   Well cant wait shot Havin better day today Finished Twilight book yesterday Classes start week yall   Good morning particular meeting people drinks evening Monday Cant help look Twitter page drool custom bg: http://twittercom/galvao   Jesus heals Needs yummy breakfast shift Renegades day today andwell hes gone catch Gutted Closest came Greenock Kilmacolm   ME   Thats great idea office hectic week  weekend awesome   lok EF too jummy   Pretty good think overdid gym yesterday working gooodmorning people earth   woah thats cool landed London 2 and1/2 hours agoI LOVE scenery beautiful  chilled room baby book missed bro leavin cool stripper shirt said suppoort single moms Funny ok guys turn Laptop pack tweet u guys road bbl Bass drum heads breaking equals bust needs tickets 15th You little girl holly find time Aw shell loads votes bet s sky Happy National Star Wars day everyone   Deb looking forward exploring simple=ology/Mark Joyner Ill 10 hours   OMJ sister brought Coldstone cupcakes today instead cake celebrate bdays family excited taking pics Staying home work linoleum block carving project (due tomorrow) probably pictures   UCE PGCE went Leicester main degree  Fuzzball fun Mothers Day http://tinyurlcom/dhpol7   HAPPY MOTHERS DAY hope great day today   thanks glad like happy    makes laundry wonderful   tell brandon said hi   Meeeee sounds delicious Happy #juddday everybody freedom Fab sunny day watchin favie   said sothen catching needed sleep goodnight   good wet good http://twitpiccom/4jdtx  Springtime nice despite rain fantastic day   Haha wish feeling nice got big ass smile face reason   ass sleep right lol 2 years funniest thing dancing sooo happyyyy   lucky want blue ones nice Natalie taught Jameson quotwhyquot   Coola productive day got spot extra feature film filming tomorrow AWESOME week around checking Good Monday Morning #mamo friends   Im either went *snicker* enjoying listening RR beer   friend calls quotMother Earthquot me Nurturing second nature some (me) God Babies Taping Cox picking starbucks office bc nice omg mummy bought icecream 10  630 andrew 8  4 idea rest think Ben Princeton fun lol Im going late photo session + motherdaughters bonding session = happy Happy star wars day Law Order Yeah stay home Sat nite   Haha know cant handle fame thank you Hey   quotkeep clearquot (robluketic live gt http://ustream/2w5v) excited Taylor Swift wednesday   Seeing friends coursework weekend work happy   Thats bad movies pretty good scared away people costume Bank holiday London woohoo Ate vegetarian pizza dinner good   congradts ur tho wasnt lol found rideYES liquor come   KL drink got $200 Macbook   Nice meet toooo Good know followers ACTUALLY speak   Naw 15 mins bug (where tanks stop spawning 15 mins) Im glad happy mothers day moms there   Yes are thanks Haha do Field flowers exist Singapore ones frolick in:S   FOrt Belvoir base Hubs stationed pentagon cant wait pug pups looooove mine ChocoSlam brother usual failures finally burnt tongue HAHAHAHA Stupid me Happy mothers day everyone sick Ians coming good ) quotoh manquot jovani asks quotdid old manquot haha sun Melbourne Happy Mothers Day mums way home school lol car tired im exploring home xD (back vacation) Nice @ home Happy Christmas wait happy Measels day seriously Happy Mothers day lmao YEHEY SUMMER exciteeeddd balme aaaaaalcohol cant wait tomorrow gotta moving forward Picked Jesse Lacey/Kevin Devine/Grace Read bootleg net acoustic tour good   awww lol yh worth it mcfly worth 2 eekk today GOOD  little girl hollie bgt  complete sympahty vote  cute aidan davis :L tweet x   haha remember xx coach says come way faster alot people oh yeah whos man ohh sore   lol wen mum kid wud eat bread instead haha rowing machine paid week ive lost 3lbs week 4th you HAPPY STAR WARS DAY   happened weeks ago Why serial card fraudster loose   wants honorary Filipino ill follow )) thanks   received personal email Perez Hilton GOT LA MISS HAWAII ALREADY DANG Reds win Great end great day   Mmmm honey mustard chicken w/ rice amp veges got grandparents suprise 60th anniversary partyit sooooo fun Im bed  HAPPY MOTHERS DAY  GREAT Looks like beautiful dayand work til Sunday yay bbq though gonna postpone invitations   hey girlie wheelchair fitting today mall buzzing amp Home Depot quotHomeboundquot got REAL old Goal: taxi yellow electric RED flashlight tag love playing games dark GREATTTTTT day taking Liz home now lt3   CongratulationS Great funky site U waaw 1 day   managed find places combine fun pleasure savings took planning watching freo sunday arvo good hobby new TMobile advert Trafalger Square looks like lot fun load pigeons too manim loss wordslooks like ima unexpected graduation giftin good way Heading theatre tonight Im exited   Im reading Twilight series watching Underworld today gotta sayperfect pic day   good   thing know star trek joke tina feys twitter quotmay 4th youquot Packing gym bag gym bit Squee Im happiest whem Im go oh happy day nice weather smiling happy baby icecream later enjoying new car   alison great miley love meet her tell shoutout   #1 fan went eastgardens saw lot hillsong pastors im going Nicks dinner Cant wait talk soon   Disneyland kids knocked out stopped hotel bar grabbed grey goose amp tonic way uppeace   5 hours late managaed sleep properly think david tweeting earlier reason ahaha   Dang too 4 hour drive bad daughters 1st bday party hosted Donnie   do long think weekend open going house warming party   quotalternate means acquisitionquot sounds sorta noble   Yes But Cute Predictable works you 6moredays6moredays yayyay taken nearly finished better good Tweet later wonderful day   Thank   aha thanks Jae   Good morning sunny Londonsounds like oxymoron happens true today Hurrah 28ï¿½ VanCity Holy shizz home soon kids   Separate desks computers sides room short dividersbut were thinking need extend ceiling   quotIf theres camel hillquot quotIll planktonquot HILARIOUS     famous Houston look http://isgd/ysAh compree  completed exam 2 hrs instead alloted 3 finished 1st new song  Soon Youtube  Keeping updated    alredy chocolate impossible resist )   loved it Happy Birthday said sounded like mixture John Lennon Chrissie Hynde Janis Joplin celebrating 21st birthday Strawberry margaritas + baked stuffed shrimp = updating resume   Good Morning Alyssa Hope u great wonderful day today im happy cuz today day classes Yay   LOL Thats special kind magic though ) special Discovery think Nessie died Beautiful monday morning happy http://mylocme/tCt   im going inlaws tonight hopefully new niece there needs kids inlaws me   pretty black flowers pink hues   hahah hopefully enjoy day   Thanks following eating lunch Sushi Tei Sency yum met Ghina earlier   concur http://trim/kmVl people cant wait stop making VAS clouds commodity quotcrosscloudquot great day monday yayy need demi lovato tickets sell out   yeah basically awesome excited hospital placement starting monday needles blood time bedgot learning tomorrow early start night night good people xxx bored cold tired lethargic feeling Man great holiday monday Good morning going kickbutt day Fever 103 Awesome tonsils swollen cant eat solid food location pictures rule   nice Ah easy received new link Reegie rig going help lancey cook   Well good luck then   thanks definitely will season rainy comes months time   Aww congrats family ) Send piccies email   imma miss dem KObe nd Bron commrcials wen cleveland knocked doe wer funny salary actually spend money Hooray Time shopping dinner Ahora goodbye   think good radio djI like awesome music great personality )     yeah im excited partying study room F1 amp Star Trekwhat great Sunday Goodnight PS thanks jailbreaking iPod stacie lt3 discovered great site   dragbut come HANDY hee hee   oh twas brilliant idea im ideas woman   GREAT obviously check twitter know important stuff thats going   aww HEEE nicely done weekend guest *approves lot*   plenty food left here Thanks coming over cant wait pictures came Helping Devin photo studio Im sitting back sipping green apple martini watching assemble everything   nai nai baby haha know twitter oh @ borgellaj know what Theyre CATS Hoedown throwdown is Im getting there   haha crying xx   OMG Hahaha thought joking Twittering that hahaha Awesome good times   16 Mallorca Want play guitar come home Im going buy mcfly dvd :]] wants walmart   favourite TV kid was Bananas Pyjamas Teletubbies lol Luckyy youuuu going JB concert haha   good joined dark hahahaha cookies   lol thank *PEN JAM CLEARED* CLICK   thank you blast http://twitpiccom/4jfa8  new baby cousin Olivia 8 pounds 19 inches perfectly adorable YAY bright shiny new week play week school finals yesss Allo twitter today Yay live demo Rhodes Loving #euruko think people buy Slap chop commercial like this: http://bitly/vQIUf week extension contract  Im ready   uhh congrats years anniversary Oh Ive watched episode JONAS awesome   Welcome Today going good day way work spending time Jesus   =o SAW FLEETWOOD MAC Im insanely jealous money buy tickets think Ill them =(   Hey im fan New Zealand Loving tho soooo episodes haha good work   best Cup Final today fun   watched too liked yay class semester   good guys  wish wishing blessed amp beautiful Mothers Day turns Im really like years old guys right Im seek future little later planned   cant believe following you anatomy prac tmw tonight im structr lwr limb   Morning hope super dayenjoy    Thanks seriously increasingly good nights stoked life happier #goodnight   father lucky man sounds like fighter drink Marc Izzy sleepin woot woot   hmm idk song   hey guys leann  dont know remember wanted im excited guys far   WASSUP BEAUTIFUL FOLLOW ME PEEP NEW HIT SINGLES WWWMYSPACECOM/IPSOHOT DEF WAT U VIDEO fireworks @ KBOOM concert second best Ive seenpreceded years 2008 ltsighgt quotleave piecesquot  wreckers hmm making dinner making dinner WET HAIR   aww thanks   Glad happy new golf VI TSi 160HP fast great night Wow early best conversation realized tonights Drake   walk home looks amazing rsvped qiuqius wedding invitation   posted it let know think theres cute cut too Morning everyone cracking night night think ive laughed nice lazy day today woop   *was* great day   alright want overdue now LOL funny nite nite [stapler haiku] Whar Night Woo Hoo Yeah / beautiful night party / Oops Im stapler   Thanks FollowFriday suggestion Clive birthday pat http://appsfacebookcom/dogbook/profile/view/6386106 Oh noesss seniors day However tickling till floor giggling totally worth it Plus senior sandwhich watching Season 2 episode 1 House bed great bedtime story   thank Eric glad u appreciate that   thanks follow   love that   Decaf teas late coffee Id fly room Justin Timberlake hosted FUNNY sketch w/ Samberg Heading Beaumont   Thank hope great day   Thanks hon great yourself Happy Mothers Day wishing warped tour came london canada   working again Woo hoo Alas unable obtain Elita1 daughter $80 happy mothers dayy andd rest fabulous mommys happy mothers day   thanks nice u appreciate u   Sounds great Im looking forward watched 17 again sooo good   luckyyou capoeira got working Nate todaygot 100% Yippee Hes going vacation week brave Calc own Yesssssssssss rocket moon going warped ready Milan yall evening   Hi Im Better Drinking Hot Tea honey ^^  Thanks Care Plis Yay friend Glen here im like Hey thanks follow wow exciting new tweet Korean music festival lt33 miss ): Hahaha sexy time  (: lt3 Cant wait till SHINee  LOL    love everrything breadtalk eat place Great motorcycle ride Hood Canal Gig Harbor today warm great sunshine stunning day humm adore Mark #hoppusday so Im going throw #hoppusday nice #hoppusday people Drink #2: 12:45pm leaving shops Medium Light Coffee Frappuccino Nom nom nom   tweet sooo you Gahd Hahaha Im learning guitar quickly coming naturally    Flights booked plus GGD2 1st birthday Cant miss  especially missed GGD1 home now   woah uk mothers day werid Ive watching friends day helps revise Oh 17 awesome   hey chick u alryt u dads tmoro sud sumin aen like week neva dun oot week lol missed ha bye hun xxx times week turn tv find comedy central endure brief moment scrubs   DJ 2 gigs 6/20 bk hh fest posted live dates   thank 3 live p2v migrates 5 vmware vsp exams magento config quiet weekend party central   looks good  making hungry boy stll asleep goes n smirker cheers dave aka jak aka best chest ever  http://blipfm/~5jjcc Happy Mothers Day MommiiEs Owt Theaa amp ii Think ii Got Thaa Hang ThiiS ThiiNg Yay Great exercise Sunday morning: quotstopping wheel karmaquot (RAW) transforming negativity love Life   haha MonDo want send it   voted you hope win   awesome maybe someday Ill find book bestsellers list lol got home wonderful night want watch Naruto Shippuuden missed episodes new supernatural tonight   yeah Love Hawaiian outfit reused rugby 7 year     guess u like den hair cut short lol   Thanx sorry trying rub in excited working hard dream come true awhile HAPPY MOTHERS DAY MOMMYS   husband wears shirt time think send way woke hiccups came back got footy thankgod eagles bryan sweet 15 didnt think gonna talk end night talked enjoying lazying eating roses chocolates x Family guy reruns food and good phone conversations ah saturdays Today Wills baseball game BATS       thanks udah di follow Watching Illuminated dreaaaminglt3 yay im 2 ride home 2 tha yellow limosuper gay beautiful morning nice   funny   saw lot stuff Africa Joy Casterbridge Farm White River Mpumalangawas thrilled ur stuff avenue raining cool   hahah okay thanks short explanation )  God im early Hayley asleep today party day im getting stuff ready x Oh sunny   Ohh #twpp falling silent waiting track ur version time maybe Btw sunny california sounds good   good girl sarah weve got club   yeah went satellite beach today flattt good skimming though   got tickets speeding tinted windows   no dayuuum 5oclock better   Dave thanks playing Happy Birthday NKOTB Today bday lonely bday today thnkn bout yesterdaybest day everamp 2day Virtus vs Treviso da futurshowhard gamegotta win FORZA RAGAZZI   awww didnt till edwin left knew wanted some forsure tomorrow ill u new batch   dull life soundtrack favourite showss   Thanks Im glad liked it flower diamonds   neck hurts moving massage me massage u lol installed iNav iBlue v2 Themegives fresh feel http://twitpiccom/4jfg4 Pretty happy things changed past 2 monthsdefinitely best people mustaches super powers mustaches fair   i yay moment today YAY hope too awww bought mom cutest things mothers day woop woop mee expert shoper   good morning too   Hope u amazing day today Monkey U deserve it cheating DEW amp looking PICTURE lol Happy Bday lt3 hangin home watchin twiligghhttt ( readin (AGAIN) lol School sukked today Bahaha taking dad law Sunday stroll Old Leigh beautiful morning Hi Morris LOL http://twitpiccom/4wt8k   lol *30 minutes slow* sec fun tearing old posters putting new ones interesting attempt commute work exactly plan end thoughgreat   remember Evidence Based Management lecturesdefinitely best EBM   morning T love breakfast stuck shop right getting maintenance ride   great weekend Mononoke tweeting inside movie theater Monday Tuesday lol     waiting beer Moldovan hes happy came Thanks everyone Unfortunately done sales speak themselves convince Diamond will Welcome Playerstationit live Twitter wwwplayerstationit   nicest things posted pics college myspace wwwmyspacecom/katieheidie   oh okay cool new slippers piggys cute warm   EPIC moment hahahha swear wanna fun traditional family dinner party Mothers Day   GOOD MIDDAY Whistling work = LAME lol   Im feeling little sleepy now reading Gunter Grass wonderful tiny print Eyes   haha thanks history invention television influence america lol happy star wars day celebrate family ok were celebrating going round famos   Thanks   finally got set Avatar Cool bitten rabies infested person night yay me Gonna scare Rachel Quarantine tonight shall fun ok im passs out tonight lovely buenas noches mi gente tomorrow shall party again OMG Im Back Know Week Brother Took Laptop Mexico Online    THANKS  motivation returning rate Im inputting coffee  Wishing Happy Mothers Day wonderful Mothers there   dee mack talking baby grown up   noticed yesterday tooim actually happy #StarTrek   great locals stop ask directions better know answer Happy Star Wars Day 4th lil 12yr old bro home playing lego ATAT dozens stormtroopers Went Priscilla Ahn night amazin bands actually Horrible thought work Monday Good thought work 90 minutes Life good night fun w lightening thunder Today 90s Excited bout going 2nite bummed cuz im da designated driver drinking Angie   lol great movie Finally left house gloomy outside Guten Morgen/ Good Morning/ content life moment 1 surprise party today 2 parties tomorrow FunFunFun But need finish bug project OO Exhausted tee im knocking out Nighty night tweety birds   Cant wait tonite hilarious   Woohoo Done started Macarenaing im garden Making pictures weed sweep weather nice l8ter people saw ghosts girlfriends past bf movie predictable funny loved Mango Medley yummy mango mango ice cream   Thanks Im way song called stolen soooo amazing Dashboard Confessional getting ready read pray bed Enjoy rest night Chilling feeling nice Happy Mothers Day mothers there HAPPY BDAY SHARON   Yep: http://bitly/15yyId Christmas treats   haaa awesome remember brother got given woody got upset cause got buzz got lmfao met mother Scrubs role YEAH quotCause Im FLY Oh joy gong long weekebd Yipee :*Â¡   oops drunken stupor lol Ima check check wwwmysweetebonycom lmk think  paysite  post site too Finally gonna try fall asleep goodnight like morn sleeP   pictures tells u surrounded adorable children hehe   Bank Holiday day Raanana wonderful place   FUCK YEAH DUDE ask was fucking know Howre you   Buying copy today excited Need learn friday Good luck sheffield busy creating new logo site oh yes happy star wars day fourth you sleeping rest day busy however got spend favorite babysittee (the kids great) obsessing chris pine heehee   hilarious Hope saw Crosby douche shirt picked wore bc it http://twitpiccom/4jaw9 frog whos attacking ChelseyLOL Funny   knowI too Yes cant wait BB love it heard theyre showing 24 hr live streaming year    took #1 Endorsed spot twindexxcom  thanks endorsement     toooooo Thank u lucky belong Nighty night yall Tweet Dreams Bye twitter amp FB world Im San Francisco airport ready board Air China sure Ill Internet access   love this body tell sleep needs good mindful mealtimes beachyummy steak catching lost manlovely day   hahaha im listening SHES LADY haha ily FTSK xx   thanks belated #followfriday shout #payingitforward   hala finally   LOL liked log ride reference think think ride wet   :O comes seen Im excited hope gets love interest soon tell does woke delightful nap cant desribe success involved 8am nap sat nightneed rhubarb Licking chocolate crumbs Twirl wrapper like Zammo smack   ohhh yea film fave longgggg time any1 humma humma   beautiful MN day Im stuck inside playing Zelda Ive gotta play 10 hrs today   Excellent point finally got graduation gear today im excited believe it 41 days left aaah sweater cozy   Picture happened Great longweekend far Going run  Judo tonight Blue Water quotRetail Therapyquot Watching Nemecek computer fun Lol keed Norms fun   fun flashy fed hillim sure imported cheeto eating ass fit lol Congratulations Manny quotPacmanquot Pacquiao Filipino proud Filipino   yeeeeah    intro seen Empire 100 computer games http://wwwempireonlinecom   Well thanks thinking me scratch one well Im right here   curing le hangover epic night bruised n battered hectic gokarting session pretty satisfied thank finally home tomorrow day 2 quotAmazingquot Congrats Dave amp Anna Surprise proposal Enzian Theater Orlando http://qikcom/video/1638824   hehehe tryna find condom better u boxes cuz ima u em park slope brooklyn working bust photoshoot exciting ampno fever tonsils size golfballs   theme tune robin Im BATMAN   youre welcomeyou deserve it Jeff right Duty pwns gotta figure xtra copy Wolvarine bought earlier week Happy Mothers Day unpacking new toy arrived studio right called TC Finalizer cant wait check sounds  http://twitpiccom/4jerc view Atlas Mountains Morocco Straits Gibraltar took day Europa Point Gib   b day 13 party sat come gays Monday Thanks #followfriday complements  know are   thank   LOL love MacBook too Oh iMac Cant decide love more OK 24quot iMac trumps 13quot MacBook silly http://twitpiccom/4jk6b got home glad decided out Yay new friends Yay hug crush Happy   glad cos u wouldnt lose fan guys saturday evening leicester better good morning im ready weeee sunday   thanks day college today Hahhahah Im watching greatest movie Wow need fun tonight Paris till friday warm evening met new neighbors theyre nice   got smile   muhahaha joined tweet cult lol heya btw twitterific good iphone app use oclock Sunday morning  Outside sat table enjoying early rays sun reading Twitter article Sunday Times mission Wales find worlds greatest welsh cake   success  better nans    Yes Thats said cant spell #melo e o lt3 favorite blogging site Crawling bed super happy Penguins tonight   Yeah course Good Morning quotRETURN WILLEN ISLAND  Spring definitely sprungquot  http://bitly/EyRtT  enjoy amazing night girls   idea haha xx   Im tune words today Thanks   Thanks tip Unfortunately major crash https site ExtPlorer Early lunch getting dressed Amys confirmation eating chocolate ready break   Thank Happy Mothers Day Mother SNL tonight got Home school fun ) oh btw music school   ooooh lol know fun princess   haha ill mind far reckon money stop hair greying retire D Good Morning ate pizza breakfast chillin bros couple yeunglings better listening Pnk tunage trying teach cat dance it think getting backing dancers tour houstatlantavegas sooner later nov 18th night off successful  2837 hours  heavennn   cool beans yeah man  prob   *dancing pirouette ballerina HUGS* Morning Awesome brudder pointless argument drunk mum drunk nan drunk mums bf dinner have fun times round hahah Good mornin twiggas   Knightsweet dreams   wooohooo Im fourth row Home Ghosts Girlfriends past lovely luddite exactly high theatre good date movie   awww love charlies enjoying lucky food LOL morning got coffee   Cool live 5 houses left place going :p 100th post dedicated Sarahsunny weatherand love Snakes Plane (Bring It) song died already   birthday today wish good assholes Sleepytime Woot interview went awsome talk Mr Johnny thought oh good finally packedthinking time sleep Ready Chicago ate foot long subway like hour ago OMG Im happy full ate bfast happy Lis posting late got seeing Star Trek awesome Ha sure hey text normal 512 718 4879   fun twitpic purple hair once athens      Noo good guys better x   Hi Thx following teach Chinese lessons youtube pls feel free look wwwyoutubecom/ChineseLearn   thinks hes gangsterrr ass fit G Unit amp know :| ))))) boopboopboop talking ashley amp brittany ive talking ashley forever convo goes places were awesome   gl hi me   hahaha Really Im trying figure time FB looking friends pages amp kelly share name wouldnt sweet related   Im up Thank praying (: AHAHAHA Im watching Britney: Record school Today good day     hilaaaaarious love it Vernae    Hiyaaa hannah asked wanted come Girls Aloud wil skank money somwhere ï¿½33 need   week delivery OZ awesome product awesome prices parcel today day Happy Mothers Day mom mom mom mom Woot woot moms rule Good Morning everyone great Monday Thanks following   specific questions let know good writing stuff Well fun day 12 hours work Id like job fabulous :b Happy monday going tavares today Hope blessed day weather nice hot guys town felt like kid candy store candies straight   teehee good   enjoying Drown Tears friends: Im deeply sorry im moving miss u much perfect day throw head kiss good bye  love it cheerful  http://blipfm/~5jckp New Star Trek movie = Awesomeness Unnecessary brief underwear scene (pun intended) that awesomeness #startrek Hey Lets Follow other awesome Cant wait 2 hand work tomorrow im practically finished year yay   Thank  like leave comment Subscribe Chicago great musical Thanks support Wow Thats star trek cool   chevre: follow   chevre Im   public tweeting Thanks     thanks r/t hoping *classy* followers Yummy 2 tacos Jack Box   thanks enjoy movie hope te   Yep sang song   YAY Busy good http://twitpiccom/4jdkq  Got new belt sheriff star   thanks Todd Enjoyed reading blog  little cheer good old Alfred Wallace Curious read book   whos working now oh yeah me good time  sleep lol Gym amp dance rehearsals like 5 hours Sitting Gatwick going home week cant wait family   Great news got balls finished watching quotRole Modelsquot (hilarious) debating 251 Hmmm   ETS (Endoscopic thoracic sympathectomy) invaluable surgical procedure happy Friday weekend  TGIF     Yeah Im okay icing ace bandage sitting   twitter LOL Thanks   Haha damn inviting   welcome   Hope great ya http://mylocme/tvD chilling   bahaha tax folder phone books double meanings mozart requiem tonight   Bit lie in Eaten bread way good giveaway   good morning  early Feeling enthused design life thanks manics phrase   Thank you alright rawknrollnet live radio23org  2 hours vivid spring summer music rawk enjoy new favorite prayers: quothelp me help me help mequot quotthank you thank you thank youquot Saw Fiddler Topol girls LOOOOVED it month Annie 7th row *cant wait* Trip 2 music store Fiddler sheet music way home aloha good night everyone heading Kitsilano BBQ weather bea UTIFUL x   morning happy #juddday time Great Yakuza Horror Theatre wish luck   haha Booked lie night woke up needed it cake sisters birthday Im Cobra Mexican bird flu hub/gay bar hate play 80s mix Oh shit FREEZE FRAME LIVE LIVE ) DJ JAYEM B2B ESR Click : http://wwwkrisisdnbcom/listenasx Shopping day headin central chidlom siam Happy Kurt spin great Oin amp Cynthia happy Dinner great cute little place bad Oin got sick afterwards   Im coming today hat $5 credit   answer riddle Party pooper lol Jokes Joyce good tho haha Hav gr8 weekend watching supernatural exciting   Sounds like good time nice you him played Rio Aladdin Ive seen live 3 times haiszt im office tweet haha fun       Everyones going think Im gold digger Hahahaha macbook Inviting Friend Twitter Happy Mothers Day   sore legs: good time epson salt works good usually DM need help   Hearing songs brighten someones day makes grin date went wellmoving fourth best job world amp yes Australia http://tinyurlcom/clxl4l   Enjoy day too Prob u Glyders pint me gotta drive straight weve got Dog stuff Sunday   http://twitpiccom/4jam0  Oh beautiful Im happy great time Heartz   sleeping  rocking sheets hope smoothness endulging cant wait blankets)   Cant wait listen Attics Toast morning   Looks like Lincoln Marathon yesterday awesome HM tough   think awesome Well discuss   Hope relaxing day feel laid cant stand Ninas High: Hanging Ninah Taylor day theyre AWESOME getting home tomorrow MOM Ninas Low: NADA  Polly Scattergoods new single today Download Touch EP iTunes ace http://trim/kpK8   pretty good actually lame episodes good try   hay nakumadaya ka talaga ah hehe hey happy mothers day mom nga pala   mom happySkool let out Today day Yippee RIP Jackson Tyler Morris Loved Forgotten   Champions League parties Tis awesome   heyyy girl havent tweeted u week hope *yaaaawwwwnnnn* thx bank holiday lets today prepared us   haha thats way cool Good morning good morning finally day sunshine summer hol away watch footie sun x Im 100% Reagan con according quiz http://quizfarmcom/runphp/QuizRunner   Oh yay Glad fun baby   haha yeah Yesterday AWESOME  Sunny day best friends good food amp tons fun  ask  http://twitpiccom/4wgoi  bus boys poets ordering medici white chocolate banana bread pudding     serio barroca parabens 4th you   like minds evening  dear wondering friends went Yay  firday good everyone way work Lots work pending today BEST lt3 eff yeah lt3   Buenos Dias mundo de Twitter eating bfast watching quotsex firequot video b4 work    heard title author before look Enjoy   kind http://mylocme/Fkl   Yeah Ive going month amaaaazing Ill bring   OMG want too hahaha bed gohave great Moms Day moms Updressed house 11 Sunday fishy fishys   5:30 evening sunset time nice dayand were working ordered cuuutest invitations new nieceï¿½s Christening arrived SA Sorry wont   good time Sun amp Dayan NY Moving today Im excited   Ur cuteIm fan Dream Little Dream Kiss appearances like Dawsons Creek flicks enjoying staying house today   hahaha niene ur soo smart lmao think by good lookin whts gurlie come home weekend   welcome twitter friend   http://twitpiccom/4i3g6  love game xxxx Hey everybody hah day cool got walk dog   OMGosh Send link please   Lara thank 4 #FF recommend   heard songs amazing voice stunned   dog thingy adorable golden retriever awesome  husky too x   LOL YES took awhile accustomed it apple v a x c btw apple amp home end Amost   LOL feel like drunk right now   Emailed  itll porch anytime come tomorrow well miss you worry knocking Good morning  Wishing great week new followers pretty cool tweeps check em out   Great  book looks fantastic  want   good stuff cant wait results present project   sounds soooo good right mmmm malasadas leave today hard weekend alcohol fuckin quotweinfestquot   so Setting goals couple months preparation Starbucks Im lovin   wish wife Evelyn Happy Mothers Day tell hope wonderful day Spoil today sleep time big/little lunch tomorrow olive garden Awesome saw thursday night great 100% perfect casting Happy Mothers Day mothers finnished Double Cheeseburger good Ready watch Spanish F1   Yes downloaded website Im tweeting now work thrilling time DAS joyride roadtrip nice driving Pai Paulo http://plurkcom/p/rrg18 Watching superbad brit   im sure sleeping tell favorite tomorrow laughed pretty time im eating cookies sitting week now thanks andrea dear Happy sunday beautiful day London meet Chergo breakfast xx   did didnt watch haha Im excited cant wait   Boom will boom Saw movie night  enjoyed   Oh yum  rhubarb links fab Thanks hope day nice sun   LOL hollie steel bless her dreambears lt33333 hahahahaha   sounds like great night  im glad successful   sounds like kinda day   looks like fun better idea: need couple hour relax bed time Sweet dreams everyone love u hey   sending Florida sunshine way Supertramp ï¿½ Raining ï¿½   m  http://blipfm/~5jucn   Im sooooo excited lovelet craziness begin 7 daysssssss YAHOOOO cool day Charlie Ben aswell (: got lost stung nettles   Hes awesome worked before Hes good friend   great picture tons money day ( )   thanks   sounds like fun Goin bed Goodnight everyone   oooh sounds yummy chance pics add website pies Today Week 18 yiha   saw today BEAUTIFUL looked good Glad wonderful turnout Sex beach cosmo kamikaze captain america ahhh fun night over umm yeaa like watchmovieslinkcom like pretty good quality nice dinner mom Ive started chicken rolls going cook overnight rest Ill tomorrow   ALOHA Jaisey Im excited Supernatural TV TONIGHT Jensen FEST tonite whos hearts break little time year know loved week new week ultimate training looking forward sunset Burnt Agenn Nice Day Tho xxx Happy #star wars day 4th Brilliant   Im great thank   knew that jus givin u hard time hehe gotta twitterers () stupid sister wants facebook oging montreal 2morrow wont while bye XoXox lt33 lvl 96 vs lvl 115 owned useing crappy armour great night Tomorrow mothers day know aliyah help Nefesh BNefesh contact me love talk them Ouvindo quotThe Wonders  dreamsquot melhor banda mundo que nunca existiu Pra comeï¿½ar bem dia im awake sleep cousin leon born today interesting night Defiance least hey got Guys Dolls free Meant Say: Yardhouse Waikiki   s bday       (she DJ) amp dozen   noooooooooooo look lot pictures lol lol okay day hanging brianna saelina good   Went resteraunt NYC aaaaaaaaaamazing finally got twitter follow tweets lt3 http://tinyurlcom/d7tb38 Nice Photoshop Effects possessed certainty rite decision   nite nite bday girl fun concert break packing watching office Pam: quotI woken up look cute Thats knew meant itquot   ay buti pa kayo uy thank you   4ever man aswell love now want gossip girl too decided summer = spending lots Hey   back (robluketic live gt http://ustream/2w5v)   think hahah geez lady 3 hours ago bed Lack sleep bad skin best shower completely deaf ear kinda getting now Gonna watch the women now Wolverine fun Gambit bit disappointing smooth Cajun taste Pretty Good morning world haha fun movies night D school now Hmm new shoes better http://tinyurlcom/dfggwj o/*\\\\o (high five) fans finally here Ill write fancy news post shortly wanted mod ASAP   Aww nice watching new season dvd   ure welcomethank sharing excellent content Choir banquet couldve dreamed Im happy party Laurens THAT THAT FACES Robbie won watching quotIt takes Twoquot classic lol think things super chunk chocolate muffins kids pool party sherraton n brodi blast friends evening bbqd home great conversation funky n lifted day   hahaha secret door real batcave   know snooker though   ate huge fans   Good luck tonight fun shocked feeling sick happy   http://twitpiccom/4vd89  good looking cpl cant wait kind kids yall have Celebrating mothers day apple pie Caught Google Street View http://twitzapcom/u/aw4  couple good ones   happy sunday Time sleep 1am Night everyone Happy mothers day moms bali wait   Is sorry listen Bats GD it [dude got tell you but BATS AMAZING lt33]   McDonalds promoting McCafe (similar Starbucks) soon McSmoothies (like Jamba Juice) great night old friendswere quothometown heroesquotsome things change   lol thank Hope great day miss concert Tuesday already Id like time machine again fun Love family feud episode kardashians tonight Ive way round park jogging pleased 6th outing ok got nails day sweet Listening nin working break good show rock extra hard   Camp Rock   amp daddy YAY   Thanks hun Im wearing new goldmine e/s big false lashes show   WHOO HOO Congrats getting 200lbs attics eden today  thrilled prom went happy fridaynot happy rain twitter fam im hop AIM went ghost yall lolz sowwy Hi http://gayorbispacecom hope everybody safe amp fun weekend   Im sooo ready beautifyl day Happy moms day biggest headache right now washed hair wif mums shampoo gross like shampoo way better giving manicure + pedicure ahhh ive missed nice pretty nails   hey ty tip wifi networking talents Ill bothered LOL want cash cash   thnx 4 follow OMG meant   lt3 perfect Wolverinesir hehe   oh cute uniteddogscom Poppy Saw Xmen Origins Sat far BEST Xmen movie AMAZING   omg forgot that lucky thing hope fun x day holydays gotta work Anyway 2 great weeks heading Xtravision 2 Season 3  CSI Miami baby   Congrats knottie man   anytime thats Im *giggles* early morning golf sunny day   listen right  fun up coffee hand laminate floor lay Footy watch play living dream Morning twitts heading home great sleep w bf Tennille   Thanks thanks good morning tweeties today rested Richmond ready hit beach spring pictures today going schoooool   Thanks Fotoreportage coming soon   haha nice heard sweet hotel note good game night   awww sooo adorable old u video   happy birthday Im finally going bed everybody doing BLESSED Good morning Driving work happy motherss dayyyy sister decided lunchhmph decorated house  andd danced sang hahaa work beautiful sunny day Yes Obama   Excellent analogy workyy trying point smile lt3LinMan tonight   well sunday play @ horse night mex miss 4th Happy Star Wars Day    thank Tomorrow Mothers Day moms gift tell love her Monday morning Lots out waiting mate add style table im set Okay yesterday good went food shopping cooked chicken tacos bakes cookies work super happy new interest rate whoop whoop im awesome   hahah really guy said looked 14 dont look young goooooood morning Nungguin Sista law lahiran di RS Asihkayaknya sih sore ini lahiran Yeayy baby girl family cleaning day   good good then :o Oops forgot shave legs Byebye favorite cousin Bklyn nights row hardd #buckonellen topic things   OMG THATS AWESOME time im seeing day comes out Demi taking day haha   Thanks appreciate know unsubscribe list grow tomorrow LOL   need simple reminderthx   Ahhh knowww saw 5th 6th Newcastle good Im soo excited 6th June bday aswell ampampthe night continues w/ fav mazie kristina ericka ampamp robin   hahaLive long amp prosper movie better thought awesome job Im pleased relaxing fragrances SOO IN latest loves lavender amp chamomilethe basic ones trying find flower scents   good lets done wwwHennesseyBlackcom welcomes nephew christian world enjoyed 2 steak quesadillas Kinda mad cause Im gonna miss laker game http://twitpiccom/4ws3m  love family guy 2 hours work go finished baking cinnamon rolls soooo yummy Tweetie v helpfully shrinks longer tweet Brilliant   aww preciate loves hunnie   wifeyyyyyy likey u siky   wahahahaha wanna naaaaa wellhapit na guess hahahaha ) yes know hahahaha lol ) NARN haha joke love creditcardsized memory sticks Microsoft keeps sending   thanks lyxxx   looking forward new album FANTASTIC week London ATROCIOUS 8 hour journey home   http://twitpiccom/66sbz  thats actually adorable ooh miss dude great weekend One hanging Nick amp Brendon church morning Cant believe Loretta Mothers Day raffle again   Thanks lol doctors office woooo fun wotk cant afford off lovely breakfast mumyummy pancakes Happy mothers day     Like Simpsons Thats like asking quotso like breathingquot happy tiff cant drop BIO suffer nyayhahahah   Awww heard sweetest guy fans   Awww thats lovely thing u u manchester x   gutted wasnt lmao think im obsessed him bahaha Good morning everybody    LOL funny love Angels hehe Watched Yes Man good http://tinyurlcom/dbrc88 sister said yayyy hannah HOEdown today haaaa hannah hoe apparently hoe certainly spring Vail Co raining snowing mother nature know mountain closed ski season Hey   Thank #followfriday failed miserably list week writing report cards soooo tired amazing day check fb soon   good luck chan gue kmrn bawa backpack kosong helping   yay coutch:couch thing demands lot time anyways gotta breakfast watch narutos latest episode Happy Star Wars Day  4th   Happy Mothers Day goodbye     best interns Elevate Finally going home long night Ready crash awesome dreams Happy Mothers Day mothers HAPPY JUDDDAY   Happy Star Wars Day   totally welcome come hang wiki it it 10 Human Kindness Day Heather awake Wearing new Victorias Secret slippers sunny day brights day awesome day found rollo got happy hmmm guess need inserted matrix 0o sun shining im driving lesson DIY Im dying mg clothes black againsave money   yeah tell ha ha   glad hear good you Im great life good Aly amp AJ new album summer YAY amusing watching Pangaea sing quotF*** Killah Priestquot guess featuring album Sittin home hellllllllsssssss yeah Got girrrrrl boysssss amp 2 mangy cats good time life Goodnight twitter   Thats awesome dude yay surprise celebrities got meet years ago soooo friendly   Heyy teddy bear says look pretty Blake   Thanks btw mens hairstyles right now Im growing hair long hope good weekend exams thennn sexy time Watching day air hit 10000 views myspace Thanks everyone   Hope ur havin fun da club Haha $1000 bet settled $100 bad   wolverine GREAT   heheh qualifying pretty exciting tho  got nasty argument normally like much forgive well   quotIf paint fingernails green oh happens paint greenquot Marvelous time fly im wade weird like it lot   day: http://tinyurlcom/cumqmv   RUDE going cabin drinking lizlove im proud momma finally learned properly TWIT Wake xx tired moment listing music happy let wake baked cake amp watching movie   thats Ive working onuse AppStore phone  theres piece puzzle happy star wars dayyyy =D hbd uncle LEE   TestFest weer een groot succes 24 hrs GRADUATION Going tonight celebrate   Ah brilliant Thanks bunch         Victory need reinstall damn apps found great vegan places eat relax at cant car early morning~2:30 am~whats up am~~played w/ babies outside~wow~was 80s~felt great~~got lonely misses sissy jess loving phuket melai badette ill coming home soon imiss   good girl nevah tells hahahahaha hope good weekend south style exhibition week member fresh gallery otara old phone gosh miss phone   Hey bought Porter Cable 4piece set new drill LED light near trigger Oh Im happy     hope guys fun Cant wait yall back Wilmy fun dolls tequilllacarne asadaand mom dancing funny Yaay congrats Shmolan graduating Im proud you fun lt3 study day finished care plan hungry hell ima treat burrito good days work Im feeling higher Mt Everest Hey guys Im going create iPhone app thats twitter client called Tweetilicious   thoughts   yeh 2 Tiesto Vicky Park  excellent   washer se chingo ha ha Im busting grandma lucia waaaaay early 90s lol way grandparents Paul Scanlon sharing Gods Word morning hes sounding bit hoarse touch *#cold* hold Pastor Happy Mothers Day mom haha watch funny ass video youtube day   Im Devon weekend Cloudy dry good morning gym   Dude awesome love App things hella awesome bro pugged ready go device updates on feel free bombard time Time actually done   Thank   : Sir  Great InShaaAllah   wake 4:30 week  funny Deathcab makes think you (amp use calendar track work hours)   tv  im watching 70s marathon  live long prosper #fb   Hehe found Wikipedia page movie Lastfm confirms it Thank you http://isgd/iPrR   busyfun mothers day thanks got wanteda Wii Fit Yay like Charley Biggs Chicken @ 7:53AM   time write tweet smile let   great remix it Double Wow   thanks FF wink   enjoyed peg bags Ive adapted design tote bag Bit cuter normally Ha ha 1 point men Enjoyed seen night tho bad night financially Cant wait kick @ drive ins pj dayyDoesnt happen veryy   good morning 3asa mo bs important classes  :p reality tomorrow think dig cigar smoke good one Yes bought 3 boxes quotGOODquot Ones   hmmm toughie haha alike tom questions xx Great dayRode beach cruisers town Culver City Antique Car Show Found bike http://twitpiccom/4wn71   hey cant wait 4 u guys 2 come 2 jersey woop hope ur lookin 4ward 2 coz r x http://snipurlcom/hq0n1 printed mom Amazon gift card Happy Mothers Day talk minute   awee anthem right now leave high dry  http://blipfm/~79fcr   whyyyy hellloooo Thx 4 checkin r things http://mylocme/G4p ok   saw u joey thought u looked interesting like things #SanctuarySunday   video tape hahaha    funny msg fb time actual link today received 5 messages   good theyre realistic like thinking it   sure wife like cool cats love leave laptop bed creates nice toasty spot yay sing loud wed fall boy time low cobra starship friday WIN mum happy pretty small present^^ oh wow tomorrow test presents: pasta recepies   diapers Feeding Cooking stuff Hahaha yeah right Sounds like normal day me   Oooh neat Yes SF good food Again jealous SF people   yess came amsterdam 18th april best night everr you Sayin good morning everybody Office    quotGood Morning youquot too Greets Charlotte NC USA   haha best thing office birthdays hey   car illusin Kool // happy Star Wars Day everyone 4th   know cant feeling away melt3 going lay amp watch movie   biligual sweatshop LOL talk 2 much got r6 fantastic shows row   Yeahwe shite alot here shiiiterhyming light   be richards ill you/we good luck TIME LIFE   AHHHHHHH 16th birthday cant belive found im seeing yous tonight Best present everr lt333333333 http://twitpiccom/4jcwm  YES #ubook Lenovo T400 finally arrived   hey girl sent ya message Myspace think im obsessed MGMT kids lt3   Yeah Myst Enjoyed xmen w/   time rest drive homehappy mothers day twitmoms   LOL thanks you nice meeting aswell looking forward tweetversation cute new week = new legend make bed  hot date Sudoku maybe chapter reading stay awake long great night tweeps long day work Stood home sleeping long day work tomorrow amp happy mothers day mothers   haha awesome use eat   same peer trained peer taught peer learning   yay found u great time tonight   going hiddenfile thinking youtube NOTT Lol Hey phone swimming Hahahahaha rember riped william picture claires mags beated zoe   like you mean random person obviously know you but think alike Gooood morning   awww happy birthday Going dinner bbs   Im watching videos YouTube funny David Oh TALENTED course London tourist thing http://twitpiccom/670ar  post guitar hero ass kicking hey chelsee amiera ltufcgt 2 days till birthday hope weathers good best good thursday friday il scream happy bday keiron Guess what mom adopted kitty today (11 months) Corky   welcome   lol thanks finished work mondays agenda: class/final semester work sorority meeting happy hour   awwww jim jam were good dodging meatballs WOO   come out   No $16 good price considering going see Right found Ill Food Engineer future life Cool *iPhone app called Afterlife tired Dinner good churros good   PANGE AHAHAHAHAHA meet drinks lol haha funnyyy lol im talking bestfriend ashleyyyy Thinks gonna rain   red font nice old entries Haha Lacey shutdown livestream Party time     ladies ghost girlfriends past liked it amp totally u Hanging kevin tomorrow goes productive shout Sanjeev thank follower twitter   thanksmine bad card mom nice nap finished work wrote bills surprise   Aussieim hopin Sydney week got VISA thursday whoot whoot   great hear u today U r best wait u cruise lt3 Cindy sign Happy Mothers Day http://bitly/LRSnG TV Canucks game score yaay come VanCity baby (I know cant believe Im watching hockey either)   hahaha ok hire mom paiseh haha shall washing 3oh3 radio amazing yesterday Meeting Karen boys drinks Dock wanna drink though fuck like Andrea said Haha Jon greatest dinners ever: roast pork tenderloin bed wild rice bed mixed greens amp yummy sauce wine choosing britney dance showcase yesss cant wait 58 days   Ah veronica pleasure meet Im stephen   LOL Girl video disturbed love hk theme cute MORNING Hope lovely holiday Monday goin to play game apple apples wish luck   lmao baked nonstop Sounds like yummy fun ok sOooooooooo that ive got u palm hand received Leeds 10K bib timing chip  hip injury means breaking 10K PB time   hahaha Guess reinforce skates haha Remember u r friend semiGod gluten intolence   good time Happy mothers day god mothers step mothers too sang quotShinequot Newsboys car   Holla   think starts 730 david archuleta throw glitter aha xx  good morning peoplee looks like going nice day today better week raining =( finished essay dinner went brother acted like kids spoon fight fought woould sit sisters lap soo happy frustrated time :] :S Ohh noo Britney recording new video Radar Sooo ExxCiiTeed new nxt wk great day moms sis makes ya appreciate days   LOL know ya mean Watching act fool better remembering acting fool   woohoooo ) BOTH retail therapy surprise visits things love   thanks sweet dreams too nursing scratches bumps Festivus mud wrestling swear theres dirt hair good time joined twitter thanks MampM caught emails research project yay labels search #gmail easier weekend relaxing one cousins place watch tv series quotTru Callingquot cool   Hey thanks great day Im going sleep now Ill chat tomorrow Sweet dreams Enjoying view @ sg flyer   yes yes should Especially wine mushrooms Ummm love mushies   wow cool that guess 18 haha follower http://slingalinkcom/eVicE1 daughters kindergarden  school feels like gonna great day   went well Andrea   thank sure u read groups description better understand project oh yes Level 40 going attempt cook chunky beef amp mushroom pie tonight mmm im hungry already 1140 AM wanna wake up Shoo roommate shoo work tomorrow Good times Revision   whaa should 2 3 definitely optional though liked them Im crazy   enjoy congrats thanks recipe well tomorrow morning   Wait  cool sliding door Thats oxymoron   hahahaha wtf dianne twitters loli guess depends person is Cultural tour 102 loiusas family: kangaroo sightseeing cemetary Lovely time baby bye bye Tweeters   thats funnywell ill bye b/c im deliriouslol worked 13 hrs thinkcrazyanyhoo bye lady Today good day extreme experiences fan #24 Im watching season 4 Ive knack iphone got melted chocolate speaker cant hear rings needs help images let know convo forums link watched Star Trek A+ done think Im again wants join me Photo: Got prints days ago ready NorskArt exhibition http://tumblrcom/xht1phgl3 globe theatre rocksnothing better romeo amp juliet supposed watched   ahh gtg pls help number 3 Ill come later u said haha plz thank u   ahh Yay gonna it   excited booked tickets Vegas (we live UK) cant believe price tickets   Yep finished chocked spelling grammatical errors Im cleaning tomorrow popping hehe   good interview read enjoyed x   Norwood house party haaaaaa Yaaaaaaay (smiles) Im seeing protofurries here think it #acen   Ive   now case yeah start work tomorrow excited Im feeling better tummy   Excellent know lmao   hehe hear right ear yet   driving insane want lie in joined Twitter Hiya world play N64 anymore Super Nintendo days best haha flashbacks   guns roses baby yay hopin blipfm [Aeroplanes  Know Plato] favorite WKP songs  http://blipfm/~5jq91 Went Muslim marriage time life Came stomach tasty briyani like much Hurray quotSummertimequot starts today meaning work 4 pm instead 430 August Yay   Friday sweldo day   positive thinker sure keeping around got  ohh baby got itSINGAPORE Im going rock city   Welcome Twitter cool here Greetings ViennaAustria   fun meeting Tina Well definitely soon   Great job   testing Hey gotta add follow   aww happy mothers day girlie kingston lucky great mommy Aight pau auau Heading Blaisdell Arena Ladies 80s concert CheeHee Awwrrite   hey song that like listen   http://twitpiccom/4v0vr  cool mother awesome hair styles Wish happy mothers day     true   u downloaded tweetdeck yet literally amazing xxx alright day going well got home potato salad gone Getting hair bout hit club  Ha u later  Smooches   email em email gave u thanx awesome person   thanks let know print gallery like work details fun bacontaco night Belting Normal fabulous evening choice   far (with exception rain) morning Great let dampen day   Hey Miss Jane you goes film Hope good family Fun had Good morning RSA Twitterverse send happy vibes amp cheerfulness today Im feeling little sad finished   s Zombie Chronicles days ago bittersweet need new gym N end wise great nite Excuse dream little dream currently munching baby carrots nom nom nom nom kind excited school today dont know why hopefully good day   Hi Serena want good luck Madrid Paris month   rocky kind little rockpools amp octopi amp shells amp stuff want beach perfect overcast day Drinks ampamp din w/ Amy Lori Employee orientation serco yayy Im excited/nervous Wish luck   turn closed caption  read watch animal planet tiime   discern request Hulu support excellent idea Missing husband nice wake parents house dogs ecstatic finally got set keys store celebrate good morning twiggas twitches http://bbltwtcom/sciif getcha motivation Thank god Starbucks cooked breakfast mom HAPPY   haha worlds lol   Thankss sent text morning saying happy birthday number told night LOL   ahh rock BOOYA Sup Tweeps Happy inFAMOUS day all soon Cant wait play need find time Coool  Weekend wasnï¿½t great eeeh Whattttever Friday better expected be I http://tumblrcom/x9i1qwu42   YAY love new ppl WOOOOO ton fun w muffin today OFFICIALLY CELEBRATING 400TH TWEET Wow proud great   Awesome Wish fly   actually gets rid bacteria thaw nicely   lookingbut lets sure lunch week third/chapter cover page yay   Good Evening Terri missed lately hope life good you wonderful evening  Hey Tweepsgood morning Wussup AmericaTalk tell wuts ur mind Ryan Stiles funniest man ever Got great news great news tonight happy burst Degree [Tear] happy moment http://mypictme/1ZpF   http://twitpiccom/4j9cd  whoaaaaaaaaaaa RYAN smile Woo hoo happiness score 612 Apparently overthetop happy Considering week Ive had blog updated   sounds good hahaha working ready go Omg seen sun moon place disproves theory person car home Yay $61322 Boo Im paying mom installments gave $200 today need win lottery :\\\\   Thanks Gifford Lectures page Wow Hugh Jackman TOTALLY bulked Wolverine moviebut helloooo nurse Hes dreeaamy Yup crushed spirit mend   hey thanks mate cool coz watched it   interview tuesday things turning think yay dont worry Japsicans rare breed )   ur welcome sweet dreams   think fun gotta hide defend enemy fun huh   okay thanks Beautiful day Northwest River Park Mothers Day movie night Church tomorrow going insane cant wait   Ill register thing wake tomorrow Looking forward forum too [Sarah Mcglaclan song background] donate jpnnbak fund quotDinero cable billquot think   Ashlie thank you feel little better Getting little mowing grass evening fun   peanut butter soup amazing else soup higher form amazing Yaaaaaaay bday Oh yeah camera clipping problems Void completely fixed yay fiddling   Sounds like fun think LOL naughty ironing watching NK porn youtube instead LMAO   nice meet ya   good day  lots stretching sleeping sun   ohh shardup hehe hes hot lah gotta admeeet bleh excited jam + auditions   Thanks interview mama Enjoy night   WISH GOING TOO coming nicoles preprom   Cant wait preprom   it sure flat HTML WordPress  Fun fun fun up lost time jelly Jalan jalan 2 rollerblading pumpkin Happeh   also try Friendly Fires heard them great stuff Florence Machine Great great music   good morning france zaccie   tilaaa feel special haha haters days Chick fil morning finalthat must *amj*   parade yesterday Powderhorn Guessing Ava Bella similarly mesmerized whimsical fairyness pik hair braid up scrub relaxxxx tonight fun playing pacman boxa achvstaking GS exactly 47000nice   went john grisham instead pleased amp suspected thing lol hope tomorrow better day woke up breakfast online morning (except holidays weekends) haha bath school happy crepe again sleep im SUPER DUPER DUPER excited pour la PARIS love city know Mom gave clean Macbook white now tinted grayish blue black desk sun shining brightly day begun Whats store Wandering les calanques maybe Vin definitely   THANK YYYYYYYYYOOOOOOOOOOUUUUU   haha thats awesome cool horror movie death scene Maybe coolbut amusingly ironic went got pedicure manicure 2daii den sunbathed daii BEST DAY EVA oh yehdid teeny bit study Yay sale RedBubble  makes happy http://bitly/1gURq   loved movie miss Raul Julia   Ahhh sooo happy Ashley Tisdale Germany Oberhausen TV 8 o clock   LOLhe cool shoooooot   adore KPOPPED site  http://kpoppedcom/ haha   Thanks hun time well Day going far Meeting 4 though Good morning took longest shower ive taken life Like 45 50 min shower Woah lol Finally started Twittering got up downgrade colour pictures etc simple small sized text messages somebody smuggle sydney ill slave eternity got home today fun    son plays pitcher catcher Beautiful weather past weekend baseball exhausted   Oh ok then Ive wedding heaps nice there Im big fan Qld   Hi Nancy fine (till baby moves) house amp fun stuff early hardest jump 1 2 Happy #starwarsday   heard grapevine today Looking forward meeting you   Gotcha place Atlantic side Better surfing Plus like close crazy foreign restaurants Mmm FL   lots pics pretty there lots palm trees   congratulations like new trend  whos  http://tinyurlcom/qcy8d4   Yeah poor Yao Hope u fun looking Lakers JerseyZ haha Enjoy ur time buddy  Happy Star Wars Day everyone 4th xxx writing mothers day cards mom aunts AMYYYY cant wait mommy   YAY Hope day work wonderful Sis Bank Holiday England today work   Thanks making laugh   awww glad know Little Sweet Leigh goodthanks updates Howie   like green taste minty  heh heh   ill lookie sound great Im going sweeney todd stage best friend bday today (I know Im going sings along) started new job today aaand stoked long billy awesome 4 hours shopping over good effort Best = chocolate shop YUJM yum Twas good show liked Ciaras song Time bed Gnight   saw pics awesome   comes you atl jljf swear fun theyre fun   nice beta easports news online madden   Great idea looking forward Bens baseball game tonight find poetry book dads Im tear room looking it dont Im gonna sad trip Stockholm got cancelled Im planning shopping tomorrow makes girl happy like shopping lovliest night night ruined doctors inability warn effects tests walmart playing hide seek   thanks JT enjoyed will r u following me ill follow u   Hey welcome VA LOL muggy DC too Worst summer Id Happy Star Wars day   Im sorry hon know feels thoughIm usually crazy family gathering Id probably hold like Raining Welcome aboard 5 new followers Thanks Im honored   Thanks much tour soon new books pipeline   forward starting teaching new students hypnosis plenty laughs Im sure   Sounds pretty cool Great job man   Thing living undeveloped pictures future Hi all recovering party looking forward exciting bank holiday diy shopslife cant bettersurely 639 baby GOD SAD oh lifes partaaay xxxxxxxxxx fun 2nitei pleasantly surprised   Heh moved house Pius pep rally cheering band   Thanks link smile better way spoil mum let kick relax nice meal bottle favorite wine wine red venture forth Turkey Creek amp fetch boy post prom festivities Hope fun     thanks homskis like christmas   Moooorning Fancy coffee Im packed amp leaving Canterbury office amp fab QAampV colleagues time great bunch people miss xx fourth you happy star wars day fun time allegra tonite saw 17again good movie   dear ITTO possibly bad Xo *[ time TSCC ] sun shining great day   Happy Mothers Day   addicted sociable Oh HELLA forgot official good morning Like hear it go Goooooooooooood Morrrrrrrrning Twitterville Lol   like quotRocknRollaquot good film rock title   welcome you Taylor ) raining :// Cant wait concert x   long till shopping dude gunna fun   lol sounds fun Order Pizza Pizza Girl sing it love new song excited new song JB PARANOID 4 days Sooo readyyy summerr babyyyy working ass completely happy   amp chicken soup amp Ill good excited Lots good things happening workwise Melbourne school Rusty Oh Love ipod awh morrrning day random awesome weekend gonna round dbar style good timezzz   think bear cuteness early day Kudos Fair Empress Happy Star Wars day  4th Good Morning Campers got LOTS sleep night Thank you Thank Ash Thank You   Aww Thanks Glad appreciated weather yesterday   OMG Taylors London near Scotland come visit Glasgow Oh oh Going shopping best friend today Yaay Going fun Need alot new clothes got VAST amp KICKED ASS mindblowing live CD Sang fave songs Im n awe happpppy mothers day   White wine reminds vinegar Fab wedding yesterday feet sore dancing good sign V glad wake bed morning   ok Ill reached 3000 tweets dreamland good sleep talk later    fantastic   know sub sooooo good Chillin rents looking hilarious old photos funny brings SOOO joy it great song  http://blipfm/~5z3oq says 2 1/2 hours go uwian na   [phplurkcom] http://plurkcom/p/sun82 Excellent Suzaku 7 woop episode hope happy im sucker lol shh everybody awake (well everybody u know mean friends) haha Im fun AIMing   lol good morning Ran 4 milles amp hit gym great day Chillen Csla Waiting start Watchin pacquiao rerun got working out Im feeling pretty good work 4:30 Home Disneybest time long timehowl moon tonight GBA BHB Tuesday oh drummer boy niiight Ok found way now think tonight lets let dance time start Spanishany min nownope cant it xx   yep heres hoping   thank accepting request care little girl maybe write later happy clean squeaky clean   theres pow wow chicago area definitely check out theyre fun Happy Mothers Day Hey fun friends Now cleaning   Swine Flu victims unite http://oinkfluinfo   Yes fun connect her Pls tell hello cant find Twitter Good all: hanging dad 2day looking job still 6th street amazing weekend wedding fantastic im tired work long eventful weekend   yeah Im jus glad thunder stopped    aaaw bad  im good mood phone lol   Yay joy department glad Friday got work Im tired Awesome night ahead: BAD v Rat City favorite skaters track #fb haha gunna buy bunch emo/punk clothes   website Im developing  http://woosh lets share Videos documents maps events  Later music @ inthebattle cute favorites Cubs: Wow Big close 3rd Bangbang play 1st amp starting rain   @ Cambie slightly event leave Waiting feedback though Ill u posted   think ill that wanna out Loveyou xx Montdays award ceremony http://twitpiccom/4jkvl Goodbye sex city let hurry mi cuz paper work    2 summer BK  JONAS awesome watched Groovy Movies Frankie weird lol   im getting weekend aw want to Im happyand drunk happy   nï¿½o te vi onteeeeeeem   Fine thanks long till ChristmasIm excited   want massage   Come hang wif meeee ready day presence im expecting best   Good luck footage  stations breaking live   Yes Goodmorning yall woke early fun night chilled wit homie @ green turtle n parkgood timesgood times   awww thats sweet TTT Im sure love it good son BBQs gone  Weather stayed good right bonus bed training morning 06:30 work aww son gave purple g shock mothers day Looking forward orange juice fried eggs cinnamon rolls tomorrow morning   yaaaay mish following gab @ home nice nice currently playing list 10 days Freedom Damn xams   love new website Covering portfolio send *dream job* ny Send good vibes YAHOO volleyball hiking eating fish eye witnessing sleeping beach jumping rocks amp hanging Jurassic Park filmed   birthday   night Girls Night fab effort dressing   MISS TOO Yes Im usually free pag dinner Rarely day Basta text text   yeah knew link HES COMPLETELY AMAZING SINGS PHANTOM oo studied today outside ben+jerrys wearing sundress hopefully awkward tan line haha   Oh yeah lots rambly goodness LOL mail Bed early me ) Probably Im insomniac huh   Weird Maybe updates sent phone Haha yay only sundays maid came house clean again victory bulldogs celebrated 3 white chocolate cheesecakes nom nom nom WHATTA FATTYYY   know what cowboy hat pic smile today (you Japan) HAPPY MOTHERS DAY MOMMIES   welcome home happiest girl world best weekend cant wait weekend either grateful blessings   stellar 2 look great Im Costco bit print photos photobook AMAZING time night McFly INCREDIBLE whoohoo went movies junk food womens night mwahaha gt   thanks that learned new today enjoy know saying fuck itIm horny hell home stretch now Friday night Ill piss drunk finished exams Good Morning Happy Mothers Day Aarg looks like home Vegas weekend Maker Faire Working baseball fundraiser 10% percent Platium Diamond wedding package let know saw Twitter Yes   Itsurely dear  posted presentation Swine flu yest got 500 downloads dayi feels great finished recording improvisation second instrument latest podcast happy nearly mixing time best weekend   happy provide backup support murderous rampages Good Morning people great day   lol thanks babe sipping OJ sun San Pedro La Soberana again sunny smiley Nita garlic tomato paste delicious Yummy   fun guys Were 55 days phone ultra fast latest firmware updates installed   worried Im safe sound lt3 you Orange/Pineapple/Banana smoothie long hard day = HEAVEN   Cmon like superpower explanation better LOL   forgot answer kindle question yesterday honestly much paperback books want 2 read first good day selling Feria Urbana ladies love lasercut felt Watching Miley Cyrus youtube   yay soon Got shopping wife Tescos knew day going well Listening dashboard confessional amp counting days   concert 16th     Yay Lucky Whatd do   hahaha laugh   heartwarming indeed Ill looking forward day world im chillin bout money economy money easy money anymore diamond compï¿½tition  yaayy tomorow DIAMOND DANCE  best  montrï¿½al  Goin mall gonna movie ghost gfs past hope good im goin ilook cute feel good ^^ Downtown drinking celebrating cavs victory   hear ya photo album im good person private now pity ben haha   Yes Mitch Hedberg floss thing Hes hilarious lt3 him Poor guy   welcome hun amazing people  sure hello them Dgroup Saturdays little bit football hour nap 3 hours soccer basketball TSU Yogurtland Lifes Good seeing Star Trek tonight Super stoked   yw gets hot middle summer like 110+ right perfect hour away   Oh no guess Im officially big nerd now heard movie great like Trek   Thanks Im making homemade lasagna mum today   knew it use love Happy weekend too   word ima summerjust lol Sunday morning realised im film snob said MSN entertainment   hot cuppa coffee milk amp fortified Monins Irish Coffee syrup Bliss   was took advice enjoyable small wouldve come lol Haha exciting wat look like lived bands performance pretty damn fun YAY TAYLOR SWIFT come australia again Lossing power house alone fucckinggg cool Party cakss   course u mind old ppl mom came home FINALLY got guitar strap yay Bleah tad tipsy cup cakes Maddies birthday tomorrow + family party find John Mayers tweets mighty entertaining hearty laughso thanks John Im eating flake storm hungry jacks americans it burger king Aww sunny day Tasty barbeque family (: Got bad sunburn   favourite pastimes weekend long weekend Monday Im Ice w/ G/daughter ) got greenlake nice day today   omg 2  Haha half hour late 4 work whoops  Hahaha h8 workin sat mornins   Thank Natalie hope u   LOL yeah forgot TweetDeck statuses funny 1 lovely waking   hey Lonnie Ill weekend cant wait   Thats ok Yeah good night thanks Glad too Hope enjoy BBQ good morning   Woo Hoo time play quotName Twunequot Humous Doritos Oh yes   #warmfuzzies you friend bed enjoying spring sunshine streaming window woke 5am rigid extreme pain exhausted im positive today   yeeeeah    seen Empire 100 computer games http://wwwempireonlinecom/100greatestgames/   silly thanks props Watching Fine Day eating cereal Start good sunday good movie   yeah school sucks totally yea grateful got better place man cant tell excited hul happy mothers day   im gunna juhs way talk ta yu lt3   Agfest pretty awesome loads people lol   Dang Wish tickets Sundays game Thanks Synn   Body Tom Novy Voodoo Child Rogue Traders 04/05 Good memories songs     told yall good girl halo   who thehandsomebluebeast hhihihuahauu Margaritas Momo Ive missed her watched movie Holiday forgotten feel good movie was Lovely evening New baby arrived yesterday fab baby boy 28 kilo proud happy   pleasure great recipe Home bed Im super duper excited tomorrow   yeah paper final left: algebra amp birthday (june 3) mother drunk grrrreat okay mothers week   Thanks hun great good mood   Good Morning thanks Retweet Good morning http://bitly/Tjvhv love bank holidays   trying best luck   yeeeee Haha funniest thing dudes cant ball bring hot gfs watch murked going home awesome time peeps   babe text email address send     got grubby paws live recording paramore hear better chocolate Cheifs beat Canes 168 table Wooo and Sky Sport Virtual Rugby points   YES final party better good  mpre stuff got go   nice wedding ring shiny   Nice submit failblogorg   Ohhh want Coraline good Michael Cera new movie Im 5K running race alive   guys moving LA far shall castle leave   cheer buttercup Rain away hearts mend actually bet $ that   hahahahahahahahahahahahaha interesting Twitter useful reminds people forgot ask given day excellent inspiration   enjoyed quotwhats namequot article   nope husband golfing amp tornado amp playing Im spoiled everyday esp sunday (tattoo )   oh cool gonna van  thats cool live victoria ur pree awesome girl    you retweet good tweets 10 day involved things twitter   yup  thats watch movies ok peeps good morning Im going bed   hit later     care Eurovision yes 50% jurybased vote year #eurovision2009 http://twitpiccom/4jj43  Ari day long text conversation me   OK David talk later great dayyyy ay ay ay ay   Thanks Busy fuck good book wow someones proud me feelin bit dangerous watch tha vids http://bitly/9X0Us Working Listening musicTesting new singer/guitarist tonight lets hope best   too Happy Moms rule kids day c key stating work yayness Met Mother Best best life mcfly rocks world wanna meet guys    lol  gotta share 30 year old Barbie dolls rock itthat girl HOT Ken aint bad either memories 1 day Birthday    Thanks recommendation way homethen SLEEP Seeing Amber Pacific tomorow besties   hey heyim finishing 10th june Starbucks Farrah 4H lamb meeting fun sunny Yay play horses afternoon Clap clap clap 2am feedings baby fun smiles coos   HI Im Eunice Kyna Im HUGE fan yours Cant wait album ) FOUND PROM DRESS   Im passionate interests mean followed Wiggles right   kicking incredibly oldschoolï¿½ wholeheartedly approved like brides sense humor wore wedding gown onceby accident http://bitly/Tnshf week 516 hits guinea pig pictures webshots promote them Way great time flags yesterday summer friend spent night night left im bored long day family Im tired now fun getting excited thorpe park tomorrow   good luck #twpp hours time think way home fun great time kc http://twitpiccom/4w3fi Chillin roomies Cant wait zombie CLWN CR gonna 68 weeks Lobbying twitter too Yuk Gettin rid groupies )   man 4 months drunk tweets im gonna shower now gotta rdy 4 movies couple hours byeee ~~ Esther lt3 pss miss u katherine trying figure twitter thing out Im excited Hi getting tought write something Today im gonna shopping Soo fun it   Yay fullterm   adventure least Ive nicer parts Norf London stick south today new view window http://twitpiccom/4jbx2   happy birthday man ride wedding ill guys soon though play JULY 27th http://twitpiccom/4wff3  Got pretty sweet stickers   Happy Star Wars day 4th you came seeing boat rocked amazingly cool movie definitely getting DVD Eating dillybar DQ Yuuum Tomorrow warm day reason like sun much xD Ill swim D thats better xD soo wanna eat McDonalds Fries   Good workIve managed turn studio on envy productivity homehad great day http://plurkcom/p/svkc8 airport 8 hours til hoommee Star Trek HD Im impressed Beam Spotty   thank linkvery coolsee monday   thankyou   Peekaboo you Reached Bangalore gotta hunt rooms   hha yeah like heart weve met shaun bradie real ) delicious sushi niko niko vermont hollywood mm       Caladesi definitely nice peaceful way spend Sunday got lil tan   live pain bring   fo sho im   Good morning know funny thing packing E3 packing mexico E3   would know phone overall tonights snl = epic win rosales cool   crazy busy here *grins* Mothers Day weekend Lots abies sending wishes hungraaaaaaaaay ill eat away Twitter   LUNCH weekend Saturday Partytiiime   thx 4 following r band kind genre play Nice meet   haha thats awesome good job Limo Rides City Dinner Cruises Harbour Makeovers amp Foot/Back Massages *yay*  hope fellas OMJ 3rd episode Jonas great funny wish Pizza Girll Lol lt3   thanks twitpic sure laugh   Awsome thanks JoCant wait xx   Thank you Tomorrow bday too tease Mom tell Mothers Day gift finished YSC runthrough service gonna awesome  http://tweetsg FREE UNLIMITED RINGTONES  http://tinyurlcom/freeringring  USA  Awesome 4 iphone dance gavin dance/attack attack/a skylit drive tonight im exciteddddd   thinking quotI tweetquot Well duh  follow you cant can   Hello friendyou found GBW doing Glad twitter learn German   LOL Lets find quickly YAAAAY think Aced history test today   yes DO Or rather did finished it Starting Dead Like Me lollll~ cold rock choc mint+bubblegum+cookie+flake+nerds= YUM XD  fun day   hahaha *massive* compared others sweet Scenie gonna beautiful day random night fun im chillin home happy mothers day   Haha same gonna awhile til comes sweden think Singapore warm here blast   http://twitpiccom/67gwh  bwahahahahahahaha nice want doggy   Oh okay random taste blood mouth makes quoteww bloodquot Haha Rockstar photographer shoot went great tonight little different usual stuff  nice fun Airshow boys today  exhausted   Joined facebook   baked dinner yummy cant wait new short stack tv kind dips shall be Wearing exactly clothes wear Canada beanie (or touque) all Ahh brings memories miss snow alhamdulilah got accepted nafa   Woah Haha Thank you   Thank you check Great weekend good mood mind work morning   Weekend quiet planning new websites Today research choosing hats Coffee hat sounds good though Kettle   shall win   Thank respects designer     Hmm tasty Going curry rice peas probably ) watchin girl wants mom brittany saturday night live amazing amp makes laff lalala love timberlakes sketches funny lt3 Hurray old friends beer lady friends   awesome job night wants welcome   Plurk again http://plurkcom/p/rp5po   haha yes whoa showering session   agree totally think point Everton Liverpool beat Man City happy days Dump worries Stress Fire Fun profoundly freeing http://budurlcom/c765 big shout home girls know   thank you playing moment ago actually different chill version *spooky* haha So finally got Twitter Lets hope good use site got home bought twiggies toothbrush promises teeth 60% cleaner  http://tweetsg Today check day week 12 Artists Way Hurray time celebrate good completed journey yum  mothers day lunch Food Business Burnside delicious gorgeous day   busy lovely time listening jubey snoring phone hehe goodnight   loser) baha dude im gonna come amp pictures myspace quick   OMG $50 coupon time you Im obsessed catalog comes mail   Haha like him   ive seen inkheart liked Mondays bad sunny #fb   Extremely so Im incredible mood   Smooches well great day quotViewers LinkedIn profiel viewed Barack Obama Francisco van Jole Erwin Blomquot Im good company wake early goddam 730 day bummer hey guys = ) went Jennys house today fun else u guys doo   thank you you importantly foreverr happy mothers dayy Yay :]   hehehehe silent   Thanks follow Wish 95 plan open shoppe TC economy turns     glad break twitter virginity two     thanks following me making margaritas watch Milk Good times love favorite shows acronym lol   wwwyoutubecom/watchv=CyJvgnP9vA sowwwwyy U girls twisted time   idk original great   yeah r im going concert end month ah lovely day bike ride cake making *is rooting 4 revising* best X rockin minivan til STi ready miss     guys literally going sydney june/july hols meet wanna try lindt cafes think Ive early Sunday while Meanwhile #bigweekend awaits   know feel lovely relaxing weekend finally leaving place woohoo school time birthday week today   great song cant understand lol   Amazing concert city everything awesome trip   Thanks song Youï¿½re awesome sing day   good  cyberspace   Nope Im way home now Chillin following cool people Yay Bannerbomb Wii finally out run homebrew 40 Wii   74 quotquite alrightquot plus side ate cinnamin toast crunch breakfast eating strawberries Welcoming cimmarongirl Im proud   wish love u around Ill do ) try use national champ pull lol whohoo Erin got accepted Ottawa U nursing school Algonquin Pembroke campus girl http://twitpiccom/4wh0o  mommys gummy mothers day posterrr   aw anytime boo realized need fun guys change pics poofy hair ones   turned great killer workout beforehand guilt Whoop got prom date today knew Haha cant tell who Listening olivia play lol watching shark boy lava girl disney channel hanging sarah jane micah amp rachel phone keeps beeping me thanks alan speeeeeen far gone better expectedsure helps raised dog feel im things right   fun glimpse life day new job bought new clothes 40% employee discount yays poker win sketchy student decided today lawl Feet hurtfinally bedwill forget crunch oververy productive day today work   Yay saw Hannah Montana Movie today best AWESOMEEEEEE Hannah Miley RockS lol   thats like hear unfollow little people Twitter big u Flickr pics Chester Zoo: danwtmoon posted photo: quotWELCOMEquot Chester Zoo Jockey http://tinyurlcom/cq7qw8   Hehe  Thanks advice choose shoes them hard  school day high school ever ever ever Good Morning Twitter Bugsssss 8:48am day starts nowwwww   finally pic cya like 16 hrs haha says Happy Mothers Day Moms http://plurkcom/p/stkr2   Ill listening Hey hey happy mothers day http://plurkcom/p/svwii   great project Wish DD1 old now   Hey glad Friday happy ate bad apple   good morning like homemade paranthas breakfast   yeah  got home day pampering shopping white outfit totally complete   lol congrats Oh Northern Downpour radio mean CD anything normal radio station Woohoo ready school absolute wonderful day super massive sandwich mom nightOhh yummy Btw Happy Mothers Day mom   http://twitpiccom/4jf46  hehe cute pose ParrrttyPlaying twister getting tipsywell lol   Haha thats great Yeah Zachary Quinto Spock awesome indeed   WOW cant believe u reached Facebook limit # friends Crazy                   magic Rafi singing Shammi Kapoor    Thanxxx  message wanna leave  )=  BYE    making hot chocolate almond milk Mother Day festivities starting early watched happens vegas good congratulations penjiiii  calling soulja boy mcbaby lol   start true Franchise online mode Dynasty huge Madden online league Women Science amp Technology conference La Jolla  interesting day Met great people   punching bag here ive touched it covered brothers sweat u use u want hehe playing guitar hero waiting Abby text prom bring milk cookies   Awesome thats wanna roll mogul status love time starbucks   fabulous combination till A arrives B bill comes Fun chatting you good Sunday Art dees place Woohoooo   good morning Lincolnshire use exercise http://twitpiccom/4qfl3  haha^^ love try play John Travoltas quotGrease Lightningquot bassline cool   thanks Im holding mini laser light thingy lol u FREE UNLIMITED RINGTONES  http://tinyurlcom/freeringring  USA  Awesome 4 iphone realized im tomorrow goin beach wana come   thank  spending lot time PC focus determination Thanks twittering me newbie friends like invite here help girl   demi think itd amazing covered thats paramore haha im sure know spending time mommy later today Whoooooo Spcn 2009 ready cheer   Getting ready quotrealquot day work monthswords encouragement welcome   relaxing thank you Hope feet tomorrow enjoy day   hope going well wanted u know im home now muah Jon amp Kate + 8 kids attracted huge TV audience tabloid headlines and now state labor investigation http://tinyurlcom/l7zt72 Laying bed spot smells like vanilla awesome wish paramore come ireland Managed find bottle Pimms weather awsome know know know   classes n bout sum breakfast loves John Mayers updates modeling hot sun sweaty jk seriously   hahaha thanks clearing   http://twitpiccom/3bnas  oh god adorable ilove inspiration Nick   read twitter bio Love it clever cute Im smiles drive dad airport fly Vegas WSOP wanna Vegas   Added 3 spots Memphis today visited 2 Needed Hot Dog icon new restaurant settle Hamburger   aw babyy im sorry gots excited haha lt333 colds nearly gone yayness greys anatomy tonight      double yay   thanks gail imma try day looks yummy geezzz siargao trip nlng pla heheh holy smokes star trek freaking awesomeeeee   becuz were honest Lets look big picturemy happy ending smile face finished watching Star Wars Morning twitties Heading college docs god Im hungry streching ears today 10mm ) payday love you Hello im sitting rocking 9412 sam air best classic rock station twitter   Hi uploaded 5 completely new Chinese Lessons wwwyoutubecom/ChineseLearn feel free watch enjoy   Chocolate peanut butter favorite combonations Laughing reasonmaybe 2:27 Im tired haha Maybe bed Night Home  Home @  Time step outside life   Thanks support kept updating helps http://twitpiccom/4whaf Tonights art success   BETTER BE ALSO YES UNF UNF lt3 Lisa gotten any btw *smacked*       woohoo got Sunbeam Cafï¿½ Series grinder Eu Foods $198 Epic win   hahahaha definitely writing playing 20 questions Chris   aaawww worries fresh start work growing oh memories  http://blipfm/~5yxd4 [O] wish birthday massacre come australia think said theyre thinking tho http://tinyurlcom/p6lfch nice weather today Alex   haha good bet making german apple slice nom nom nom   yes fun SXSW guys PJ party room fuckeddamn lucas czech republic beer tastes like heaven bottle amazing   day good Spent day catching sleep relaxing kind lazy day hehe oooo shopping resist McDonalds car http://tinyurlcom/onoger played okami 14 hours today   u Saturday Mr   Im ACTUALLY Skype ssshh tell anyone heeey heeey read Woah Awesome show Glad hotel though Nightie night Happy Mothers Day mommys http://twitpiccom/33hus thats baby   Mmm comfort junk food sounds good preferred Wingstop   haha playing picked copies printed brochures BWRC excited got   s party Sooo fun Boom boom pow~ hahaha ooh told mom happy mothers day cant wait 2 days till happiness   Haha Night man no Im sure Ill meet lifetime fact willno doubt it   oh great hope blast there ) Officially Mother Day HAPPY Mother Day MOMS Happy Star Wars day unbelievable   woot woot super cool   yes   tonight Delicious dinner chef Geoff chez ALo/GMo Hope predeparture orgasmic sandwich   like reals time guys Ha Gnight amp happy birthday kid   Thanks gonna joke look like mine   http://twitpiccom/4wiqv  Awwww looks like kitty little furry balls best   http://twitpiccom/4jaz5  Cool luv Im calling roommate mum lost grangemouth Utter hilarity Totally lost http://twitpiccom/4wdgr  Yay Im blonde again feel girly   want   cool nice Bless her=] ya upto Love (L) XoxoX got working outrelaxing work suchatease http://twitpiccom/4jh4l  picked watch  Yey dyed hair super black again   useless tweet LOL jk yay coming tmr long u gnna phils    days ago great   Granny Linda happy lunch with: Me eat soo long oh inerne fucked mind im pretty sure internet   hi im glad fun tennis im dr dorfman visit though spilled beer leg Wasted half beer Home now met cute girl Good conversation   yeah thanks pair gits (hope mega like bus)   Yep   said drink tonight drink Sam Adams bit motorcycle trip today Woolsery morning (hopefully) North Molton U16 clinch North Devon League title Lovely day   morning   Maybe hot date nice little Cesna   looks like delicious recipe try tonite hair look completely retarded success Barack Obama legend watched dinner speach pretty funny wlcome    im proud girlfriend WowVirtualPC screen black anymore Win7 RC Also theres NVidia driver crashingIm happy upgrade   going Ill talk later Goodnight good dreams   new baby exciting Congrats advance   work mo sunny today band tonight home Im usually mr positive daze well 15 mins tomorrow Roxy right palmade stuffs pretty cool   love site hoot enjoy hair cuts Thailand try time ir right thanks tip em got big List today hubby work weekend going us think HAPPY MOTHERS DAY MOTHERS WORLD ESPECIALLY TWEETER MOMS   thanks message fan forever actually met 03 glad stumbled twitter   Lmao dimples naww thats cute  ok ill try remember winter dimple day members CF check facebook computer immediately sweet video Gulardi waiting all teary Good morning all fabulous morning here Hitting (fairly empty) shops Orlando downtown Disney later http://tinyurlcom/cdsuws   ~~Hello~~~ thanks follow voice Nemo turns 15 today Thanks #NPR   Yeah know Things easier way Im bored boys playing tekenen (I cant spell it) Going IKEA roomie shop apartment IKEA like stores love sitting garden mummy got text boy thought GOT HINT obviously not excited R R mothers day   cant reply message LOL yes know Thank youuu   sounds good yeah turn 21 tomorrow Ill definitely partying   haha good NEW STRIPEY DAY Good morning nice day #iloveitwhen sun shining Im going write stuff great time vacation sure heck want work tues   Thank sister   : nice able following Twitter Thank guts 360 followers means lot going cinema ghost girlfriends past   hahaha Yes looked weather greece weekend80 sunny OMGZ   Thanks Alex Best wishes day   cant wait definately going amazing lt3 michelle   rofl thats like hear   yeah getting point Need new phone gonna happen real soon greeting happy mothers day happier despite looming departure playing skate hours need actually skate late head feels sooooooooooo better getting cds ready tour   Thanks shoutout   Welcome Twitter hoped long saw light joined us   HEY BUCK love u loads LOVE quotWHAT BUCKquot   oh no horrible lol better singer cry u think cry haha JONAS rocked tonight going bed write lil bit Night bless got karaoke bar metreon Watching millionaire matchmaker Went mikeys cousins wedding mom caught bouquet HAPPY MOTHERS DAY WONDERFUL MOTHERS WORLD included   thanks follow friday   GAH got songs itunes Im happy Theyre AWESOME up   Thanks @ Butlers watching Dr Farmer rock w/ hispanic Jimmy Hendrix  drinking Cosmos   tax money Helio winning pole position Ha ha   bbq chicken pizza night (although deep dish glad hear fun pr   haha nuu  soLo qoincideencia  en seriooO PUSH amazing seen Star Trek guys cant spoil seen it Go now   come dont think good   going sleep kidding :p stealth shopping  got wife bday present mall notice  buy hide car missed   great VIPS acts Id enjoy seeing noooo good food Mothers Day im complaining Seafood durian puffs macarons yum   excited Paris ooh lala look forward knowing long long time lovely  hugs n kisses g wish nicky home liz left aww good her   LOL army starfleet rules meant broken job done Thats gets medal Im full Subway bomb Waiting 2nd shift start   ha ha surprisingly considering good time sun mountains brendon thinks im lamebut im drunk getting ready day work till close   awesome Im glad like it FYI  Platinum Notes 30 free upgrade summer   cool looking new ideas blog   hope KNOW WOO haha 2 times exciting lol     Doh Im inside job LOLzor watching Slumdog Millionaire Great Movie   LOL Wow Thats good Haha cant believe mothers day Bank holiday mondaaaaaay Exams tomorrow D: Good morning everyone Nice today Hope wonderful funny day   Indeed twitter mate happening here Enjoy Hope arou http://twurlnl/j4o1xe   thanks Slooooow hehe Im stoked hope good weekend Happy Star Wars Day 4TH   thanks finding amusing rubiks pictures tonight making evening        safe trips Indy home   aww hope uve hada good day xxxxx   OMG IM SOO EXCITED ive waiting saw 5th midnight night before   blouse ahahaha gave money went it Wheres mom   Yay SNL on   wow lucky happy birthday   Oh fabulous ta Im coffee too obviously cup large embrace deficiency Happy Mothers Day moms #SanctuarySunday fav character   Ashley Why cause awesome   good morning little happy wine jeje ok itsm free time cares jaja love day drink hot chocolate yummy got home nice party tired Apparently #starwarsday excited Steal Kisses Ben Harper comes ipodgreat songlove beatboxing beginning got cheescake factory boy oh boy guts stuffed   sounds like perfect way spend sunday evening Enjoy nice day looks like going rainjust getting excited taking photos home Watching Ace Cakes: LOST edition omfgggg   heyy lol talking david archuleta site lol funy lol Good morning Tweeple sun to   Great   Enjoy sounds idyllic Geordiebird lost bikiniperfect holiday   wish around litter azalea caught DD yard @ 6 bunnies lap (  Ha lead singer gave high got guitar pics hahaha   nonsense   sorry missed post earlier Edinburgh biased awesomeness Glad enjoyed visit   quotMom set bar high need learn fly reach itquot  THATs awesome sentiment read Mothers Day job centre bound oh yay nice pre mothers day dinner out cocktail retiring evening   haha know work blip apart obvious thanks reblipping song nice day xxx   thanks man cant wait   wouldnt let vote yesterday today hope u win cause knows u deserve =D wanna school Monday honest shopping headed beach puppy maverick hugs aloha Im excited Mothers Day big year amp Olivia finally old excited amp understand   feel like reboot OSX supported Hibernate amp Reboot Bootcamp    thanks following pretty complicated id lol   Well catching little piece  Im sharing   ending te funniest see )   know paranoif stuck head Love it beautifulalbeit windy times night No FREE UNLIMITED RINGTONES  http://tinyurlcom/freeringring  USA  Awesome 4 iphone finally learned think speaks works wonders   Sweet Thanks   right happy win packet salt n vinegar crisps new exhaust fell A1  waitin dr dee lunch beautiful lady gym  ( yeah need loose 10 ) Morning everyone Hope great Sunday   going fun night Im helping host it craving king sized snickers   Thanks glad agree wth follow policy   blackberry messenger rocks basically IMing BB users u add like ur friends Saves texts cant wait thursday good day lake mirror kids happy clean cabin today Err outta aint bad   nice see you great day tweet soon   enjoy NOLA definitely favorite cities world beignet chocolate   lol ni shi wai guo ren Good Morning Tweeters Happy Monday Grab big cup coffee new week   oh man wanna bay asap Thank great day   ohhh remember gave dad shoutout mcr MSG year sweet looking website working   Ill hug tell hi   here wanted going end ever )   feel excitement tweet ) Ill watching launch NASA tv love directv seriously   hahaha think pretty far me Maybe time    fine thanks guys dont quakes there   (Volterra) killing right la flying Ontario 4 hoursWill probably stay awakeI 8 daysCamping 4 time YAYI sleepy Enjoying quotGears Warquot PC  game gooooood like 10P kickoff Bank Holiday dig haircut Luke stopSelfridges Falling asleep listening James Taylor New word day: quotWhoore lurequot yes new word cologne Thanks Mike Harding crap break quotno work weekendquot rule overloaded work aargh hate it Shopping grandparents dinner bf woop   brain tumor called Jeffery spent evening gala high school drama companys 20th anniversary Lots memories   lights concerns me Lol Stay safe ordered new shirt beautiful stay inside   shareeee havin friends hangin christian tonight gonna roast marshmellows chocolate cramcrackers   sure   YES enjoying weekend soooo hope u    yeah great interesting going   SNL tonight going HILARIOUS Happy Mothers Day   thought rubbish twins cute tho Ps Brian announced message title quotwhat flow youquot friend replied quotcheescakequot Ha fun chels nicole cried watching benjamin button exciting night Taco Bell TrampYesssssir   love cobra starship thanks suggestion   problem Glad to want food   awww know youll visiting XD hang constantly heartbreaking goodbye loven rs ftw pvp bac   thanks coming support rock   oh cool coming berlin      good morning more day YAY #TwitterTakeover   sending check lol worked like 8 hours far supposeddd hang al mommy wont let dooo Blah Hahaha   big ginger white male cat little female tortoiseshell indoor cats rule house   LMAO Smh threw off great talk Tony afternoon were going   Good Morning Hope enjoy run amp gym workout morning Cant wait hear new songs lt3Pennie Sunday weather looks great gone bike visite mom day   Lmao Yes 27th excited lol   happy birthday keshia keshia bo beshia booked tickets London thursday im exicted   swimming tanning heaven blasted music tanning world positive affirmation Japanese yay bank holiday Monday family bbq today amp fave cousin comes lonely Gosforth gallery excited meal followed Antony Johnsons tonight Woohoo GoodMorning Fathers going balistic Id Id beat Good Day text ooo love bank holiday x ahh juz got new Rapidshare account lasts till Oct 09 10gb download limit daily Watching Sex amp City brothers soccer game totally defited purpose coming Hehe lol good times journalism roomeveryone thinks were weird Happy #StarWarsDay 4th you     amen brotha   Oki Great best   lucky mom paid me Ill shopping Buongiorno  woke Italian lunch   Found #geocache Heads Up http://coordinfo/gc1ret6 Probably find day http://bitly/JS3S4   Awww man suck big time look way gives look forward too nice long ride   got 71 Thats Im following feel special   LOL Considering recent debate DL Im touching bad boy thing like logical ones   LOL point laugh Gotta love nasty weatherrrrr   jealous ur knotts   Thanks Kashi thinking day mad disservice taking 1 ur classes   Im sure Mayor Brainard thrilled hear fan   lol ok ok little absurd lol mini open toe heels weather like   (new follower join midst zombies mayhem) listening   nights Underground screening awesome job   alkaline trio sweet saves day sucked great time anyways awesome seeing everybody hangin Fatigue settling in gotta power through Awesome seats tonight Im pretty lucky Life aint bad Spending QT hubby went swimming fam 2 hours were little toasty worth spose   watched standard dvd 3d version blu UK yet 3d effect best seen home system yet titties 3d   thanks amy hotness staring sunshine office window Nighty night Twits Tty morning got doctor need surgery yayyy knees fucked gonna better Went outside picked flowers Marina love picking flowers haha   couuuurse fika ill pray thes best then   person common then LOL jk Alright gang Gotta park family hour Mwahs yu head bed Going strawberries champagne tonight   OMG WANT BEACH   thanks stephen appreciate Im going estonia woohoo checked email got follower withb living Oz Welcome board alrer ego   Ok shower calling hour think Ill indulge amp respond allow Robin Thicke serenade Watchin TV HAPPY MOMS DAY home tonight fun goodnight twitterbugs   :3 Youtube loves HD videos maybe   Toronto waiting YOU 48 days go Good morning world Hope ok lovely 58 degrees right 7am amazing Enjoy melting vegas :l got Gym Wanna chat new people Lets talk haha   nawIll in Turns odd nugget wisdom Happy Star Wars Day  4th You Goodnight good morning HAPPY MOTHERS DAY Visit profile silly offspringIts funny love life picks nose   better Hudgens OMG song came shuffle  City High   oh yeah IS  gets going LOL  care like heheheheh GREAT   YES haahaaa break jellybeaniesss Liking Windows 7 Release Candidate far (also liking new video card terabyte harddisk ) FB boring wanna sing RIGHT NOW ** Got BrainBone daily question right  http://tinyurlcom/c9ryqc thanks raspberryLaced Vanilla Cake putting 3 new consultants work week good feeling congrats offers   welcome dark side   thanks know happens awhile   run CPT excited home finally week weekend people know   Thanks Crisis averted Phew different note     guys making proud tear wish joined yoga school better   Ive Prague money itll 10 cities visit   haha agree  test dummy quotdo wantquot love it magic goodmorning    hey guys saw st louis LOVED you play CT met outside u NICE   lol wat u making come da way overr forv great date nighttried find CDCaves Daniel HILARIOUSLY FUN u missing ur frnds  Hear quotManasellaam quot Kulir100 Degree movie amazing  Nanbargale  Miss u guys    Buenos Dias sweet thank   haha love Dnt Regret Tyga lt3 randomly DeLeon sings Tifanny Blews Haha like line XD Building radio studio were going podcast from foundation called Insight Foundation happy mothers day x amp dockers   lol thanks think husband classify quotannoyingquot  like awesome better   *waves back* good day   hope wishes come true someday Talking best mate boyfriend msn   Thanks adding   im sure today maybe tomorrow   Eeee Hiya spoken ages doing *enormous hug* sunset view beautiful room   following tomorrow sleep Shhhweeeetjayz bros prom Mother Day shoppingwowbig thanks sister coming me Sorry getting drunk Drivin home listenin 50 fucking lightweights left stag bullshit love especially toesha haha HA Looking forward Cambridge weekend shopping Ilze   understood precoffee tweet Im good   sun hahaha yeah that cant twitter catching reading twitter n BF break   thats *sweet* Getting quotrealquot KiokuDB catalyst app yay   demi hi its enough replay love much   good 6 months going awesome hey im on msn work darn msn haha cant stop thinking 3d movie haha Travel blog running http://charlenedianetravelsblogspotcom Cant wait start filling entries )   thanks oscc changing lately like layout lt33     requested date  guest honour all lovely lunch curried rice mussels baby octopus  yum   love cheesey ones cool orignal ones    skips brother got try u c haha   glad like HAHA Follow john mayerhes pretty funny guy want LA  fun finally hit 1000 friends thanks plan nap (yea Im feeling night) watch lakers game smwhere fun looking like nap   thank Thinking caring   shouldnt i im happy enjoyed cos im thoughtful like see YAYA hav 20 followers woop   good morning favourite pcso today    Yipe Im sorry hear   here nice quiet Sunday   coming sydney cool meet you id love meet you favourite comedian love job getting REAL sleep Icing birthday cake morning   spot onI tweet it Thanks share tonight   hope studyin went   nah   ones fingers Law week gonna fuck EXCITED   haha whats Matt  http://twitpiccom/4wehl  graduation pic Oh Mondays mean new American Dad glad watched show funny makes Mondays better   Sounds like nice relaxing afternoon mow lawn walk dog aaah good bye mikee smoked crabs forever Ive tweet wanted thaty love bill hope yall amazing week Listening Weightless Time Low Thanks   making listening it   Thanks Home Tired Phone bed Good night tweeters happy mothers day   Ive seen Star Trek twice Seeing quotUpquot today 3D outvoted   Good Evening Rose      good role models like yinz think good day yall happy moms day   Cant wait things finally QChappy mothers day got car   happy Weekend Flight Conchords BBC4   thats great Ill sure copy     funnn liein months great mooching house   agree G B Reef got vote #queensland 4th you Happy Star Wars Day twirps ROFL 1 week 1 day go SNL Justin Timberlake   son one thats nice know good three dh late today   worries good news good spread   Im going Amsterdam Cant wait   Im hearing lots good things new Trek movie Ill Dad quota fellow Trekyquot like brought new glass camera   Hooray   elope cant wait pictures dress breath taking Excited girls today   boring work dun choreographing dance   Funnily enough Roland President social club want starHope Flawless work   wish go home work good night epic dudes dudettes uploading lot photos priceless memories Eagles saturday nights better   learn twheaded boy nutreal milk hotel   Hello palnice 2 c u todayhave gr8 week   Yesits beautiful im fortunate live thick itVery relaxing watching americas model yah haha   Hehehe ) Im nice thanks    fr yr congratulatory gweetin HAPPY MOTHERS DAY wonderful women there great relaxful day   Hey   haha fail remember sohcahtoa xD Welll folkiesss( im offf dream landwork morninughewwy Talkkk mebut tomorrow lt3 lurvee yall[gt Hopped bed swwwaaaaggg oooonnnn got bed raining Wellington Monet Exhibition Casually bumped Wayne Brady hotel lobby Mega exciting sunny feel today Yippeee   host logies laughed bit   Pens go Gino Wins Pens watching snl ucsd girls laughing twitter/blackberry jokes thought id tweet that tell yo mamma em axe durrin said happy mothers day   God bless ohsosexy rahul picture   Yeahhh thx figured Need pack CALI CALI waittt Thinking glass wine order celebrate weekend vaca work 2morrow tho sittin home watchin monster inlaw waitin pizza yum yum   Thanks PP left work inventory way easy got highschool musical 3 cd amazing goodnight goodnight :]   concert hope   makes guest appearance   lets home FINALLY PROJECT  3:12 haha goodnights  lt3   finally getting ready msn ahaha fun fun fun strange reason paranoid sounds like U2 love too aaaaall good   hong kong great crazy quotEnglish namesquot friend works quotmiss chewbacca leungquot   oh great canadian math trades getting bigger though    Welcome Minnesoooooooota Free time trip catch up Cliquot Club though closed Senior ball hella fun good night omg rat ewwwww omg cant wait tha marra ecxcited annabel cant tho   eat happy   quotVISION LOVEquot Play quoti vision luv n aaaaaoOUoOuoOUU uturn outtoOooquot Mariah ur   Aw come ur early love ur youtube vids btw great workout Im feelin kind funny Choir assembly bad fucking hot yay   yeah thought awesome  glad characters like Gambit brought fold   Thank neitherrrr   oh like let c OMG 17 again Im buying DVD Yeahness good movie thanks movie buddies :]   Happy Mothers Day http://bitly/iJm54 (my friends video) Im fine alsoup way earlylolsoo r ur dogs kut3 i def want pit lol   Hey workaholic =P loljus wanted hiiiii tell ash invite u says ur working lol week class technically classes exams summmmmerrrrr beginsyeahhhhhyaaaaaa Happy Star Wars Day fourth ) Watching SNL Awhh Chris Pine cutieee Photo: jdperry: Seriously theseï¿½pictures day Hahaha Iï¿½always aroundï¿½saying ï¿½OMG you http://tumblrcom/xzn1pir8s Im wondering big rumored new large screen Kindle  http://isgd/wyFI and start seeing K12 textbooks okay new jonas episode awesome   thats lot mangoes haha baka naglilihi ka ahh haha joke lang carmen http://twitpiccom/676tn  Home Sweet Home picnic blanket   de wereld need ppl like you ) happy happy joy joy good 11:11 wish Okayyy read cause Ill feel special haha   heheheheheit play time cutie lol lol good girl school today was it yayy Heading XS Nadia Yeee   nice Bea bummed cant try near future Happy morning Sunshine 4 Im driving windows singing smiling wearing shoes im Kirsten got home amazing night woke upbusy busy busy 2daybake bbyshower cupcakes jays bday cake bleach hair amp boo Good morning   hahayeah10th Maylolim greeting advance haha watched quotFinal Breakquot final prison break episode great Farewell Prison Break dearly missed ah thats better snow patrol stuck indoors weekend coming fresh air excellent hope sunny   good morning   hahaha funnyy awesome Girl Scout Day Dodger stadium awesome olympic athletes Joanna Hayes Heather Bown won   cool Im glad nice date night Maybe day ill too fantastic fullon weekend Going finish high cheeky chilli thai fried rice amp glasses red   congratulations heart hacker computer hacker@ awesome milkshakes areo mint blended up like lumpy smoothie chattering      Welcome Twitter Let know questions love help Good Afternoon   year big wide world me   Yeah goodermentertainment )   ComicCon Thats cool 9 weeks finally rained  coming garden happy it   thing thing awesomerer 15 minute walk work Morning Ali big thank yesterday love xxxx bike today forget helmet ok   http://twitpiccom/4hsd2  Weheyyyy thanks MIDI keyboards Omg sun glimpsing clouds Woohoo   Yep Yep plan bliss me good morning everbody movie weekend ive watched 5 movies far work 5  thanks ppl getting freakin starbucks peace ppls Today Mothers Day little boy Hope beautiful Mothers Day   bitches miss you didnt krystal spent night nighti dnt think posted that ya laughed lot SQUIRREL amp HOUSE new inside jokes (Y) weekend Karen Swansea today unintentionally snubbed ineptness/shyness feel badly   Happy birthday sweetie great day best place word (sorry Chicago jeje   gdgd better ready work :| haha fun tonight x x recovering mexican fiesta bit good time   gave great smile Nice way end day right   Glad got safe amp saw daughter Enjoy time there Packing trip Ascari track thank Bacardi started great mothers day season   Thank you makeup art topnotch come house morning ha ha   thatd awesome think ive blogged about OMG Folding laundry matched socks perfect pair Good laundry folding day   appreciate HAPPY MOTHERS DAY LADIES Hope wonderful day   hope moments inspire political journey home best   fun anywaythanks taking pics minute time school yall 1 HAPPY STARWARS DAY   THANKS waiting plane airport exited bout going tasmania ya getting ready dayyyyyyyyyyyy hope work goes good   smack head Prom awesome got home wonderful day family fun today New baby well attempting quotpaintingquot weekend   course hope real twitter page soo cool   Thank   Here fun this: http://bitly/PlNm4   Looks like great time Happy Birthday bd girl BYEEEEE watchin family guy   best EVER   Nice action shot: http://bitly/m8zfx miss working pole  dont clients everyday lol   defiantly watching it work streaming leave sketchy moments mtn friends moved trail sat end road talking silly   too Hayley great Outz wif BIG BIG BIG HAPPY FAMILY mommys day meal Happy Mommy Day Mommys there   AWOOOOGAHHHHHH heheee hope decently priced breakfast real quick David   bananabrain2 got hit car got screwed : O 32 oepn wounds broken finger broken toe (both toe nail) f**ed   ha fine positive ampaha know huh wht long conversation remeber allyson lnger ones x] Ouutside city talkin trey trey misssed Im pumped concert saturday 17/7/09 come   looking bright think sun appearance guess  lawn wants cutting    haha do fave sanx character thats rirakkuma   ur shows r amazin  x   Thanks sympathy bad hour ago started thinking appointment tomorrow     lol yep sure do house today    haha :S started yesterday dad helped much Prolly going Jamba Juice thirty minutes  shop awhile hit airport daddddd    events + writing songs finished TMNT vs MMPR song Im excited record Wednesday Installed NetGear 80211n (draft) router today throughput definately increased   know updates amusing prop auctionHow baseship bed for   ask Twitter ID sun sign   mid valley la boobs haha mind la wanna anyways Home Tonight fun thanks   LOL girl Im 17 young college yay congrats downtown graduate at   awesome book cant wait film  enjoy scared x   want quotToo Fast Transport 60 secondsquot happy Google Wave trending Cant watch video it certain flash videos blocked companys network Ive got bit neckache going hard (not going home) Alternative night mean to nearly   Thanks intro Great meet u twitter aaauuuggghhh n out check mcdonalds check haha hot cheetos Happy Mothers Day fellow mums  great day  spent garden family   Weirton Julie way North tippy top LOL think southern WV folks like much   me doctor *laughs* oh no no no   patient Arkham Aslyum work   good gorjuz yea kno asked yesterday tha hospital talked u said   bright twitter Morning   Nah rolled Jason Manly talented BJJ ace mauls way Jake looking great cant wait fight   totally owe week oncall duties appreciate jill town morning prayer meeting AMAZING gift prayer im completely buzzing morning christ hope found   usually choice lucky foods love generally healthy (except ice cream) finally plugged listen Flashpoints http//:wwwkpfaorg shoutout   missed segment Chevron Soon new job starts Im happy Hopefully going work tomorrow tired flu Beside love working children fun play with   Aha seewill   Theres ding tai Fung Sydney aswell making want dumplings   quotShut Upquot line removed locker scene bet recite speech easily Dare me   aww thats sweet home card wrote song oh well http://twitpiccom/4jj4j  Birthday Breakfast Yummm chai amp apple fritter   dear going fucking kiddoe Im going sit doing nothing awesome WHERES SHOPPINGlt3 finally cup coffee Exploring Twitters world 2   Sunday Mothers day   Ill need plenty quizzes work day   held out Japanese people making origami animals Darcy great time amazing place feels accomplished got lot today http://plurkcom/p/stns9   Oh wow good think Im going use lol Cant wait Set Goals Leeds Lots website work today   David Aaronovitch worth making exception (Good morning way)   lol happy promise wont lol 1 silly late friend Wishes   Happy Mothers Day bday w special friend   Oh gosh hope so fun   fun night you   Oooh spoiled teenage fantasy    sweet livin saturday night Trying shop online wis find sevens 40 haha born barn like hay 8)(8) youtube mother song   ew quotsuicidesquot high school mix like 5 sodas together drink it think remember enjoying it too read pretty awesome web comics today theres good woot today http://mylocme/20gf cant stop smiling im best mood right now silly right kidding standing room only   AWWWWWWW totally rockI felt Im happiest girl eva yay  sherbert chocolate  nutritious watching greys anatomy blueberry muffins oven mmm yummy finished geoggers study notes yay woke up Annnnd realised missed un uber sunny dayscore   brought buffalo 320gb 3800it fastest transfer rate usb hddI benchmarked 34mb/s comp   Whoo hoo Chuck gloomy out today better day ordered henna Ill redhead weeks Watching Bleach Karaoke small town bar wonderful time   Thanks Retweet Come Kirk hook Wii wifiyou eeet   Happy Monday Hope great week resting ahhhhh feel good   thanks lady bummer sure   happy Well inspirative day Theres room design todays schedule im heading bed   lol brandy mr whiskers   Haha LOL @ english work doo college thinks castles fun early loads do suns out hurrah   Thanks Terri excited pick Parker Monday hope gets David #pixiebob 4th you Happy Star Wars Day http://owly/52Aw yeaaaah tangerang vacation FacePanda cool   thats cool need help that Google friend Plenty info that cant wait home again let sun shine warm frozen bones please Restoring new iTouch 2 Excited use it Yeeeeeeeee Goodbye iTouch 1   Kind of good job though know better Friday w/ Arbie   know like it HAHAHHAH cashier work today woot woot drink dressed   haha yeah think bit   Yay cant wait come bookstore gets new books   archetype thing comm class studied archetypes popular media reading links now thanks   Youuuure aaass aaass loooool   saw tues niiiighht lt3 amazzzing didnt notice forgetting wordddss Happy Star Wars Day   flowers grow   best sisters partyyyy   yup lil rainy lol hope ya good day   OMJ loved itit good laugh Frankie great job guys ~Agnes received excellent birthday presents Party usual success   helpful swear lot realized haha beach time   yessss does YAY told awesome learnt new today   http://twitpiccom/4jbsq  looks good want one Wingman great weekend tired happy orphanage wow babysitting fun   happy birthday test shooting later afternoon mention Holland indie wine festival week tongue red We*d Man Way Yess Time 2 Wake 4 Real lol Pegelcape ya keliling kuilbuttotally awesomewas amazed templecultureambiencetruly amazing thailand yay playing scattegories random Joel amp Sherman Fight Club 10th anniversary reenacting Nice tattoos http://imgsuicidegirlscom/media/albums/6/57/13576/658166jpg   BTW cant believe Awesome NEWJABBAKIDZ performance wasU masksI screamed pc tafe actually good Thanks assignment im work today   bank holiday Mondays rock particularly follow kind Sunday   reli gdd ty 450am lol im sleeping :O im watching tv alls good lol yours iced coffee vanilla ice cream UBER SICK MIX   sounds great right now ridiculously hot house whats good working doubleJasmin Sulumits Retsambew thinking: billion here billion there pretty soon adds real money coraline scary yesterday puke luckily ahaa 1 week amp 1 day till im 14 baby   Thanks  works treat Need post xml  thinking emulate rails ActiveResource feels home church Headache gonethank godTime tea think spending girly day wif big sisters shopping pedicures dyeing eachothers hair ohh yeah usual family parties today Happy Birthday Lily http://twitpiccom/4w472 fun bday celebration bought dress yesterday 12 days til Chris home excited Gavin tooth watching #f1 live near Montmelï¿½ Im excited race awarded credit card Starting morning coffee Early Harry Home improvementmy fav subjectquotdezignquot Today lost way photos park   suuure Glad home Punched late today tired Thank goodness tonight sure fun today sitting chloes little trike thingo girraffe ill probobly yelled minute so ohhh gym checkin email Gonna watch old movie something little cool sit outside read dinner @ Rainforest Cafe Laura Oh evening forgot Merlin tonight toss Rove Spielburg Spielburg ABC2 choices   got standards Alice  got enjoy life life   hahaha smack that hahaha BIG BANGGG playing UFC Unleashed 2009 demo impressive game got Apprentice now Lazy Monday chillN BABEz   #whuffaoke night   Gillette Stadium   Thats one wish video compilation   thrusting maybe cell phone soon  Yeah  relaxing night home best people   haha hi mum wow yes modern you need facebook account ps talk writing     excellent good   Good film   Im little late congratulations 1st tri great accomplishmentgood night   welcome home babe   Hi Michael Wow thanks kind words find love connections bg alone Happy Mothers Day moms Well Im here good morning/brunchish took exam think good DVDR Windows 7 ISO batch Lightscribe dicsc  want works nothings better going chinese supperinn fave cousins 1am Justin Timberlake totally rocked SNL tonight Ooh Happy Mothers Day Hallmark mkting tool Hallooo bayernhallooo stau got home City Lights yeahhh   yep looking forward it hungry already impressed everybody gone Rubys Watching fav movies Sparkle + food later Working birthday bad work Ruby Rails says new layout cute x) cuties  hahahah http://plurkcom/p/suqp6   iam eating pizza want some haha sunday morning birds chirping Hoping best praying best   cool dude yeah hoping rate $275 lol yeah sure ill mar par birthday dinner   aww thanks babe plans tomorrow   comingwont til 9cant stay   cool thats good   Evening Sat night nice night golfing Happy Mothers Day   Cool Thatd fantastic   looking like June  nice right lovely night steveo family guy bed   Ta much Happy BDay Gson watered tomato plants pepper plants lettuce feeling homely Freddie funpacked day fun summer   Yey holiday Monday Uk today  chilled day Manchester Whats weather Sweaty Weekends Greatif work them   lol time eating id hate late   best night Huge test parents house food good stuck helping seconds Feels good    chauffeur quotSome Kind Wonderfulquot idea perfect woman cynthia jenny spamming twitter haha yeah  bought tickets Pearl Jam August Hey mates came home beach Im hella tired 4hour ride Broke carafe went Starbucks caffiene fix lights outjust sec kidding megot laugh Ha   http://twitpiccom/4w24f  ooh nice score jojo Thank advice Ill work Im work HAPPY MOTHERS DAY Mom Mom everywhere stroll Beaches laterhopefully got new dog Chatted old schoolmates Awww miss Highschool quotIts rape scream surprise firstquot  customer said me Haha (via     laughing loud Seeing limo MacDonalds funny   *Everything* better lightsabers week school http://twitpiccom/66ymw Im gonna miss guys Thanks making 5 years senior school amazing Woo Nachos ice cream haha Looks like sun making comeback midwest Happy Monday   agree Paparazzi waz amazing vid luved it felt bad cuz waz leaked amp watched OMJ qOt HOME PARty 2:OO am iM MAN tiRED GOODNiqHt HAPPY MOtHERS DAY 2 ALL CARE amp GOD BlESS   Lol triplet Haha Im glad morgan got bag ride ride Succesfully following Tayla twikini enjoying sun   congrats wife oppose live tweeting birth Im sure OMG  hollyoaks dramatic    Maaan wasnt pain Id come wanna come eat 4 lol *rolls eyes* new phones arrived office gona today perfect outside work   lol like challenges impossible want try im fed up   hope enjoyed holiday   happy attending kenduri eat yummy stuffs behalf ya woke cat face haha quotI love knowledge love thinkin Fressshman Fressshmanquot pellericious math song   THANK woo exams nxt wk   thank YOU guys awesome things blog tonight grateful #Happy Stars Wars dayMes JAJA BINKS ha crappy day outside ah makes bit motivation revise   nice days like today wish garden reckon live yogurt week good selection flavors   haha tripped talking Harvard  read aussie automatically  came idiot   Thats good hear  morning   makes feel better im studying sat night w/o blackberries   happy birthday   good good   Hahahagutted  birthday soonso hell wait then haha 16 days start moving   indeed excellent movie looked cute too   YES cant wait hope vip passes help people campin hahah   Night Doze well   try 5 5drawer horizontal cabinets nondigital fun SEC amp FINRA job joyful Cant hire temps   http://twitpiccom/4gemf  definitely appreciate this simple things day   Thats awesome Good idea   got JAGK shirt mail Omg love it saturday   wear glasses video look amazing them goodies bagged car boot including cute cross stitch birds craft room man selling sweetie Going ride Perfect night chill   welcome thanks inviting talk #48hoursnz like parent prepare met Sarah Kelly wow amazing woman God gave free tshirt gotta love free merch   zombie wrangler sounds like fun halo wars Time school im feelin good 5 jogs good ~aloha came home NE gig fun night skankinwhat workout   nick happy birthday me birthday yesterday HAPPY MOTHERS DAYYYY   great wedding band awesome (they played ton great 80s songs) food   well flash  different chocolate 4 change good 2 meet U yesterday gr8 atmosphere amp discussion special edition JFPL came today time rip demo cd itunes upload ipod work   coffee wii fit couple hours   fantastic JJJ You questions already teachers pet Happy Star Wars Day   yeah goes brings things + let called quotbird milkquot   bet great bags Cant wait going work amazing charity event big brothers big sisters mind working good cause   Thanks Legolas   Fellowship re: Google wave: like   demoed 2 http://tinyurlcom/ma6j6l means quotDiseasequot Selling artwork+ risk game boys+ startrek= needed good day going watch boy striped pjs hope cry   hey Ive caught enyone live before   welcome   mention nice awesome dude are time mimis Movie pretty interesting actually Gonna finish watching it probably seeing star trek tomorrow lt3 ZQ lol officially kindergarten cop wishing good night everybody   Morning Sunshine (L) ice grande halfsweet French vanilla soy milk Starbucks means summaas coming  toy story 3 june 2010 cant wait long   Yay Tell said congrats    too thanks completing Calvin Appreciated got home states honors choir 9 hour drive payed off amazinggggg   movie awesome 4th #starwarsday Going shopping Sunday dinner round :p Vice President Social Cultural Affairs Southwestern College wiErD jUs LuV rAiNy DaYs MaKeS feeL waRm amp cOzY iNsIdE LoL   hi 80th fallower   Gmorning Good know alive today   Sounds lovely hope great day School School School today like going great day awsome voice Bored nothin consider going school yeah right id cry boredom forever got home long day asda joy got up went outside planted flowers watched lee evans DVD knew bank holidays fun Day 8 30 Day Shred Day 5 Special K Challenge feel fantastic   im site near airport Dixon lil #starbucks gps head hehe   Haha miine   yo think night good ya   cool   nice meet too   best bringing fun tonight ^^ up pillow fights skins wish stayed   sounds like great time Hmmm thinking taking feel better morning  think spoke early boss night out   hahahaha train want on wild ride way homee love long car rideslt3 Watched Adaptation Interiors Women (1939) all good movie night Breakfast dad kelley morning Going   lunch today   Whos in need hit ATM getting excited day left school 16th approaching Good morning   goin good takin easy ths weekend Im preparing big events comin U girls INSPIRE 2 great things   ah ok thank youuuuuu happy superwomans day    wowthat sooo cool drunkfda twittering lone favorite hobbieslt3 drunk PROFESSIONNNNN Happy Monday Lots little things today Tried water plants early jammies Got caught neighbors starting integrating Twitter Forexforumsorg  looks like great partnership welcome chat room tomorow day   def cheese onion states 4 months finding bag saltampvinegarthey tasted GREAT food looks amazing dessert Frozen Grand Marnier Souffle course eat @ bar amazing brand new PARI neb broke figure weekend looks like getting week *sigh*   Heh heh Odd amusing Thanks Archuleta amp Cook arrive 2 days woah Love new twitter app new things do got finished watching Jon4Lakers video good ready sleep hot room yey time sleeping huge bed excited   oh yeah know met taking trash hhaha omgoodness FINALLY dinner fam bam Got braces tightened today got McDonalds HAHA Sport tomorrow yay yay yay Netball tryouts wish luck team :l eating titos home ice cream yum     Morning Happy Mothers Day Miz Thank Lance   Nice r ur plans 2day Oh n Happy Mothers Day u happen 2 b mother   um glad enjoyed it Gloomy day cant stop bliss hope Ronaldo score derby match today   program shows Twitter Facebook status updates one alright yeah probably use shot new 22 rifle autoreset plinker target built shop class works great home fam CoMo tomorrow   hi Chelsea respect opinion comes dwts great too good big cousin shes taking little cousin hannah montana movie weekend   dohaha wash feet bedmommas boy Oh Goshso close finishing song cant wait list park closures  Calaveras Big Trees SP Im headed weekend glad visiting late   Good Morning Great Day work resist  http://blipfm/~5z7v3   nice gimmeh nice stuff   whoa steady mate fall shoot Ron Torey lots fun   hehe thanks class laughing too   aww sending ) Mom says new phone IMMEDIATELYoff TMobile paying   LOL overcast ok Im tired ok   book signings Manchester Nice people there Enjoy week followed compliance Great watch now cup tea cold tasting good tweeps forget mom today dreading going work BUTits friiiiiday whoop   lol totally laugh day Im glad sumone smile miss kris punking everytime hung effnng   thanks u friendster add me email adress add lococrime1st  add leave comment   look nice atleast haha lt3   Morning babe plan overdoing today lol Hope rest amp feet up xxxx   done Happy ya lay pool nap agenda day   Hello Paul nice hear listening interesting thoughts #Kaashoek #Unisys Patel Doculabs    congratulations woootwoooo   great game nakakahyper kayo twitter follow know latest   Good Morning Hope great day Took dog offleash park today overheated ran laid mud puddle splashed around amusing   LOL Im glad Im there   funny 7   do good morning   ecstatic client deed lieu so Monday sign amp lockbox happy satisfied client Morning all tea day record voiceover documentary modern Druidry Good times Ahh sunshine deleted 404 spam emails 2 days  BBQ sun wonderful   happy birthday amber hope great oneand  far away thirtyshhhyoure making 29ers feel sad   Thanks follow man   haha drunk golf sounds *awesome* predict great score today http://twitpiccom/4w6lf  BBQ time again   popular Planning install Windows 7 tomorrow probably new posts days   quotnow neverquot makes cry everytime lol   like #masterchef enjoying family time Hoping able graceful exit enjoy friend time soon soo happy Thank baby best 1095 days life 2night dance parties fun times amp awkward situations highlight driving w/ nims annie listening satellite windows downnnn   god day xx love waking thinking weekday realizing weekend   haha love hmm lol im need good bands nice weatherlooks like going rain # Delhi   love chica saw Star Trek AMAZING Seriously good entire cast excellent Spock Kirk especially want again   $300 later feel good guilty   know want land pillows blankets mm fan high mention blankets favorite time ever   hahaha eat then   http://twitpiccom/4l85a  best kind gum ever bought pack know late TCU nightly scan starts Oh well graduated today Morning washing machine already Going mum dads house house ready wedding daybusy busy busy HAPPY MOTHERS DAY MOMMYS EXSPECIALLY LOVE MOMMY going camping coupla hours gotta pack everything 4th you Hahahaha neverrr old Nt able follow friendorfollowcom come #itsucks   thanks do im sorry hurting hope great weekend today 2 important meetings today shopping   tonight cant wait Lucky bastard   finished work im stuck forever   Awww Im teaching son (when one) manners boys lacking those       tour again lineupwith austin gibbs   hehe  NZ magical place Earth   DIDDDD MET   awww poor  know   bless ))) best Ecommerce site hope watched big bang theory http://wwwpennyblossomscom/ hit quotbuy nowquot   look sooooo pretty love dang wish NY c u ur thang   hahaha yes discussions jump randomly feeling happy despite work need today Happy times wish choose bands played trash june 20thhmmm   yep  things: good haircut ability listen value taking seriously   Hello there Thankyou difference someones life everyday   YAY u ddub ) 5 men happy amp motivated   good job wish worked zoo   Hi Miss Isabelle here :]   Thank you   good know fun Star wars day 4th you   asked mum bout going tommorow laughed face lmao   Oh Outside Glad melt took daughter school tired voice know people happy LOL Time ready work fun night Bekah talkin stuff Wuv   thank broooooooo Ive twitter loop today found baby cousin gonna dad hes married already Everybody getting married kids Rose Romance released Thursday gonna BPs http://twitpiccom/4wc1y  Cracking amp up PhootoBoothingisFunForBunny Volumen Eins Im pondering lunch Shanes think hear people whining it   Yep drink amp   block party keeping Twittering hair dries  washed Macadamia Orange Shampoo  smells gorgeous   know wish would wanna cuddle sleeep ga world coke   Thanks heads up Ethan Watching chillin christina diana   quotmight interestedquot  thanks was: came saw winced like Flatland http://bitly/12f0y feeling today going amazing fun tonight soo excited home sleep pythonkingsnl equals gt better sims   heyy jay wats going witcha  amp want twitter background  know gotcha need anything Good night all 15 miles trails 7 peeks climb morning fun times ahead following    favourite actors   Thxx bathroom said it Getting Emilie half hour up nice day all Talk later hope Im proud Dr House detoxing Amber hallucination evil   work drop line love talk   little family party tonight hope rocked   Happy birthday 2 hours 54 minuets Haha want awesome buy birthday http://poprlcom/1vN0 awesome lunch family amp dinner inlaws going relax chill tonight  work tomorrow week  fun time girlfriend  leaving florida want live forever Texan*Girl   Soso thanks Ive uploaded new campaign vid post link mins doing babe   know too great day/night gabberss awesome lucky days pray better HAPPY STAR WARS DAY excuse drinkies eh   hilarious imagine reactions hospital Doc says Ill live    greatly appreciate comment means lot me Im working themwork progress know   Thats amazing quote indeedBtw nice weekend  HAPPY MOTHERS DAY CSI NY comes aus sex lies silicone (s05e04) EVRYONE EAST COAST TUNE TONIGHT pleaseee   Oh lots desk years guess theyve ok lol Hi5 friends ummm thanks follow enjoy ride trips (I will) u u gotta wishes  *hc* Watching Jay Lenos 2nd Tonight gone day Leno like yearss   Hi uploaded 5 completely new Chinese Lessons wwwyoutubecom/ChineseLearn feel free watch enjoy   thank you god bless im going eaat Polaroid film today hope so Green tea = Yum got 8/9 appearance quotjobquot interview cleavage   Thanks following Muse gratitude wishes magnificent amp productive start day day spaI missed place headed Fort Collins close casa de kent Happy Mothers Day mommy   HahaI thatyo   Thats great delicious pav + bhaaji + finely chopped onion + little dash lemon Yummy lmaoummmm nothing Java Concurrency Practice probably best Java book Ive bought Theres recipe interrupting blocking IO ops Good Monday all wet outside inside Im sunny Im feeling surge warmth energy good day good day going bed tons updates including pics Rob yesterday Check wwwrobsessedpattinsoncom missing youamphoping talk soonIm happy again idealt3   gotdamn girl dont know else Im sleepy again Grrr   http://twitpiccom/4wlpv  whooooooooooooa ang ganda ko dito ha thank you fun wango tangooo traveling makes meet new peoplenew circle strangers friends Good Morninghoping throw coffee like right now   hahahahhahaha true stretch stuff shame rems dog got mad tried avis face Britt  came way May fourth you  work Damn spent week pay shopping oh im happy woo this follow saddle awesome days   old gang try avoid tweet flood long radio silence Waking Vegas goooooooooooooooooooooooood Birthday awesomeOn video:my daughter opening gift screaming joy quotMy Birthday Wish Came True quotcouldnt better   thx do chatty night   big welcome Twitterlandz grrl wish Bettie show glad hear success offically mothers day happy moms day 500 words 10 minute speech 80s teen movies wednesday blah blah cant wait glenn ball photographing today managed macro shots flowers blooming dad totally rocked offspringpretty fly white guy haha Cool topic twitter showIf tweeter twittering twit u got luv http://bitly/a0nw   Yay Ill year Im sad too   widewale courduroyll ya everytime OMG FINISHED HISTORY CHILDRENS BOOK NEED 2 PRETTY PRINT IM DONE WHOO   Im sure u did CANT w8 4 2morrows shw Happy Mommys day 2 me New   single bought awesome boys   hey Padsterits dirt track thx info got 3 miles   LOL good men watch flicks w/us sigh good flick far called quotBecause Said Soquot   selenas mom congratulations nice day plane Come drink Cristal iced coffee Christ tasted nasty maccabees new album winner everybody listen fact New York 1500ft looks good night Big Apple   love haaaaair #googledocs folders instead labels like #gmail kind like labels   here long watch im happy week begins got better watch arsenal v chelsea today   tnx following looking forward tweet you home great time   eeeeep jealous ) Im work um u receive Viva broadcast online :plz:   sweetie lucky too #liberty   hope great weekendParis   lol hell yeah jb cute lmfao giggles Enjoyed new Star Trek movie night want again ready work SUNDAY BLAH sorry   misspelled twice already Im notgiving up run  http://blipfm/~5jjxr   ok Im replying happy mothers day indeed foods barton springs yogurt spot amp oasis = perfect day austin   Yes PM PM right   haha xD LMFAOO p yasemin ist sehr sï¿½ï¿½ rawk what xD Thank proving point   LOL im qlad u enjoyed yur ramen noodles fried chicken im tired 3500 downloads quickpwn 30b5 cydia Thanks playing enjoying weather work shift     thankyou much rock Hi CelebXXXVidsYH AyBygW Thanks following   Cool 5figureTweeter Club Photo: thelovelybones: SPY JONAS BROTHERS DEMI LOVATO OMG D: Ahhh yea 3d movie premire http://tumblrcom/xbb1qyx0e nice mothers day mum liked presents wondering ill again talking sisa 9100 tweetsjust living rockstar life tweet time hi   thanks follow good luck friend ha   awesome Im looking sourcing well   good luck finals wanna UPPPPPP   hott tuuneee going home love ya Zagrebe lt3   Im looking forward hear Norway Live fast   yeaaa OK YALL TIME ROOM amp CUDDLE WIT SASHA LOL YALL LATER ALLIGATORS HAPPY MOTHERS DAY DA MOMS amp MOMS 2   Ben Jerryyummmmy   haha be hehe imported love heat love playing football hot day   bahah funny cut haha okay going nowSTOP MAKING LAUGH LIKE THAT   eh Barry lolTweet deck like prehistoric lol thankful rain garden kids starting gardening lapbook (thanks Heidi http://wwwlapbooklessonscom/   Hella worth it need 32 now afternoon rehearsal (extremely talented) singersongwriter today wish luck   Hey Luis thanks Flash profs code thank that *cough*   download iEmoticons AppStore 079ï¿½ cool   im hving today yey   thanks following me hope cant wait australia ya come   LOL okay songs catchy stuck head Going church morninghappy mommas day work im ina good mood   dude pestered army personnel Mumbai airport let hold *request* leave Shopping beckyyy  Going starbucks minute   thanks promoing absence Glad liked it     rock way kuya jordans house Os sleepover  hahahahaha lets tweet hours need a Lil cuz coming round today 5 aww haha thanks mom love too im probably person world uses tweetie ipod touch amp iphone ghetto haha   Aww thats awesome fun assume   seen game website awesomness msn Ideas gallore Rock Opera FTW Yes tweets Kayleigh writing rock opera info email us: CoatAndKay    coming later week Westlife DVD trademe after   nice called lmao   aww great blog :] thanks mention hi form philippines :h :]   looking forward tonight Cant wait ol mate   Good Morning Every1 gorgeous n im stuck work Wish home chillin out Hopefully tha day goes quick doh  Im mothers day lunch uncles house nice time   compliment taken Thanks Key need bear hug Im going camp today need break NEED KITKAT haha secondary school cooking lessons came good use today shepherds pie mama supernatural tonight  Joining twitter added random person laughed today picture lauren chest hurts   hi thanks following me u much long time chatted u   dawg thanks much surprisingly good day time sleep hopefully sweet dreams await watching miss cytheria   goodI got meet you going bed nap Im starving  tty l learning play sweet child guitar yays   yeah thats trueee cant wait till tour dvd comes out tour epic (: backstage material hilarious   will thanks   comedy good luck friend dinner crown south moreton David stroppy teenager home puppyy good morning world   awww sweetie hope mom wonderful mothers day know quotextra handquot comment cause trouble upload House Music Vol 3   haha it good luck babe amp UPLOAD PHOTO YA   playing acoustic set @ Styles Bar today @ 3 Hope  good job cousins graduates Good luck life ltnever wear pajama pants school gt   Pitty wasnt arnd 2 huh wld rlly wet myself wedding gr8 gd time amp lots smiley faces great time talkin Mike tonight hrs   wish sat thats super busy day sunday perhaps playing football dolores park too youre welcome come hang Lovely night guys moon thinking going roof lol Finally beautiful sunny day Atlanta bad Im stuck inside working   LOL buy u big star wars pants 4 Xmas  gonna sunshine   cute Time twitpic )   hey Samantha welcome happy mothers day Rachmaninoff makes happy panda   lmao haha nice lolz good though wait lol awesomenessshe comes wayloldun dun dun http://tinyurlcom/c8nlzh  forgot like song   ummm come on twins slurpees car twins going pretty epic   Extremely excited im 15 days   writing fanfic read going beautiful day   weekend pretty solid brunch Bar Wellington Hard screw steak eggs    yeahhh u wasnt thereeeeeeeeeee   Hooray avatar back Wil Gardeners zone   120mm films usually handled Fuji Oh met girl San Diego Kwento soon miss youuu social fun Swam water boxers Good morning hope great day Monday smiling     yess awesomee u follow ur love molly hahah u chat here   look fab myself Reading cryin reading laughin Enjoying ride enlightened inspired letters young sister Thx Hill good lord seen agency work upcoming Open Day Money Jam   miss ICarly  son huge crush Miranda   yer hope competition doesnt end post video lol good singers entered Sweden great hot sunshine walking looking red writing again   play year soon hope 1st place competition superior   hahahah lols fun aye div ) experience love spongebob ) (L)   yeah thinking ahaha grecia mood amp party wanna lol going fershure   congrats mollie wish got tickets Headed WMC day Hopefully Ill time swing Chinatown way home Im mood duck 27 Followers 23 Morefor Twitter Party   Aww thank Soulmate Haha   lmao queens omg supernatural good news week   lovely attempt poetry   UmNicks VoiceSmileEyesLaughand Hes Great Rolemodel loves Monday Bank Holiday http://plurkcom/p/roxar Warwick Castle http://snurlcom/izzau Amazing Devon weekno internet updates Got told got good chance gettin job excited omgggg come want too sweater sandwich hug sound fantastic right Awaiting watch lfctv @ 10am liverpool vs newcastle game yesterday   lime them lemon deal sounds fabulous me Text   Good luck day  Feeling like Romeo Juliet Bryant Wallinwood Montagues Capulets #fb LOL OMG   replied ppl THX   sort Nevertheless shall share magnificence wider world says good evening http://plurkcom/p/rqh8l   sleep now awakened early w/breakfast tray spark amp joper w/their Dads help   great love Boogah contain Lebron James Talk sick   sounds good Cant wait NEW LOGO Web Cheak itgAllethOo yeah Im going Makati Cinema Square dad later haha cookies milk feel better thanks babe recuperating night http://yfrogcom/13izrj feel like bright new tshirt wish one   womp womp woooomp   Weather reports week upper 60s happy Perfect running weather   Hi Susan read blog good look forward tweet updates   HAHAHHA lol true that remember BD remember date day   met *all* awesomest people bunch them   Thanks movie review Scratch that were watching marley me Thinking stay awake better one Cant wait tomorrow  finally  Bittersweet sure   ben got twitter good work   YeeeeahI better off think Evidence Conviction  Absolutely hilarious Makes day time http://bitly/lrolJ getting ready cousins graduate gonna miss em   awww thank Happy mamas day mamas   Thank good sir surprisingly good afternoon productive Listening Maroon 5  quotSongs Janequot favourite albums time   oh yes nice photoshop liep zojuist vast start painting Rï¿½isï¿½ngs glove   LOLoh man untwit something haha mean lean mean fighting machine sooo cant believe called out best night Ive while cba exams 17 left listenin da beach girl5 itunes   woo im getting mondaycant wait x productive 5:30am Woohoo busy day lots do Bought new combo printer costco today (officejet j4550) cause cheaper ink 4 old one #windows7 like fax Peter amp Gordon morning gt I pieces wanna hide / pieces die / Ever  http://blipfm/~5yk38         Good morning  pretty outside today   seen quotThe Fifth Elementquot makes quotsuper greenquot lot funnier watching men n blk 2 wishin mums happy mothers day Hellerrr new followerss Im Tricina amp uhhm Im cool   thanks me great time rice crispies morning Brings good memories supper tonight kurumi 10 minutes reviews done 30 new sentences 100+ iknow wow role   oh absolutely cant wait lettuces come up ~ Happy Star Wars Dayevery ~ may fourth you   aww lt3 thank youu cooked Lunch todayy Givin mum relaxin dayy   Thanks hon Project Bra starts today spending quality time fender tele deluxetrue love   Thank you know love BHB like buy death note 1 amp 2 later week loved movies gonna yogaing jumbo cup coffee Thinking making happy Happy mothers day u milfs there LOL THX WHIT   cool aww Wearing quotpurple passionquot OPI absolutely love it   dear michael sorce crack up sincerely TGIF rainy blah outside need sun Trying figure tonight want Prov Hookah bar great time mpix shootout great thanks mpix Yummy yumcha mothers day mum dad arcel eggpants yuuuuuum http://twitpiccom/4w65x Went friends house watch good old season 1 episodes Supernatural lt3 Damn love soo fucking hahahahah woke 9 today totally missed lecture quiz open lab useless chipotle w/ silvera jenny greeat 8D Happy Mothers Day beautiful moms day cherish best women lives Todays goal: Tweet @ work Im good start havent left house yet Welcome new followers hope bored Good morning ready start week Pom pup favoring paw finally found perfect matte lcd cleaner inix screen cleaner ftw Watching CAVS feeling great   http://twitpiccom/4wh4d  LAUREN AMAZINGwell hills lol like great friend have final down go    Jonathan Priscilla Ahn Raphael Saadiq  fab Jools Holland Yum box cookies Oh great Radio Disney crash latest webkit kid run again HEY WAIT   few Peacocks Oceanographers Choice new favorites play   hahaha like :O DOUGIE THATS HARSH happy replied   cant wait see Morning world sun gone away maybe Majorca popular tourist spot Hope comes soon   amy meredith soccer team news soccer team aswell xx   iknowww people know tho like little secret horoscopes website use changed like it amazing cold hope victoria card dvds ) ha leaving work going crystal search license picking bia up heading vegas ugh im tired Playing puppy good day          http://blipfm/~5yomt   LOL true Ive keeping eye  arent tech savvy Ive alright far Tired work hate closing eek smiles today Aloha Kitchen yum   like no1 n tha DJ comp hella wack gud DJs got free gud Yay able 700 updates tonight lame compared ppls know lol got chimp buddies want join party Loads prepare now Wow great Cup tea think Erm Vacation over Looking forward one woke up hopefully going Xmen film today skip school way Im proud actually doctor wanna somethin bit   u miss  LOL wow weekend pretty fucking epic grr school tmrw ( Good day today tomorrow better   Yeah replied meant photo drink laaazy didnt x Heres     evening drink Thursday night London http://twitpiccom/4wrrp sun shining   good catch Thanks bunch new widget got it good HAPPY MOTHERS DAY   cool good know   Hell know Tupac lyrics too Symantec Ghost image corruption making cry Hey   wow cheers insight ppl looks FUN oh im stunnedits AWEOMSE (robluketic live gt http://ustream/2w5v) :visiting friendster facebook exhausted great weekend looking forward week hopefully meet guys week ROTR wait Adelitas Way  Invincible  http://blipfm/~5ynxr Efteling great nice time family dinner forget keys car hmmm Bless ANWB Germany   Home Friday makes too   good job track head cos sadly cant access it boo   randoms about LOVE Star Wars day  realise cant believe over   ohhhh excellent songhello friend   Adventure FUN 5 yr old 8 mo old (Youre brave) Hope great time stress recital gone went Star Trek new favorite movie wish space =/   yeah doesi fun todayi regret taking cup nowit awesomei find like Good Morning teddy chucking time   greaaat minee pleaseeeeee Nope 730 930 nice   want kinds designer suggestions darl all mens womens anything formal/street/alternate whatever   know right im superexcited  told yall busiest time year   good  mean haha   Thanks remembering Best lazy/really productive day ever options lay ahead me job prioritize Thank u universe Luv DD Love laughter creativity enjoying cup chicken soup Good morning hope u great day GETTING PUPPYYY him think Romeo cute Happy Star Wars Day 4th (via Nige Goth)   good luck exciting Greys Anatomy fuckn awesome atm   exact thinking bestttt proud ceviche bellinis turning LOVING smell fresh flowers house   judge answer fid duty 2 tort lawyer u r good thisit like oj trial Watching aliens boobie craig rise house 11 early bedtime grown ups   thanks (its school) Weeeee   yeh knew wot meantkinda lol alot radio bods hereive lost count   Yea think waited long oh well thats cool signed Im core classes great weekend Johnback work 3 days going Illinois Thurs amp Fri Gigs John   sounds like town watch time Lets Pens Good morning wants breakfast gave homeless lady named Ruby Ice Cream sandwich cigarette g00d deed day :p   Im okay thanks job Ill going one actually following BTW Car shopping kacy yay   Im glad lot happier barakitten lt3 yah july Good mornin Today end early woo Gonna work ricks surprise PROJECT TUESDAY gonna 2 bed now night tweeters  dont think sleep ) hahah nite Feeling good performance AP Government amp Politics exam morning Going lunch Krista   it Hehehehe u want torrent   thanks   did came cold cheese sauce good though   blessed measure   aww hope fly JT episodes usually good (and early far ep hassnt disappointed) work day walk outprocess happy step closer want do 2 wants greet moms Happy Mothers Day enjoy day   Laughing quotah haquot moment coffee happy mothers day   *happy help* quotsuprisedquot mom cake present mothers day dad bought flowers : gt Headed home yall AM Tweets   stevie reschedule competition yesterday launch sims 3 Luna park day 6pm got Coach purse aahhhh new pics new moon brill think wait 5 months year right time Black Parade Dead came out Awesome times man Rest earlier good health So good nite all   Glad like   amp matey weather starting better SHINE ** Yes hes back: wait day arrive finally here Gale back Im pos http://tinyurlcom/dzzaf5 fun day boo short fun Watering plants home Drinking delicious smoothie morgans jamba exploded finished Sunday cleaning waiting read chapter Kiyosakis book hire cleaner Happy Birthday      Thanks girl True BFF Happy nurses week rns   why enjoy fancy meals smtimes thrs joy solitude u enjoy food amp lk date world   totes gonna fun biotch yeah shell it well her Happy Birthday Mommy recollecting jog am  perfect unkown type hanging vehicle mental noise 6 mile jog gooooood morning   ive sent twitter invite poet friends im hoping come poetize love 2 poets #poets love dreambears want gay best friend Up slept till 1102  Shooting new vid today Im cubs game cold think going rain   Birthday Sex great song man different it Thats ppl want thinks SG wonderful   lucky you weve rain city today enjoy )   Happy Birthday Dork Lots love today wish buy drink great night Mornin world Hmmm supposed early Oh well   Yeah seen reviews great reviews surprised me getting tickets tonight   morning kik enjoy breakfast starting video editing spanking movie Mina  added update   agreed little find way stocktwits did cant imagine working w/o   god peppermint mochas frappachinos amazing addicting added 30 minutes morning sleep cutting useless Today Show Feels nice finally dinner party fun Alice wine proposedwere getting married week 15th 2009   tried Teriyaki  cookie tho got (non winning) Poptarts it great   know IMUx1000 referring me (WHO AH) but miss Good Morning Sunshines   Thanks Ennio Finish line Team Alpha Allstars great day good winning company team http://twitpiccom/4jggm stopped raining Fuckingtastic )   Happy Mothers Day Paula quotNAPPYSquot da new quotNquot wordby da way iLove quotNAPPYquot braids iGot quotHANGTIMEquot homie lol   hey ive seen musical live funny lol got home hour track feel real good =P running nice abs work push ups haha =P Good morning happy mothers day   pleassure making smile nice day making smile twitter aahhh nice   Thank Miss toooo   YAY Mark issues tooyoull find LOT issues lmao   chiangmai month year loy krathong best festival ever Water Horse movie totally making want Scotland want water horse lol Smoking Maryjane favorite thing speaking ima daughter Maryjane Lakoda Lakoda mrijuana latinlt3   graduate 9am Sunday June 14th Digging ideas railsbridge (http://railsbridgeorg/)   hahaa awesomee  mega sunshine morning no do long exposures tripod looking viewfinder unfocusing great watched Star Trek liked Im making mother card listening tunage Copeland exact ]   Happy Mothers Day mother list   Hello Happy bank holiday finally finished moms card took long getting pictures looks good though im happy amp cant wait til sees Good morning friends Happy Bank Holiday   KNOW JOIN FREEKIN CLUB Thanks good friends coming out hanging ears there know got JoJo free free drinks Mom kind night   HAHAAH Crys blowing fuses typical omds holly steel bless her x Darren Linkedin YES twitter friend IDK people http://wwwlinkedincom/in/darrenmonroe   wooo fight  goooo Vicky  goodnight ppl 1 year Anniversary Video http://isgd/ysbs come break   hahaha bob marley   yeahh Ryland amazing xD HUG booo Suarez bit tbhbut think hed woken   YEA Way go Super excited great Midwest resource Midwest pride   twitter reunion awesome meet lol iwonder howd iget pull   Thanks that Sara   cast True Blood   aaaw thats sweet him girl friends gots drag hubbies quotniteoutquot beer LoL   nice capture   read online article mentionedmeh happy stuck guysjust try rid   sounds like muffler bearings going bad Thanks   little star offered come JA weekender dunno afford go Looking now (  Oh snap kinda nuts right now   Ive told 27 Thanks babes Morning beautiful already glorious sunshine Wash vacum car Done fill petrol Done bbq stuff buy Done   Id like fruity article website permit finish sketches und skate Yeeeehaaa got new deck   Good morning Dan Bday plan getting exercise today Love ya NYC good morning folks ya gonna today mothers day   WOOOOOOOOOO coming Nottingham point lovelovelovelt3 Christian mobile directory running month old Visit http://tinycc/caribdir   u profile ill help u cause ur right me   U think web design wld International Brotherhood Magicians Maybe magic success SXSWi   Sounds like great day Enjoy shitload fun friends beautiful day wish energy enjoy it Good night everyone Time mimmiz Watching Pianist dad great movie   HAHA LOVE WAY U quotHe lifts feet ground spins makes crazierquot Ill new laptop 10 days Excited Dell Inspiron  core2duo 20GHz  4GB DDR2  250GB hdd  156 inches screen BBQ Andrew sisters Jeff fun got rad new tshirt aunt cool shiny shiny pink material getting night great mood   Got Twitter Yayy xxx   Sounds like best sort work then Jenni lovelyso nice hear meeting in flesh too got awesome hair cut todayyyy looks hottt haha homework want info #ecomonday check http://tinyurlcom/cpv32e amp follow    like #followfriday green (amp monday) acting school yayay   thanks 4 folow getting ready summy yummy cocoa crispies   Yes thinking like vague popper term you Goodnight twitterworld Ill tweet yall later Goodnight J   hi ya demi im glad ur http://twitpiccom/4vuuy personally love picture haha   dense treatment CPS Continuation based Interpreter design SICP Good   Goodnight trending topics lol   looked gorgeous night hope HEAP fun Gonna guest lecture tomorrow @ PES Mandya OpenGL   Woo Hoo Favorites See Mondays Rock   Wish Leigh Happy Mothers Day me midnight NY working database trying decide want eat Vivianns minee Yummm Namaste Hooray Monday Undaunted 3am wakeup consider 9am London feel justified Bright everything   Thanks little girl loves animals oohs aahs cute Great albumlucky vinyl  http://blipfm/~5jhtv follow dreams chase them Richard Dumb (who think smart feet theme jjj   guess think Thanks keeping fans loop Sitting Audi Joburg fashion week casting lanky people place 100 Lol Good luck xx   yes want going ) live long prosper  lol star trek best yay home   Aww sweet   evrytime listen tat plce reminded Mojojojo dexters lab quotdream better world comingquot someone live words dude got freakin macbook hoorayyy freakin deleted phootbooth   wow years Congrats   Thanks Funny cause true     twilightguycom kalebnationcom youtubecom/kalebnation SHOW Sry spamming love watched sex amp city season 1 amp drank little wine w/ datejust ended w/ goodnight kiss 2 night night massive headache going terminator tonight   thats cute picture  fat licking BBQs  found chops elses    called me that nest time sure maybe ill come LA soon hella wana Disneyland   Feeling pretty good check http://wwwmyspacecom/bigcitymonkey saying   carls jr sounds hella good bring http://mylocme/G3o   LOL too Going 12am easy Finished new moon Woo want one   exercise u it Walk run bike blade skate surf feels gooooooood Heading Hollywood Studios today Manta Kraken awesome yesterday feeling like rides   Congratulations wish happen enjoying Bank Holiday meeting real estate agent offer Amsterdam apartment rent   Happy Mothers Day hope tom got special enjoy day xo hmm dont know todaycause im schooland feel great LI 2hours ago n work yay Sha fcp/macbook pro buddies now   Ill working   lol good idea Whatever Workweeks over Time play new phone Sim card transfer contacts list   Thank you thank you Thought cool kids hang now hehe xoxo   fun tonight   Hehehe know that Well use blog Twitter suggest interesting topics ppl engage tons fun yay prom lots fun horayyyayayay   #amtarot Thank much  Visteon Belfast 2 years salary paid shows happens stand   Freaking awesome job tonight lot fun pictures wanna send you forgot needed music barely week music now yay Hey Good Morning guys   CUTE thanks sharing Direct Message bed James ) ) know want to    know feelOn bright side moving place appreciated Onwards upwads    Hey Lenny waiting Bulgaria soon concert year was OMG got home dinner mommy new grandma Id Hollywood right Happy mothers day Morniiing twitter eating cereales watching BLG dvd like sunday morning ^^ï¿½   Glad blast Listening Miley Cyrus Breakout CD  love it   looked page realised radio show play Want love track   yea know tell EVERYTHING ps: send direct messages telling haha   LOOK forward seeing sharing   oh ok good  jump joy M day   ah NFG super amazing Jordan pretty legit Cant stay longer 2 meet cuz hv 3 hour drive home Yay me good com final needa step semester forsure tho distractions   eagerly anticipating twitpics Apparently today Happy Star Wars day Im suppose 4th you fun got retweeted bot   Hey need car too Ill dm address   second episode Sonny WAC New Zealand tonight (and are) AMAZING ily xx   iPhone awesome man Time join Apple cult Bank Holiday happy know CLAP HANDS Haha overheard us 3 yrold mom quotmom think learn read todayquot   hope expo amazing im trying hard perfection is Romantic evening papa murphys quotbattle BCquot history channel date vaahedh  wellatleast happy FINALLY May Indy 500 horrors 1973 remain held captive Indys spirit hanging house Thank god friday nina amp   later working global project Watching Rugrats anndd Tweeting course   hope happens tomorrow ill ) (Providing dad gets better )   hahahaha watching 106 too miss Oceans 10   copy wanna watch also stoked spring Amazing wild foods Nature abundant~bless up   ur moomie liked Pandora buy lol   actually friend gave files today lol CDA files u know convert MP3   cool hi sam you   fyi connie carla totally awesome previews sorry one Hoisin duck pizza salt pepper pizza gelato dinner Edmund Jade Good times heat here perfect sunday morning Sun shining feel good  time perfect breakfast    Thanks coming out cuz   THANK YOU quotReturn Mackquot jam ive heard Basment Jaxxs new song quotRaindropsquotthats fantastic makes dancing cant wait Fuji Rock Festival   wk C Drs maybe then love it Mac Grill John there Thought U Heres big moan Dave Leyrock IM 8HRS pity me Coloursfest ahoy xo Proudly watching film http://bitly/dP2Uh trying sweet lil iPod totally nerding out and totally ok   Thats great hope Ill study bff well live together wellwe   awwwww virtual high better   Haha course Thats favorite album time   know happens Supernatural   BTW cant believe Awesome NEWJABBAKIDZ performance wasU masksI screamed pc   aww too today good like 4 weekend probably best day go Radio:ACTIVE gets old 4th time listened cd (its repeat) today love it =D   Woo hoo Congratulations OK Happy Star Wars Day everyone say 4th omg concert awesome madrigals gave chills piecebrooks called alumni didnt miss mcfly night much row centre danny making laugh LOL Ohhhh man mom got bag caramel candy things theyre soooo good Im going fat  listening bands recommended Sarrah like friday night boys lt3 Time sign night great one mothers quotHappy Mothers Dayquot raining gng rain dance $30 tonight watching 2 little kids swim watch movie haha love babysitting haha got concert mistakes kinda failed Macedonian test relatives Serbia here WooHoo   Babes sooo fun Thank making happen fun ladies too Time went fast   months kinf prom im excited contact her   cat clean again Hope ) Xx love charge   Thanks great night dear Perfectly completed weekend Evil starring WWE wrestler Kane watch   totally go AMAZING Hes reason bought tix 3 songs Blood Bank 1 reminder   thepetnet awards pet friendly businesses UK awarded 315pm   ha Apparently talk posh accent according ppl saw Shire last+dressed feminely Makes chuckle probably best surprises everyou amazing FRIDAY freakin happy today annoying day buuut WEEKEND TGIFlt3   aww lovely Hope great mothers day little mother hen contact sharn   Cant wait December Switzerland rendezvous Great  amazing  Enjoy OZ decided UNI TODAY http://plurkcom/p/su0yr ive got 3 new frensfrm GermanyMexico n France havin dinner 2gather 2nite mOod way fun lol lOve dance TEchno  lt3  lifelOvestress ampamp set backs lt3 gnite   sad glad 21   Ha Ha thanks Tom Im loser Hopefully going 22nd June till 3rd Julywhat date u goin u missing helen x drops thesis God let end today   rule this bought second game price lost move   Hahaha thats cool pic Sal Daniel you lol eat hot link torta reception eating nasty ass pasta Woot beautiful Heading home now yay going buy needed bottle wine drink dinner wallet MIA wine tonight   nice sucker sound acoustic guitar Beer Smoki Lucky Strikegood times good times workdrawing stuff hello thereeeeeee Good morning Tweepsland Makin great Monday Huge shout followers  muah muah appreciate surprising momma bear starting day little Northern Light   best friend tickets kiis fm 3 AM think time bed good night twitts )) Ah Bank holiday morningreading Elle bed getting excited roast dinner Sheering later Came Bishopstorford Went Aunts wedding party way fun got cousins 3 years Ok hit point relaxation heading bed sleep Happy Mothers day Moms there Night   $800 curtain rugs makes bathing exciting hahaha chatting old classmates hellyeah fun weird conversation haha   hello bbm lo error ya   LolWat Vibes doin Atlantic amp wheres ur shirt twitter pic lol Tribal Cafe Watermelon slush Natalie singing Ashleyquots birthday Love   course do adorable face Ready crashhad great day FUN night ask Night   think tigers crumbling surprising all  lol    HAHA Your Hotter Justin Timberlake   SWEEEEET  San Fran awesome Love   Hugs able shag Crush anymore x   Thanks registered regarde les tant attendues photographies conviced happy dance told adorable happy dance Going home enjoy left day  cant believe quickly week flew by time tweets   love song liked movie hope rerun nerdprom later sounds like theyre LOTS fun Thanks playbyplay Feel depressed save it Thanks nothing   congrats highly doubt ull buyers remorseuve wanted car while good bank hoilday buying awesome new phone sony ericsson  Berryd like else got Skyfire (http://getskyfirecom/) Firts impressions looks good little memory hungry ageing HTC TyTN   Yes NBA song great Got old funny NBA cheerleader remix song Ohrwurm day quotcolorblindquot   Thank you Cause effect me  Currently loving Hey Monday Thanks lot   heading baguio hours   goodnight baby loll jk night   infamous liverpool store manager helped set said awesome (y)   alreet chap awesome time N congrats recent results night night twits im glad waking saturday work printer broke   got work day off great boss Brilliant weekend BRILLIANT SAY work actually working  philosophy final today thank   3 days now Word mom lot yall HAPPY MOTHERS DAY love all   safer cube sphere  roll buddy  awesome time  esp 1st   possibly choice dads posting got postponed HOUR meant leave going afganistan NOWHERE im sorta happy hes gutted wooo recovering running race life yest managed 36 mins 44secs bad absolutley trianing omg   found thnx Morning everybody seen loads new photos stuff new moon cant wait lol (L) Taylor lautner lol takes shirt 3 times yum =] lol   Damn right sleep spending day mom mothers day all Chinese   PJ days best days downloaded twitterberry life convenient   oh no u 1lol mum isnt convinced 3   Aw sorry ur day sucked u post abt car issues LOL think safe better tho Beerthirty played bit pool buddiesgoing bed now work tomorrow Goodmorning tweedles happy mood think past weekend lol vids BEYONCE WEEKND coming soon   absolutely amazing Wolverine sooo beautiful  amazing person look u   Thank much nice happy hear voice started Good xo Boarding USS Enterprise Warp speed ahead #fb   love new hairdo haha live NY too yeah hott   Im thinking deserve award big shiny one   Wooops Meant agree Boomstonetrying 2 reply 2 both LOL Happy Mothers Day well TTY soon Family herehanging Yes today Star Wars Day 4th you Omega tomorrow planned it sure come can Itll awesome movein June 1st oh man great nap (still alittle tired) pizza dinner fun time concert got picture Taylor Momsen freakin line left way wimbledon   watch star trek IMAX baby beautiful morning  time enjoy sun   omg lol fun tnx 4 posting Ive chosen Grease   large vocabulary  benefit writer Hope well sister Sleeptake twothis better work Happy Star Wars Day cool lil night Berries eat pizza waitin     F**Kin great day Graham Aww Im glad Im obscenely late/early hour found Forest Kline engaged   John  present ever online #edumedia09     Thanks much Good morning 12:00 think time breakfast   miss chatting snowbear finally come outcongrats che warren   beautiful bride gonna love married life absolutely rocks congrats both   googled quotengagement ringsquot amp EXACT ring wantit 1st result *sigh* love ithttp://twurlnl/jaq5j4   WOOHOO broom isnt standardsthere seatbelt mine*whispers* like Swiffer   AWW Thank honey Didja mommy daddy Come join fun pitch Legends game 16th @ 7 pm http://tinyurlcom/6nkpuz   too goes phone night long phone blowing up nice wake to Perfect night Best month life far boo   yeah drawing today im getting flooded requests portraits people   http://twitpiccom/6714p  feel emotional great seeing pics keeping you Gonna  ready leave house head WTHR   Aww ya showing mums proud kids let know   yehh signed   nice recolouring page buying antitwittering words LOVE IT   Redirect energy creating mens jewelry frequent walks too   thank great weekend   good know PLNs Earthday happen neck woods   nothing pen   well lucky you guess means chillin concert huh   got hours ago yet   closed votingall u vote best movie Hope win it 4 y/o Daughter lovesss 2 sing quotThe Climbquot   hahaha probably sorry Weve got things houseand Jareds parents house Getting FAB portraits ready upload today MORNING EVERY1 Giveaway http://tinyurlcom/dhc4hg Mod Kid Emma pattern amp$25 GiftCert HipFabric check   Thanks Feel happy 2 Ur Day Great one Enjoy 2 fullest N Fun   http://twitpiccom/67uc7  awww shame flued apparently realllly good stuff good luck f  school classs day 18 days   http://twitpiccom/4jhe5  LOVE it awesome need cheer up want grape soda jack fowers fault also   wish play uk gigs sold out reply   thx #webdu conf Thurs finally got 12 km traffic jam well probably able time laps tonight like watching XMen now feel like Ive started revolution feels nice   hahhaha kinda like spoon hahaha   happy bday stevie beeand u want followers u little tweety babies r best im 12th sooo pleased sun shining today garden come ima sleep now good night dnt let bed bugs bite haha   FAKING IT HahahaI kid goodnight twitterverse workgettin paid sit arse guests yet mum comin eexcited   know cant believe says bleedin song donnie raps it tut   agree Star Trek commercially viable Cmon   Thanks Mr DJ Waking workingHappy be gonna great day today itand im sore Running yesterday   thank you blast   hahahahaha u look good ur picture Partied long hardgoodnight Twitter ya mornin   Hi uploaded 5 completely new Chinese Lessons wwwyoutubecom/ChineseLearn feel free watch enjoy IM FEELING GREAT     Good morning gents ya today   Hi try new restosso yea fuunn Lets dinner back want dazzle Nice win Dodgers 80 Giants FTSK Mercy Mercedes amazing tonight Morning workout sesh Love Life   yay Happy Mothers Day Screw burnt breakfast bed Ill E (erniehalter live gt http://ustream/2VkO) TGIF GORGEOUS day Reno today Im stuck inside cheese toast ham (: ready LONDON Ordering pizzas watching Diggnation trying Tweetdeck good lunch READY HOMEEEEEEEEEEEEEEE   you know w/ love dude Watching Ryann Gonna grand day winding down love low key day   haha ty   actually wanting buy bus day amp turn motor home Imagine whopping big BlokesLib logo     supporting superfly way   great meet ya katieawesome shows sure Safe travels home   Haha true thankfully regular keyboard job time Figured twitter phone watching favorite tv shows HULUcom free Starting   bday bash Blue Moon  Photo: http://bkitecom/07k6X WOOOOO Twitterberry working again Good morning   :O u want 2gether yr Im going home now seen new twitter design Quiteheavenly it     Hey everyone mixed single quotWhy R Uquot Im sooo excited baseball games whoo hooo banquet yesterday hyhtt sooo fun updating LIVE Benihana Tokyo Waikiki Happy Birthday Mark Girsl night  way foam party sleep tonight    im worried its great job nice way spend day OK Sunday morning findings Time enjoy sunny day Wow Up coffee hand outside peaceful Sunday mornings yesterday fun 1st concert year [i know im late xD] buena vista social club live FREE Gooooooood morning campers happy Mothers Day Shaktis celebrating 4th Birthday today planted flovers school garden 3 yr oldVERY MUCKY GREAT FUN   Yes copyright exemption were apparently trying ensure rest world have #sccr18   new cd lovely thanks feedback   yeah quick Im 5mm addis bought Sat makes smoother going bed goodnight working moms mothers day giftshh slideshow   Miss Fizzy Duck loves Hive Mind live long prosper Home Sweet home lt3 Going Hannah Montana Movie today lt3 DDD   yup working recover   YES wanna come hang HTOWN gurl u know whats up haha   itll bangin gotta hang chick love sunshine happiness brings ooh lovely ridiculous revision left Watching water boy grub carnisada YumYum Dang it time blip song unavailable feels like warm things   Ok da climbing Hi Charlie thank following me Nice know theres Ollmann new world heading schoool going good day knoww   Thats great news   Listened Eyes Fire enjoyed it Thanks   hahah labhr labba think similar ways   thanks dear neighboor gave coffee needed it best   appreciated yeah sure challenge great reward trade anything   got guy chat lol Signing night Watching quotThe Readerquot Im sure Ill snooze point Good night   Cool Im gladI save tea writing song near daily exercise starting results   Haha came home long night out saw Tweetie Khayyam Wakil usually announce shit  LOL   im cool cant wait hear stories xoxo Durango Chaperoning party interesting catching internet surfing drinking woodchuck ha   Awesome kind   Xmas week early Hehe min shopping   ive finished lol   oh economy gotcha sorry happy got LA Enjoy SoCal Ahahaay LOL bus NYC http://yfrogcom/08kaifj   04182012154 send PLEASE TXTD GOT NEW PHONE Ushers: guys Mothers Day awesome today Thanks coming early prep surprise gifts moms http://snipurlcom/hq0n1 printed mom Amazon gift card Happy Mothers Day talk minute   nice twitter twitter sooo im pretty damn cool   know appeals knitting Believe KNOW   LMFAO omgosh heard song youi felt like gonna pee myself OMGOSH WALTZER MAN lol xoxo Star trek SOOOOO AWESOMESpock Kirk hillarious Im seeing again sooon new phrase you doubt mo williams game win streak Downtown fun tonight walk car rediculous lol Im pub garden boiling hannah likey   Too hard argue w/ cause makes great points cant wrap heart proud cg took 5 yrs making number 1 spot gnight twitter bugstime read sleep   actually envy Ive seen it good   pleasure playing guitar you fun   seen game website awesomness msn   LOL poor cubbies brewers roll rangers lost Leafs won   thank you yes yes hooray   aww thats awesome hes good guy   cant wait you week fast enough   nice inside   quothow know mequot quiz day took pics yday fb xx Finally making headway family room Home finally begining look like it btw dial die 11:10pm Saturday know means BEDTIME   wow pretty talented lady impressed looks like beautiful day London carlie came fell asleep   Haha nice ) Thanks letting know   spent 3 hours sitting sun  picnic lunch + ice cream = win BBQ today Monday morning bathing  soooo relaxing lady luxury start day like finish book quotnudgequot going write got turning prefinal project computer animation class Final Tues 2 classes 6 weeks   Wonderful Let know think light reading mmm eating tostitos ampamp piknik spinach dip SampR lt3 got alot runnin today job app completed file glad got job need   buy plane ticket please   U r welcome pal u truly deserve 2 followed   thankies btw scotland live in got visit UK lived Europe   Im gonna mission find music   nice way 2 end week   welcome wonderful day you Stayin outta trouble ready crash party LOL   dad superman pulling through easy   haha thanks yep definately dream come true excited camera shaking taking photo Moveout fun Thank VT students working VT best possibly http://twitpiccom/4wt8a  pretty damn good friday night   honey great health   Wish too Enjoy weekend xxx   chillin promoting muziknot eating lmaao   Agree Mums  HAPPY MOTHERS DAY amp special mention 4 newest members:   Hope   good 4 u amp 2 u   nice stay long got hotel room   brother 18 moved   Yay Im happy got meet her   heya 40 hour famine starts 22nd  gonna part   photos AMAZING GREAT subject amp way people educated Darfur HUGS U inspiring woman   SUPER EXCITED BOUGHT TIX HEY MONDAY 6/20 AGAIN ~SVETLANA J DENVERCO   Hey chick going JA pick hot guys eat Jerk pork festival hot guy   ill later today got plenty gold willing help out need / happy mommys day   TY friend Yes ur right daughter daughter forever   saw this im freakin starving right now im thinking peanut butter fudge ice creamamp steak course Enjoying great buffet brunch Friends amp Bachus St Marks Road food service amp ambience 40/50 Definitely coming 2 xtra cleaning b4 leaving da road 2 springhill suites cafe 360 yum Playing dj Rays ride way delish sushi Mexican Thats Im craving SWAY SWAY BABY zommgg love need screamo tho boys   thanks quick   good morning sunshine sleepytown sleepy   Hey fellow Trojancongrats graduation    enjoyed seeing presented Saturday Clark Howard event  Especially 3 preclark speakers went World Education fair today different kind circus lees net op Twitter dat het #Happy Star Wars day is quotMay 4th youquot Sjeez wat slecht there says gives excuse sleep bed LOL Theyre different sizes switched her   nice work buying coda dude great app Unfortunately bought $99USD #jealous Cant 30 minutes Treadmill 30 minutes today already gonna 20 minutes goes Jimmy Fallon Justin Timberlakedoin Gibb Bros SNL  http://blipfm/~5z1vd akissforjersey amazinglt3 sooo soothing great shot yesterday editing pics work 7 4 happy mothers day goodness single shit goes crazy Haha Fuck this like single much wantholla   especially Pink ones LOL beautiful creatures are Wango tango Good night best movie kirk total babe   pauly wallly  life fucking happy hell love x3 reply   HAHAH know loved hannah montana movie aweesome   TeeheeI know too   Elaines online mommy too gives good advice Dear Daniel good news Nintendo want potential Lotchecktester Hoffentlich wirds mit der Stelle 12 mile run 450 meter swim things looking better better Laying bike today Listening 2 music @ home lol wants 2 come amp hang LOL says Morning http://plurkcom/p/x34ap maybe drill hole me LOL OH SNAP (sorry resist)   Thats charmingly funny Im pleased myself actually managed run 4km mothers day classic stopping   soooo jelous right   wannna wanna jersey fun Daisys Mexican Fiesta    Yeah good startled me   lol know president comedian   Hehe funny (the midget thing)  Cheer Alex wave Germany right now  Spain D   Hahah JONAS 10 min woop woop fun Doug 2 cmmt convo magical hahaha Zapatos trashcan nachos epic night   Ill quotgroovy guysquot time shortie short #photofollows rocked home maccas signing petition big bang tour aus LOL Lady Gaga  Poker face (acoustic) good sing drinking Yay Reading book sunshine goona good day   nice   cancel Disney trip year thrilled it great day happy star wars day Makeup + cute dress = Im ready   haha LOL effing cool you got WuTang PE tshirts gorgeous + represent time   Whoops totally read wrong Ahem Yes participating 10 day madness ebook there laptop grew speakers watch Charlie sound fuckkk need sleepppppppp lol happy mothers day mummy lolmy neighbors think im nutsfor #canucks im 100 followers gosh darn good mood atm bbq later heat waaaave lt3 2 bedcant wait 2 party 4 Mothers Day like 14 hours letting tired taking peoples pain time happy person drama om   Ill save   Word Yayy twitter dark lol sister cry hahah bless her hope again munchin BACON BUTTIES woohoo faves Happy Star Wars day everyone Enjoy holiday (UK) beautiful morning Aparantly #starwarsday enjoy know Kent happy anywho   Yes yes Is Ima Guna Lol   yaaay u cleaning ur room said hi u day amp u didnt write tried oprahs free unfried kfc loved went try topped boba wolverineChilled popedaveben wooh 100th tweet life xD yaayy wait today girls gotta dressed early going early   old comfy Like worn sweats Said love sarcastic heart muster Woop bought Elliot Minor album itunes finally working me   Sorry meaning complain feeling rough heat getting tonight love visiting India   suppose blog post u email   bl MUTHAFUCKIN ah win   need physical presence energy already   Haha ^^ Thanks   Morning moved new apartment exciting   Cool night fits   thats stunning watching Star Trek tonight heading lovely dinner fun board games night   finished loading AIM69 guess what updates Twitter it Message at: katie arttt supernatural tonight yay hanging roomies adore 4 gentlemen live with Great people good talk discussing boy issues   want Survivor Good morming sunshines beautiful day day classes me  oh Mint Lounge AWESOME night   Maybe start like team living 12 years city 2 Cups Awesome legs numb journey atlantis+coldness buttt awesome day   Wow Thats looks good wish some good hmmOsaka todayVery sad  decode ur msg ) haha cant wait till u 2 Sydney D missed tickets tho :o xx im donehaha HOUSE MD marathon ulet   SANJAYA FOREVER HAHAHAHAHAHA exciting week whos going reemer wednesdayy kirsty going (A) im exited  Oh god cheesy disco music started getting tables need wine   thanks mate   close trying them YUMMY    promise  thanks grrrr cant enjoy beautiful day finish damned essay philosophy Got beautiful flowers mag subscription Mothers Day Spoilt lt3 Dinner family Watching wild child car   Yes sirI acquired Master Arts Christian Ministrya loooooong journey completed todayso thankful Time bed Hope saturday lovely was   mee looks amazeeeeeee   haha Hope U Great Laugh Laughter Best Medicine wedding min Im stimulate biz 18% sale good customer service awards Breast cancer camp koozies product variety Beer pong dubstep Good nite   bc overcast gets sunny yes   haha sorry past bedtime GOT RITE EAR PEIRCED brother got peircing left ear got 2 new septum bars black c bar balls Best purchases today yard sales: 2 large dog crates ($30) refrigerator office ($35) buy old   Na friend why ask great physique lol ughhh think plans ruined excited too   aoh best bands played frosh stoked work tonight id totally there   awesome think hate expensive phones   Bye  great time whisked away   Hes away longer me Im away hours 4th TodaY better Panda eally cheer up dont know Happy Like legit happy   maybe funny like jester   sweet girl food soooo good Good morning world Woo hoo Sun outside able sunset shots tonight fingers crossed   Cheers great study time followed delicious Japanese meal Arty Now trying study mood Morning all GREAT DAY school clubsno partiesive spent friday saturday night workin music quit content Oh yeaah well bffs aha     Itï¿½s voting vs  simple true: yr *Stronger* cover BEST  w/o *looking pink glasses*   weekend great friends Julia days hahaha yay emily cool   night went well Got cracking shots   Awww mean sound like overgrown age 37 baby Im stick bad yesterday bad   Hi bunny recently subcribed channel YouTube great stuff Kinda wanted hi watched new Tmobile advert Youtube love quothey judequot   Thank that know it great time night amazing night favorite lady friend Excited Rove tonight Jennifer Garner Gina Riley   yep buddy long time talk hows things cat like sinking fangs ankle lol   definitely eggs Yummy eating truffles yum Im pumped day     morning   cheese counter go Thanks Happy Mothers day Reception food Long Beach graduation = Champagne http://twitpiccom/67eba seniors 5 days woohoo going night totally knackered meeting tired want play random songs gitwar drama essay eating big subway cookies glass warm milk YUM   Maamwow reality check day lol   Soooo happy back   cute manly cute course reminds Scion CAPONES island 2 days summer starting Yay St Marys come   Heyyyyy English fans want signings dinner Jiulianis family YUM liking fake tan orange colour   Happy happy birthday forgot lumpia pancit fridge night Yay   proud you seriously thinking joining year Got training   heard of mention me going birthday party tonite homework going bed leave 6:50 tomorrow morning work wont till 6     Thx 4 sharing Missing morning work cause bench press Jakarta goodluck diga Test easy peasy Hehehe walk cornish countryside great British bank hol http://bitly/AILUn http://yfrogcom/6rwwtj ones childrenthe children worldagain happy mommies day like taking dogs car run errands excited anywhere like morning Krogers   makes perfect sense guess earth Thanks reply   Ah seen both (Either way experience fantasy sound shock waves vacuum space Heh) mum jewellery shopping coffee mothers day Im sooo HAPPY Demis twitter   um thats favorite beer torture cant there   Good mornin Jason Ready fresh new week well cant arsed bed hello sunshine   Nice tweeting Sunday 10th were celebrating Mothers Day today nice yer Mom WALES AM 1st 2 weeks away wales idk guys school like me Beer pong 6am jess   yup gets better S4 Waking early gym   u hav garden bunny probs r decidedly uncool thanks 4d link Baking experiment results: delicious sweet rich sweet amazing night friends losing voice   day owe sleep late   pleasure sweetie Lookin forward 2 gettin 2 know u Good morning good morning people  good old germany soooo cold Chilling listning Seal FINALLY working (subbed) copy PikaNichi Heeeee   Ahh thats fun work night party after went movies today Wolverine good weekend amazinq qirlsniqhtout quess qreat excuse wear tiny dresses amp heels Skipping school like cool kids   Yup too Spending time Mom Sis Aunt great Mothers Day HD  lecturer gob smacked good presentation Rey Mysterio awesome Happy Mothers Day Mum Thanks     updates tonight votes   feeling better it breakfast time enjoying nice weather stuck indoors writing essay http://twitpiccom/66uq4  hotttt weather getting blackk starts rain   u shoutout NIKKI (Soulja Boy Tell Em LIVE live gt http://ustream/2UhS)   told you sweep haha :p   brilliant Best tool year saw new Star Trek movie good Zachary Quinto amazingggg Jumping im shower long day work shall feel ahmazing MATH   Ruby Skye night well Superb set Steve hour loaded Thrillseekers material old new   New Twitter New Supernatural  im 1 day old :0) Jst ordered 1st season seein 1 gud random ep lastnte Starting internship today pretty excited   good photos   oh thank thank you hoping video online my mother City Terrell Texas District 2 City Council Seat im MiA lol HAPPY MOTHERS DAY bomb blew mouthjust best F*ing dinner Happy Mommys Day moms Good episode Gear tonight Chillin Uploadinng Videos Took [MySpace] Showw Awesomme   LOL splurge chocolate then plan splurging little tomorrow Goooooodmorning   Yeah im following you Hun Goodnight Excited enfest yaaaay Lovely walk morning missus drizzle matter fun friend    created account chance chat (: ADMIRE YOU amazing inspire write lt3   donkey appeal sure got bunch presents mail mama excited open birthday 3 days   haha malamang chef   amazing tonight glad share baby sunshine Happy morning everyone   O: aw frank like movie cool fully understand think thats cool (:     flippin sweet dudes thanks sharing weekend getaway Energized week bring on lol   OMG dunk Dampier MASSIVE Big ups Love it   insist write essays twitter way  140 characters enjoy laker game guys ill work   quotIts birthday know wanna riiidddddeeee outquot fun club Finally upgraded Spotify premium  exceeded threshold awesomeness time ago wheres iPhone app amp remote     absolutely quothis viewquot section site know busy welcome guest post soupysoup time Today: Heinz Cream Chicken Mushroom  yum bbl Good day all Lets accomplished today together   impressive Im way 100% thelma amp louise Good movie   good hanging school day seniors   yeah Ive there son kid friendly places now) congrats baby   omfg DOWNING tasty ate Lo   OOooOO  no not Glad hear incredible though bookmarked try Happy Mothers Daaay   awhhh nice you Black Canyon seriously BEST fusion food Getting ready school  second maths test today day 3rd year week officially 4th year Decorated Moms Room Asleep Mothers Day Shell Wake Banner Balloons Woo   concert tonight fenwayyy hopefully rain stops   let know goes   Thank u lady   haha Im drink #2 Cheat day Hangin cool ass people http://shortto/8j3p Happy Star Wars Day watching quotLook Starquot mom lub ah C hehe   im sorry feeling good mama Im heading today @ 4 ill calling  http://twitpiccom/4we51  summer here Happy Mothers Day painted nails metallic blue Iï¿½m sure looks itï¿½s pretty weird color think itï¿½s cool   YES said 2 hours http://bitly/X7D1c Spanish Grand Prix 2009 hour   seen game website awesomness msn   right on im 29 myself turn 30 october think pretty makes awesome manang back great dinner super busog :O   Kayyy XD Yeah talks dog dies need find movie seen XD   arent u famous already lol adoring fan fan hehehe im no1 fan farm enjoying cary ann loving company   Thx great day amp gonna long weekend Excited Ill missin tweeple badly Soon going look cabaret going fun super excited Good Morning Looking Forward Listening PRODIGY Radio 1 Big Weekend Brought Album Yesterday =P AMAIZE Tbqh x Days cellstorms like it   yeah ill care tonight/tomorrow pay night easy   thanx bday wishes ray tiiiiiiired Going bed Drinking leads making boys later forget names drink kids Goodnight finally holiday industrial repierced cute little friend #PhpEd 56 running successfuly #wine  EMS running raining fine rain U know fine rain wets woke end Got bored HAPPY MOTHERSDAY MOTHERSand LOVE YOUUUUUU asks thnx gritiNg caRE God BleSS http://plurkcom/p/rqo76   problem think great thing reflect on   Yeah course time ) ICQ   Perfect Thank you lt3lt3  time Kathleen bed waaaaay past time expect hear noon lol BLESSED morning Photo: Great night http://tumblrcom/xmo1pgymj reallly good   Congrats Sarah thats awsum listening MCR watching DVDs chocolate hehe awesome signed Twitter yay   dont know u heeeeeeey shannn *extends hand* er there u from Missing mother t11 days HAPPY MOTHERS DAY rap battling second sat moviesss haha quoti swim lake sexquot Matthew M ( Ghosts Girlfriends Past)   Itd nice soon well Pay Tweet Fun water park dinner rainforest cafe (all free) party tonight pretty good Saturday think   Thanks know Im proud NAU graduate friend Were getting ready celebrate tonight Itll international ordeal~   yeah deadline T9 hours thats architecture you oh well mmm coffee sounds like good idea sittin fireyes   Damn got excited hahaha   fun blatantly ignore advice Awake Husband snoring faintly side happy   Congratulationskeep posted things go tomorrow valerias lunch going hair im arraving late got cousins babtizm spell   weekend going great Yours Went shopping lil deserve it night town big city Norfolk meditate feel vast vast know itwhat think about haha boredbut happy mothers day   lovely Bom dia Good Morning Guten Morgen returning Twitter   LOL were twitter addicts   Hi uploaded 5 completely new Chinese Lessons wwwyoutubecom/ChineseLearn feel free watch enjoy night sleeping new home Congratulations Mr Jayel Mrs Maricar Chu Wish best world   yeah better know it Feels like throwing up Finally home night dinner drinking friends Going sleep now hoping bed spin much Ahhhhh Away     YAY fav song   oo ok opened twitterfon said reply like lauren Conrad andswere haha FIFTH RUNNER keg       hannah darian fiona amp phillipa   Propellerheads harddrive long while got music repo shape felt nostalgic   Hahaaaha   YAY im sad got flight weekend friends benefit wonderful time Yes 100 minutes Sims 2 plus Seasons ) fun fun expansions   haha check site got good ones going shopping mammyy makeup face generally nice today mmm better day far early day #uds @ amccallie WOW replaced already thought coming steaks Prayin dad Wellington FL http://looptus/F8Jqgt (via   live welly pray f http://bitly/lB9SN   Now cant kitten new name Ryan makes fun way kitten   Chica days want Elle too later normal morning got attacked swarm mini flys opening veranda night took hour rid kinda trying ugh oh worth effort long day tomorrow night tweeters morning sunshiines   know annoying be theres german sayingpleasant anticipation greatest pleasure(own translation) star trek grtsat bggeting drunk going head bed finallygoodnight Hopefully dreams consist ravishing things as: Zachary Quinto   saw Hamlet update  excellent news good live Good morning mommies happy mothers day pull cats tail know likes excited harry potter like am damn twilight postponed love oh find hai chai   Good eatin Hey follow son   Hes Watched Coraline night good animation excellent creativity inspirational SNL hosted Justin Timberlake startssssssssssss NOW WOOHOO   haha interesting haha   Thanks lot kind got nice drive 500 fun car drive nice day instantmessaging favourite conversation guys   glad u check today touch   dude favorite sandwich place ever ummm PICTURES brolights gSoll CHEERS http://twitpiccom/4wjrs   yes mate Friday   Eh alright  near quality standard keyboard useful   looking forward mandarin album Hope come Singapore   hahah u know mannnnnn trust ima freak proud 2026 2164 6790 9128 Add lets play something   oh thats cool Thanks OMG im happy nowthanks Micheal Sheen (aka Aro) know photoshoot volturi done happies know sunshine wonderful today alright day Text twitterers way home think awesome pedicure today   perfect blast babe Thanks joe lt3 love everyone Tylerhappy birthday Going 1116 days new tattoo   loool sheridan ive got swine flu im coming skl tomorrow way hehe today   going years Best years   TOO come online ** hope amazing weekend   HAHAHAHAyeah mess crossing kneeling bit called outJOKING   Ha Totally it journalism major perfect fit   you hungover hungover amp know how think new superpower la Whalen home xxx   Id soo honoured u cld chk beats sm advice wat nd 2 improve da overall sound music   thanks message  worked reply   haha see go wear BLUE ) heey ur watching JONAS hahaha ) watched ep yet hope shows soon:p sure ace cakes are Gosh Im tired Loved bride wars Fun night Thanks carry craziness again looking forward finale RACE week Missing castle girls though Race fans welcome watch chez moi   want attend tafe gig asked mum soundwave like hmmm possibly probably means yes   #twappy http://bitly/D9qVk   oh today hehe   Thanks support Watched Kunguma poovum konjuma puravum Liked much excellent cinematography storm acting Excited discussion session Social Media Scott Lake CEO ThinkSM attending watched yes man bahaha movie messed Ok 4 Star Trek fans given new movie good reviews getting excited   ok love big buff tattoed (preferably Christian) men strutfluffy dogs optional o happy mothers day hit leaving conti boooooooo ok BEST SNL episode ive seen hot minute Justin wonderful Ciara musclesthe end Gnitey tweet tweets Justin Timberlake Leonard Nimoy Dick Box sequel priceless   figured bouncing   Hello sooo awesome Dont stop haha fall chair laughing x   500 hrs beautey school fix that haha   So matter bet GREAT it do love right it time ready work hm im happy want join drama practice today    Im glad able watch game celebrating engaged 1 year handsome   birthdayhappy birthday me Sydney  Toyota  Landcruiser  1996  $10000  new ad received posted HCC site soon   andy great am wall day Event Apart exciiiiiiiting r u mate   Happy Mothers Day   well Twitter $1 year think itd lot easier monetize $30 need differentiated pay/nopay said Im til later Enjoy day everyone   LOL kk ive sent u friend request   Good night Erin early old Finally work   Yes Nag twitter HAHA Thanks LM Sold bikes faster expected running sizes Luckily single speeds ocean now ETA  EO June Watching loudQUIETloud documentary awesome Pixies Realised Joey Santiago David Lovering Twitterers Fantastic Eating rice breakfast Yes watching merlin omg cute   Thank you Im working   awakedoing assignments playing virtual farming   commercial shoot Tokyo time play quick dirty   guess  ive got 20 %  wow impossible Hanging BFF   today Ya Ya   old friend prayers hope experience helps 59 new FAV number   kids count days till Saturday hope remember lives exams haha remembrd china buffet king yesterday vair amusing  class Yow party + hour lecture mix attal drink 3 red bulls amp Im sleepy smh Alrite bedtime   OH SILENCE VERONA WANTING jaja enjoyyitverymuch bring phothos Danny dougie  enter 0s Individual SSN/ITIN EIN according Apple Hurray Dinner Ali tonight celebrating day new job near Trader Joes stop going Suffolk tomorrow However MB amp planning picnic Mall friends Neil amp Jodi wanna play   Hey David Im wondering received letter song it Malaysia reply nice day'"
      ]
     },
     "execution_count": 34,
     "metadata": {},
     "output_type": "execute_result"
    }
   ],
   "source": [
    "happiness_docx"
   ]
  },
  {
   "cell_type": "code",
   "execution_count": 35,
   "id": "54aff4ae",
   "metadata": {},
   "outputs": [],
   "source": [
    "#Extracting keywords\n",
    "keyword_happiness = extract_keywords(happiness_docx)"
   ]
  },
  {
   "cell_type": "code",
   "execution_count": 36,
   "id": "cfeda16a",
   "metadata": {},
   "outputs": [
    {
     "data": {
      "text/plain": [
       "{'day': 371,\n",
       " 'good': 336,\n",
       " 'Im': 261,\n",
       " 'great': 202,\n",
       " 'today': 199,\n",
       " 'like': 185,\n",
       " 'got': 165,\n",
       " 'happy': 164,\n",
       " 'fun': 161,\n",
       " 'time': 151,\n",
       " 'night': 150,\n",
       " 'im': 147,\n",
       " 'new': 141,\n",
       " 'lol': 141,\n",
       " 'haha': 138,\n",
       " 'u': 135,\n",
       " 'morning': 133,\n",
       " 'amp': 133,\n",
       " 'going': 131,\n",
       " 'Happy': 127,\n",
       " 'know': 127,\n",
       " 'work': 125,\n",
       " 'thanks': 121,\n",
       " 'love': 120,\n",
       " 'Thanks': 117,\n",
       " 'nice': 111,\n",
       " 'it': 110,\n",
       " 'Good': 106,\n",
       " 'you': 106,\n",
       " 'Day': 104,\n",
       " 'awesome': 99,\n",
       " 'home': 99,\n",
       " 'think': 96,\n",
       " '2': 94,\n",
       " 'cant': 91,\n",
       " 'tonight': 84,\n",
       " 'hope': 81,\n",
       " 'wait': 78,\n",
       " 'week': 75,\n",
       " 'weekend': 73,\n",
       " 'Mothers': 73,\n",
       " 'best': 69,\n",
       " 'LOL': 69,\n",
       " 'mothers': 68,\n",
       " 'want': 67,\n",
       " 'better': 66,\n",
       " 'excited': 65,\n",
       " 'cool': 65,\n",
       " 'tomorrow': 62,\n",
       " 'too': 61}"
      ]
     },
     "execution_count": 36,
     "metadata": {},
     "output_type": "execute_result"
    }
   ],
   "source": [
    "keyword_happiness"
   ]
  },
  {
   "cell_type": "code",
   "execution_count": 37,
   "id": "08d8438a",
   "metadata": {},
   "outputs": [],
   "source": [
    "#Plotting \n",
    "def plot_most_common_words(mydict,sentiment_name):\n",
    "    df_01 = pd.DataFrame(mydict.items(),columns=['token','count'])\n",
    "    plt.figure(figsize=(20,10))\n",
    "    plt.title(\"Plot of {}\".format(sentiment_name))\n",
    "    sns.barplot(x='token',y='count',data=df_01)\n",
    "    plt.xticks(rotation=45)\n",
    "    plt.show()"
   ]
  },
  {
   "cell_type": "code",
   "execution_count": 38,
   "id": "f7e42a79",
   "metadata": {},
   "outputs": [
    {
     "data": {
      "image/png": "[encoded data removed]",
      "text/plain": [
       "<Figure size 1440x720 with 1 Axes>"
      ]
     },
     "metadata": {
      "needs_background": "light"
     },
     "output_type": "display_data"
    }
   ],
   "source": [
    "plot_most_common_words(keyword_happiness,\"happiness\")"
   ]
  },
  {
   "cell_type": "code",
   "execution_count": 39,
   "id": "7067c80b",
   "metadata": {},
   "outputs": [],
   "source": [
    "surprise_list = df[df['sentiment'] == 'surprise']['Clean_Text'].tolist()\n",
    "#Document \n",
    "surprise_docx = ' '.join(surprise_list)\n",
    "#Extract Keywords\n",
    "keyword_surprise = extract_keywords(surprise_docx)"
   ]
  },
  {
   "cell_type": "code",
   "execution_count": 40,
   "id": "391e62cc",
   "metadata": {},
   "outputs": [
    {
     "data": {
      "image/png": "[encoded data removed]",
      "text/plain": [
       "<Figure size 1440x720 with 1 Axes>"
      ]
     },
     "metadata": {
      "needs_background": "light"
     },
     "output_type": "display_data"
    }
   ],
   "source": [
    "plot_most_common_words(keyword_surprise,\"surprise\")"
   ]
  },
  {
   "cell_type": "markdown",
   "id": "d099228e",
   "metadata": {},
   "source": [
    "## Machine learning \n",
    "+ Naive Bayes\n",
    "+ Logistic Regression\n",
    "+ KNN\n",
    "+ Decision Tree"
   ]
  },
  {
   "cell_type": "code",
   "execution_count": 41,
   "id": "8f1bef1d",
   "metadata": {},
   "outputs": [],
   "source": [
    "#load Machine Learning packages\n",
    "from sklearn.linear_model import LogisticRegression\n",
    "from sklearn.naive_bayes import MultinomialNB\n",
    "\n",
    "#Vectorizer\n",
    "from sklearn.feature_extraction.text import CountVectorizer,TfidfVectorizer\n",
    "\n",
    "#Metrics\n",
    "from sklearn.metrics import accuracy_score,confusion_matrix,classification_report,plot_confusion_matrix"
   ]
  },
  {
   "cell_type": "code",
   "execution_count": 42,
   "id": "1c6e8b28",
   "metadata": {},
   "outputs": [],
   "source": [
    "#Split our dataset\n",
    "from sklearn.model_selection import train_test_split"
   ]
  },
  {
   "cell_type": "markdown",
   "id": "ca99f2a9",
   "metadata": {},
   "source": [
    "### Build features from our test"
   ]
  },
  {
   "cell_type": "code",
   "execution_count": 43,
   "id": "8331b281",
   "metadata": {},
   "outputs": [],
   "source": [
    "Xfeatures = df['Clean_Text']\n",
    "ylabels = df['sentiment']"
   ]
  },
  {
   "cell_type": "code",
   "execution_count": 44,
   "id": "3845f96a",
   "metadata": {},
   "outputs": [
    {
     "data": {
      "text/plain": [
       "0                          yayyy new videos amazing people\n",
       "1                                             Surgery wake\n",
       "2                                WAY MAN like 21 year olds\n",
       "3        look @ hellacious deskgood grief http://shortt...\n",
       "4                         tee beefinwhat u supposed leavin\n",
       "                               ...                        \n",
       "31995                  any1 night like birds keeping awake\n",
       "31996    going Suffolk tomorrow However MB amp planning...\n",
       "31997                                           wanna play\n",
       "31998      Hey David Im wondering received letter song ...\n",
       "31999    watched Xmen origins: wolverine totally loved ...\n",
       "Name: Clean_Text, Length: 32000, dtype: object"
      ]
     },
     "execution_count": 44,
     "metadata": {},
     "output_type": "execute_result"
    }
   ],
   "source": [
    "Xfeatures"
   ]
  },
  {
   "cell_type": "code",
   "execution_count": 45,
   "id": "ebf327da",
   "metadata": {},
   "outputs": [],
   "source": [
    "#Vectorizer\n",
    "cv = CountVectorizer()\n",
    "X = cv.fit_transform(Xfeatures)"
   ]
  },
  {
   "cell_type": "code",
   "execution_count": 46,
   "id": "15c1f222",
   "metadata": {},
   "outputs": [
    {
     "data": {
      "text/plain": [
       "['00',\n",
       " '000',\n",
       " '002',\n",
       " '00am',\n",
       " '00pm',\n",
       " '01',\n",
       " '010',\n",
       " '02',\n",
       " '023',\n",
       " '0255',\n",
       " '02mxjj',\n",
       " '03',\n",
       " '04',\n",
       " '04182012154',\n",
       " '05',\n",
       " '050',\n",
       " '05ixbj',\n",
       " '06',\n",
       " '0600',\n",
       " '06am',\n",
       " '07',\n",
       " '079ï',\n",
       " '07am',\n",
       " '07i',\n",
       " '07jzs',\n",
       " '07k6e',\n",
       " '07k6x',\n",
       " '07kbq',\n",
       " '07kjr',\n",
       " '07xoh',\n",
       " '07yez',\n",
       " '08',\n",
       " '080509',\n",
       " '080809',\n",
       " '08kaifj',\n",
       " '09',\n",
       " '097dfj',\n",
       " '0a7v3j',\n",
       " '0egwanj',\n",
       " '0f',\n",
       " '0gmunj',\n",
       " '0l2tsj',\n",
       " '0ltrdaj',\n",
       " '0mqko',\n",
       " '0o',\n",
       " '0quot',\n",
       " '0rpm',\n",
       " '0s',\n",
       " '0t2b6j',\n",
       " '0ut',\n",
       " '0wvnpj',\n",
       " '0xhu5j',\n",
       " '0xoxij',\n",
       " '0zr2jqj',\n",
       " '0zywwj',\n",
       " '10',\n",
       " '100',\n",
       " '1000',\n",
       " '10000',\n",
       " '100000',\n",
       " '10000000000',\n",
       " '10000th',\n",
       " '1000th',\n",
       " '1000x',\n",
       " '1008',\n",
       " '100greatestgames',\n",
       " '100th',\n",
       " '100word',\n",
       " '101',\n",
       " '1011',\n",
       " '1011pm',\n",
       " '1012',\n",
       " '1015',\n",
       " '102',\n",
       " '1027',\n",
       " '1029',\n",
       " '103',\n",
       " '1030',\n",
       " '1030am',\n",
       " '1030pm',\n",
       " '1034415',\n",
       " '104',\n",
       " '104m6wj',\n",
       " '105',\n",
       " '1052x1',\n",
       " '1057',\n",
       " '106',\n",
       " '1073',\n",
       " '1075',\n",
       " '108',\n",
       " '109',\n",
       " '1095',\n",
       " '10am',\n",
       " '10and',\n",
       " '10c',\n",
       " '10dolla',\n",
       " '10gb',\n",
       " '10hour',\n",
       " '10jaffa',\n",
       " '10jsepj',\n",
       " '10k',\n",
       " '10m',\n",
       " '10min',\n",
       " '10mins',\n",
       " '10mm',\n",
       " '10p',\n",
       " '10pm',\n",
       " '10th',\n",
       " '10ty',\n",
       " '10uemq',\n",
       " '11',\n",
       " '110',\n",
       " '1102',\n",
       " '111',\n",
       " '1115',\n",
       " '1116',\n",
       " '1123',\n",
       " '1130',\n",
       " '1140',\n",
       " '115',\n",
       " '1150',\n",
       " '1155hours',\n",
       " '115am',\n",
       " '11830',\n",
       " '118lgl',\n",
       " '11am',\n",
       " '11dd2t',\n",
       " '11pm',\n",
       " '11th',\n",
       " '11w',\n",
       " '11y',\n",
       " '11z2ip',\n",
       " '12',\n",
       " '120',\n",
       " '1200',\n",
       " '120mm',\n",
       " '1215',\n",
       " '123',\n",
       " '12306',\n",
       " '1230pm',\n",
       " '125',\n",
       " '1267',\n",
       " '128600',\n",
       " '129',\n",
       " '12am',\n",
       " '12beat',\n",
       " '12f0y',\n",
       " '12ghz',\n",
       " '12hr',\n",
       " '12k',\n",
       " '12pm',\n",
       " '12r3c3',\n",
       " '12seconds',\n",
       " '12st',\n",
       " '12th',\n",
       " '12yr',\n",
       " '13',\n",
       " '1300',\n",
       " '131',\n",
       " '13341015518',\n",
       " '134071',\n",
       " '13527',\n",
       " '13576',\n",
       " '136',\n",
       " '1386am',\n",
       " '13f5m0',\n",
       " '13gig',\n",
       " '13izrj',\n",
       " '13nfk1',\n",
       " '13pdrmj',\n",
       " '13quot',\n",
       " '13th',\n",
       " '13ti6j',\n",
       " '13tolifeus',\n",
       " '14',\n",
       " '140',\n",
       " '1401',\n",
       " '1424',\n",
       " '143',\n",
       " '145',\n",
       " '147',\n",
       " '1473318html',\n",
       " '148',\n",
       " '1488',\n",
       " '14950',\n",
       " '14lvi',\n",
       " '14mph',\n",
       " '14s',\n",
       " '14th',\n",
       " '14yr',\n",
       " '15',\n",
       " '150',\n",
       " '1500',\n",
       " '1500ft',\n",
       " '1500rpm',\n",
       " '1505',\n",
       " '1520',\n",
       " '1528th',\n",
       " '154upj',\n",
       " '155',\n",
       " '156',\n",
       " '15c',\n",
       " '15gb',\n",
       " '15h30',\n",
       " '15hrs',\n",
       " '15min',\n",
       " '15mins',\n",
       " '15minutes',\n",
       " '15quot',\n",
       " '15th',\n",
       " '15yyid',\n",
       " '16',\n",
       " '160',\n",
       " '1600th',\n",
       " '160hp',\n",
       " '1638824',\n",
       " '165',\n",
       " '1654',\n",
       " '1667',\n",
       " '167',\n",
       " '168',\n",
       " '1695368792',\n",
       " '16hes',\n",
       " '16hour',\n",
       " '16k',\n",
       " '16lbs',\n",
       " '16lugx',\n",
       " '16th',\n",
       " '16urvv',\n",
       " '16w6zv',\n",
       " '16yo',\n",
       " '16ï',\n",
       " '17',\n",
       " '170th',\n",
       " '1720',\n",
       " '1750',\n",
       " '1752876129',\n",
       " '17905',\n",
       " '179jxs',\n",
       " '17again',\n",
       " '17cy61',\n",
       " '17lb',\n",
       " '17quot',\n",
       " '17th',\n",
       " '17yearold',\n",
       " '18',\n",
       " '180',\n",
       " '1800',\n",
       " '181',\n",
       " '182',\n",
       " '182397',\n",
       " '1824',\n",
       " '1828x1556',\n",
       " '1841',\n",
       " '1842',\n",
       " '186',\n",
       " '187',\n",
       " '18aeg8',\n",
       " '18am',\n",
       " '18hrs',\n",
       " '18mos',\n",
       " '18s',\n",
       " '18th',\n",
       " '18thh',\n",
       " '18zd0k',\n",
       " '19',\n",
       " '190',\n",
       " '191tpr',\n",
       " '192',\n",
       " '1930s',\n",
       " '1939',\n",
       " '194',\n",
       " '1946',\n",
       " '1948',\n",
       " '1960s',\n",
       " '1970s',\n",
       " '1973',\n",
       " '1975',\n",
       " '198',\n",
       " '1984',\n",
       " '1986',\n",
       " '1987',\n",
       " '1991',\n",
       " '1994',\n",
       " '1995',\n",
       " '1996',\n",
       " '1997',\n",
       " '1999',\n",
       " '199zwd',\n",
       " '19age',\n",
       " '19ol1b',\n",
       " '19th',\n",
       " '1aa1rf',\n",
       " '1aida',\n",
       " '1am',\n",
       " '1amand',\n",
       " '1e15',\n",
       " '1fav',\n",
       " '1gb',\n",
       " '1gurq',\n",
       " '1hour',\n",
       " '1hr',\n",
       " '1k',\n",
       " '1km',\n",
       " '1lol',\n",
       " '1m',\n",
       " '1man',\n",
       " '1million',\n",
       " '1minute',\n",
       " '1mo',\n",
       " '1ntp',\n",
       " '1ofmy',\n",
       " '1pm',\n",
       " '1s',\n",
       " '1st',\n",
       " '1tb',\n",
       " '1tiffany',\n",
       " '1vn0',\n",
       " '1x',\n",
       " '1x2610',\n",
       " '1xiz',\n",
       " '1xri',\n",
       " '1xts',\n",
       " '1y2j',\n",
       " '1yeah',\n",
       " '1zlt',\n",
       " '1zpf',\n",
       " '1zpi',\n",
       " '1zsj',\n",
       " '1zt0',\n",
       " '1zu9',\n",
       " '20',\n",
       " '200',\n",
       " '2000',\n",
       " '20000',\n",
       " '2001',\n",
       " '2002',\n",
       " '2003',\n",
       " '2006',\n",
       " '2006amp2007',\n",
       " '2007',\n",
       " '2008',\n",
       " '2008s',\n",
       " '2009',\n",
       " '2009the',\n",
       " '200andsome60',\n",
       " '200f2',\n",
       " '200km',\n",
       " '200lbs',\n",
       " '200m',\n",
       " '2010',\n",
       " '2011',\n",
       " '2015',\n",
       " '201th',\n",
       " '202',\n",
       " '2020',\n",
       " '2023',\n",
       " '2025',\n",
       " '2026',\n",
       " '205r',\n",
       " '209205',\n",
       " '20dd',\n",
       " '20gf',\n",
       " '20ghz',\n",
       " '20h',\n",
       " '20min',\n",
       " '20mins',\n",
       " '20oh',\n",
       " '20pm',\n",
       " '20th',\n",
       " '20thhmmm',\n",
       " '20yes',\n",
       " '20yrs',\n",
       " '20yy',\n",
       " '21',\n",
       " '2134',\n",
       " '214',\n",
       " '2144',\n",
       " '2164',\n",
       " '218m',\n",
       " '21ds',\n",
       " '21f2',\n",
       " '21life',\n",
       " '21month',\n",
       " '21rk',\n",
       " '21s1',\n",
       " '21st',\n",
       " '21uf',\n",
       " '21you',\n",
       " '22',\n",
       " '220',\n",
       " '221',\n",
       " '2215',\n",
       " '225',\n",
       " '225quot',\n",
       " '2290',\n",
       " '2296',\n",
       " '22hrs',\n",
       " '22nd',\n",
       " '22quot',\n",
       " '23',\n",
       " '230',\n",
       " '230pm',\n",
       " '234',\n",
       " '23600',\n",
       " '236am',\n",
       " '237',\n",
       " '2396',\n",
       " '23rd',\n",
       " '23rdany',\n",
       " '24',\n",
       " '240',\n",
       " '243',\n",
       " '2448',\n",
       " '249',\n",
       " '24hours',\n",
       " '24hrs',\n",
       " '24quot',\n",
       " '24th',\n",
       " '25',\n",
       " '250',\n",
       " '2500',\n",
       " '250e',\n",
       " '250gb',\n",
       " '250gs',\n",
       " '250k',\n",
       " '251',\n",
       " '253ce',\n",
       " '25c',\n",
       " '25d',\n",
       " '25ft',\n",
       " '25ghz',\n",
       " '25man',\n",
       " '25mbps',\n",
       " '25ï',\n",
       " '26',\n",
       " '260',\n",
       " '261c',\n",
       " '2630',\n",
       " '2630rc4',\n",
       " '264',\n",
       " '26498457',\n",
       " '26733333',\n",
       " '2697',\n",
       " '27',\n",
       " '275',\n",
       " '27th',\n",
       " '28',\n",
       " '280lbsyippee',\n",
       " '2833',\n",
       " '2837',\n",
       " '286',\n",
       " '2888mo',\n",
       " '28c',\n",
       " '28deg',\n",
       " '28th',\n",
       " '28ï',\n",
       " '29',\n",
       " '291kms',\n",
       " '2923848932',\n",
       " '295',\n",
       " '299',\n",
       " '29ers',\n",
       " '29on',\n",
       " '29th',\n",
       " '29thtonight',\n",
       " '2a',\n",
       " '2aa0m',\n",
       " '2agcth',\n",
       " '2am',\n",
       " '2amits',\n",
       " '2amp',\n",
       " '2b',\n",
       " '2cal',\n",
       " '2ce',\n",
       " '2d',\n",
       " '2daii',\n",
       " '2day',\n",
       " '2daybake',\n",
       " '2daybeat',\n",
       " '2dayjust',\n",
       " '2daytrip',\n",
       " '2dayweatherwise',\n",
       " '2dives',\n",
       " '2do',\n",
       " '2ehfov',\n",
       " '2field',\n",
       " '2for1',\n",
       " '2ft',\n",
       " '2gather',\n",
       " '2gether',\n",
       " '2goin',\n",
       " '2hear',\n",
       " '2hi2t4yjpg',\n",
       " '2hours',\n",
       " '2hpbg4',\n",
       " '2hrs',\n",
       " '2j3l',\n",
       " '2jobs',\n",
       " '2k',\n",
       " '2k6',\n",
       " '2kidsmy',\n",
       " '2l',\n",
       " '2l36n',\n",
       " '2listen',\n",
       " '2m',\n",
       " '2maro',\n",
       " '2moro',\n",
       " '2morro',\n",
       " '2morrow',\n",
       " '2morrows',\n",
       " '2moz',\n",
       " '2mrw',\n",
       " '2mz',\n",
       " '2nd',\n",
       " '2nd30th100th',\n",
       " '2ndary',\n",
       " '2night',\n",
       " '2nit',\n",
       " '2nite',\n",
       " '2nitei',\n",
       " '2nitex',\n",
       " '2njv',\n",
       " '2nlc',\n",
       " '2nte',\n",
       " '2nyt',\n",
       " '2or',\n",
       " '2orw',\n",
       " '2people',\n",
       " '2pm',\n",
       " '2pmagain',\n",
       " '2reading',\n",
       " '2s1y',\n",
       " '2sljbwt',\n",
       " '2stop',\n",
       " '2sw4v',\n",
       " '2toa',\n",
       " '2twitter',\n",
       " '2u2',\n",
       " '2uhs',\n",
       " '2uzx4',\n",
       " '2veorg',\n",
       " '2vko',\n",
       " '2w2v',\n",
       " '2w5v',\n",
       " '2would',\n",
       " '2x',\n",
       " '2x2924',\n",
       " '2xdpf',\n",
       " '2xjoc',\n",
       " '2yr',\n",
       " '2zemt',\n",
       " '2zgfk',\n",
       " '30',\n",
       " '300',\n",
       " '3000',\n",
       " '3000quot',\n",
       " '302',\n",
       " '3040',\n",
       " '306000',\n",
       " '308',\n",
       " '30am',\n",
       " '30amnow',\n",
       " '30b5',\n",
       " '30c',\n",
       " '30day',\n",
       " '30lammmeeee',\n",
       " '30mins',\n",
       " '30p',\n",
       " '30pm',\n",
       " '30rock',\n",
       " '30s',\n",
       " '30sec',\n",
       " '30stmfan',\n",
       " '30th',\n",
       " '30ï',\n",
       " '31',\n",
       " '311',\n",
       " '3144',\n",
       " '315pm',\n",
       " '3180758jpg',\n",
       " '31quot',\n",
       " '31st',\n",
       " '31th',\n",
       " '32',\n",
       " '320',\n",
       " '320gb',\n",
       " '32665',\n",
       " '32mb',\n",
       " '33',\n",
       " '330',\n",
       " '330am',\n",
       " '330pm',\n",
       " '333622',\n",
       " '335',\n",
       " '336u5',\n",
       " '33hus',\n",
       " '34',\n",
       " '34mb',\n",
       " '35',\n",
       " '3500',\n",
       " '3512',\n",
       " '35138',\n",
       " '3517129153',\n",
       " '3540',\n",
       " '35hours',\n",
       " '35mins',\n",
       " '36',\n",
       " '360',\n",
       " '3630pm',\n",
       " '365',\n",
       " '365days',\n",
       " '367',\n",
       " '368558682',\n",
       " '36pz',\n",
       " '37',\n",
       " '374',\n",
       " '38',\n",
       " '3800it',\n",
       " '38am',\n",
       " '38pm',\n",
       " '38th',\n",
       " '39',\n",
       " '39th',\n",
       " '3aaah',\n",
       " '3am',\n",
       " '3aref',\n",
       " '3asa',\n",
       " '3bnas',\n",
       " '3breakupwords',\n",
       " '3d',\n",
       " '3days',\n",
       " '3ds',\n",
       " '3ernb',\n",
       " '3g',\n",
       " '3goxn',\n",
       " '3hour',\n",
       " '3hrs',\n",
       " '3indi',\n",
       " '3intro',\n",
       " '3k',\n",
       " '3koyqo',\n",
       " '3late',\n",
       " '3lbs',\n",
       " '3lohvl',\n",
       " '3mb',\n",
       " '3md9fv',\n",
       " '3mdce',\n",
       " '3min',\n",
       " '3mrim',\n",
       " '3my',\n",
       " '3nid8',\n",
       " '3nvyg',\n",
       " '3nzth',\n",
       " '3oh3',\n",
       " '3orh6',\n",
       " '3oth',\n",
       " '3pb8j',\n",
       " '3pj876',\n",
       " '3pjnc',\n",
       " '3pm',\n",
       " '3point',\n",
       " '3qfqo',\n",
       " '3rd',\n",
       " '3run',\n",
       " '3s',\n",
       " '3then',\n",
       " '3v3ry',\n",
       " '3w9w1',\n",
       " '3ware',\n",
       " '3wordsaftersex',\n",
       " '3x',\n",
       " '3x2500',\n",
       " '3x3',\n",
       " '3xm7d',\n",
       " '3yo',\n",
       " '3yp',\n",
       " '3ysav',\n",
       " '40',\n",
       " '400',\n",
       " '4000',\n",
       " '40000',\n",
       " '400e',\n",
       " '400mb',\n",
       " '400th',\n",
       " '401',\n",
       " '40328',\n",
       " '404',\n",
       " '40404',\n",
       " '404d',\n",
       " '405',\n",
       " '4096',\n",
       " '40cm',\n",
       " '40k',\n",
       " '40min',\n",
       " '40mins',\n",
       " '40omglol',\n",
       " '40s',\n",
       " '40something',\n",
       " '40th',\n",
       " '41',\n",
       " '410',\n",
       " '41000',\n",
       " '416b7',\n",
       " '418',\n",
       " '41dbn',\n",
       " '42',\n",
       " '42am',\n",
       " '42nd',\n",
       " '43',\n",
       " '430',\n",
       " '430am',\n",
       " '430pm',\n",
       " '43416',\n",
       " '438',\n",
       " '44',\n",
       " '445am',\n",
       " '449yj',\n",
       " '44am',\n",
       " '44secs',\n",
       " '45',\n",
       " '450',\n",
       " '450am',\n",
       " '45am',\n",
       " '45ish',\n",
       " '45pm',\n",
       " '45r61',\n",
       " '46',\n",
       " '460',\n",
       " '4603',\n",
       " '461',\n",
       " '46am',\n",
       " '47',\n",
       " '47000nice',\n",
       " '47060',\n",
       " '4719',\n",
       " '47days',\n",
       " '47pm',\n",
       " '48',\n",
       " '4817',\n",
       " '483',\n",
       " '483892161png',\n",
       " '4879',\n",
       " '48am',\n",
       " '48gy0',\n",
       " '48hoursnz',\n",
       " '4a',\n",
       " '4am',\n",
       " '4bbcy',\n",
       " '4bckp',\n",
       " '4d',\n",
       " '4d8',\n",
       " '4day',\n",
       " '4days',\n",
       " '4e',\n",
       " '4ever',\n",
       " '4f0l0',\n",
       " '4fzo7',\n",
       " '4g',\n",
       " '4gb',\n",
       " '4gemf',\n",
       " '4get',\n",
       " '4give',\n",
       " '4gnlp',\n",
       " '4got',\n",
       " '4grnh',\n",
       " '4h',\n",
       " '4hap4',\n",
       " '4hbs5',\n",
       " '4hour',\n",
       " '4hours',\n",
       " '4hrs',\n",
       " '4hsd2',\n",
       " '4i2zu',\n",
       " '4i3g6',\n",
       " '4i8kk',\n",
       " '4iq19',\n",
       " '4ish',\n",
       " '4iw0x',\n",
       " '4j585',\n",
       " '4j6kc',\n",
       " '4j8us',\n",
       " '4j8yk',\n",
       " '4j91r',\n",
       " '4j92o',\n",
       " '4j95z',\n",
       " '4j99z',\n",
       " '4j9cd',\n",
       " '4j9eo',\n",
       " '4j9fb',\n",
       " '4j9om',\n",
       " '4ja12',\n",
       " '4ja4b',\n",
       " '4ja8m',\n",
       " '4ja8r',\n",
       " '4ja93',\n",
       " '4jacy',\n",
       " '4jam0',\n",
       " '4jaw9',\n",
       " '4jax3',\n",
       " '4jaz5',\n",
       " '4jazs',\n",
       " '4jb0q',\n",
       " '4jb4d',\n",
       " '4jb4o',\n",
       " '4jb66',\n",
       " '4jbba',\n",
       " '4jbhp',\n",
       " '4jble',\n",
       " '4jbn6',\n",
       " '4jbsq',\n",
       " '4jbws',\n",
       " '4jbx2',\n",
       " '4jbzv',\n",
       " '4jccd',\n",
       " '4jcf1',\n",
       " '4jcfg',\n",
       " '4jcjj',\n",
       " '4jco5',\n",
       " '4jcwm',\n",
       " '4jcxr',\n",
       " '4jdkq',\n",
       " '4jdtj',\n",
       " '4jdtx',\n",
       " '4jeil',\n",
       " '4jerc',\n",
       " '4jewc',\n",
       " '4jez4',\n",
       " '4jf46',\n",
       " '4jf4k',\n",
       " '4jf4m',\n",
       " '4jfa8',\n",
       " '4jffz',\n",
       " '4jfg4',\n",
       " '4jfkw',\n",
       " '4jg09',\n",
       " '4jgfw',\n",
       " '4jggm',\n",
       " '4jgro',\n",
       " '4jguu',\n",
       " '4jh4l',\n",
       " '4jhe5',\n",
       " '4jhp8',\n",
       " '4ji3n',\n",
       " '4jip9',\n",
       " '4jj43',\n",
       " '4jj4j',\n",
       " '4jjdx',\n",
       " '4jjlc',\n",
       " '4jjy9',\n",
       " '4jk6b',\n",
       " '4jken',\n",
       " '4jkes',\n",
       " '4jkvh',\n",
       " '4jkvl',\n",
       " '4jloj',\n",
       " '4jmeh',\n",
       " '4km',\n",
       " '4l85a',\n",
       " '4legged',\n",
       " '4listening',\n",
       " '4me',\n",
       " '4more',\n",
       " '4phze',\n",
       " '4piece',\n",
       " '4pm',\n",
       " '4qfl3',\n",
       " '4qpzx',\n",
       " '4real',\n",
       " '4rm',\n",
       " '4rom',\n",
       " '4s',\n",
       " '4so0u',\n",
       " '4sx96',\n",
       " '4t4jv',\n",
       " '4t6qx',\n",
       " '4th',\n",
       " '4the',\n",
       " '4thquot',\n",
       " '4ttngg',\n",
       " '4u0r9',\n",
       " '4u5h8',\n",
       " '4ukqe',\n",
       " '4us',\n",
       " '4uy8l',\n",
       " '4uyn9',\n",
       " '4v0vr',\n",
       " '4vd89',\n",
       " '4ve84',\n",
       " '4vgzy',\n",
       " '4visl',\n",
       " '4vp3x',\n",
       " '4vtlm',\n",
       " '4vuuy',\n",
       " '4vw9a',\n",
       " '4w06l',\n",
       " '4w1gg',\n",
       " '4w1rr',\n",
       " '4w1s0',\n",
       " '4w22u',\n",
       " '4w24f',\n",
       " '4w269',\n",
       " '4w2ls',\n",
       " '4w3fi',\n",
       " '4w472',\n",
       " '4w52z',\n",
       " '4w5eh',\n",
       " '4w5sy',\n",
       " '4w65x',\n",
       " '4w67k',\n",
       " '4w6lf',\n",
       " '4w7d2',\n",
       " '4w7yp',\n",
       " '4w855',\n",
       " '4w8ja',\n",
       " '4w8kr',\n",
       " '4w8l1',\n",
       " '4w9pe',\n",
       " '4w9rp',\n",
       " '4w9w6',\n",
       " '4w9zb',\n",
       " '4ward',\n",
       " '4was',\n",
       " '4wauk',\n",
       " '4wave',\n",
       " '4wb42',\n",
       " '4wb52',\n",
       " '4wb8q',\n",
       " '4wbn6',\n",
       " '4wbnd',\n",
       " '4wc1k',\n",
       " '4wc1y',\n",
       " '4wcqa',\n",
       " '4wdgr',\n",
       " '4wdnn',\n",
       " '4we4j',\n",
       " '4we51',\n",
       " '4we5w',\n",
       " '4weeks',\n",
       " '4wehl',\n",
       " '4wesr',\n",
       " '4wf30',\n",
       " '4wf3a',\n",
       " '4wfeo',\n",
       " '4wff3',\n",
       " '4wfqn',\n",
       " '4wfr4',\n",
       " '4wfs8',\n",
       " '4wgoi',\n",
       " '4wh0l',\n",
       " '4wh0o',\n",
       " '4wh4d',\n",
       " '4wh5x',\n",
       " '4whaf',\n",
       " '4wi78',\n",
       " '4wij6',\n",
       " '4wiqv',\n",
       " '4wixz',\n",
       " '4wjai',\n",
       " '4wjel',\n",
       " '4wjrs',\n",
       " '4wk1m',\n",
       " '4wkhi',\n",
       " '4wkpe',\n",
       " '4wkpl',\n",
       " '4wkzi',\n",
       " '4wl5b',\n",
       " '4wlgi',\n",
       " '4wlpv',\n",
       " '4wmaw',\n",
       " '4wmoa',\n",
       " '4wn29',\n",
       " '4wn71',\n",
       " '4wn9q',\n",
       " '4woj2',\n",
       " '4wp26',\n",
       " '4wp8l',\n",
       " '4wp8s',\n",
       " '4wppg',\n",
       " '4wptj',\n",
       " '4wqe8',\n",
       " '4wqfv',\n",
       " '4wr8k',\n",
       " '4wrrp',\n",
       " '4wry2',\n",
       " '4ws3m',\n",
       " '4ws8w',\n",
       " '4ws9r',\n",
       " '4wseo',\n",
       " '4wsj3',\n",
       " '4wsjr',\n",
       " '4wsk3',\n",
       " '4wsmw',\n",
       " '4wssc',\n",
       " '4wsst',\n",
       " '4wssx',\n",
       " '4wsxi',\n",
       " '4wsy6',\n",
       " '4wt8a',\n",
       " '4wt8k',\n",
       " ...]"
      ]
     },
     "execution_count": 46,
     "metadata": {},
     "output_type": "execute_result"
    }
   ],
   "source": [
    "#Get features by name\n",
    "cv.get_feature_names()"
   ]
  },
  {
   "cell_type": "code",
   "execution_count": 47,
   "id": "a207d3d7",
   "metadata": {},
   "outputs": [],
   "source": [
    "#Split dataset\n",
    "X_train,X_test,y_train,y_test = train_test_split(X,ylabels,test_size=0.3,random_state=42)"
   ]
  },
  {
   "cell_type": "markdown",
   "id": "80d75929",
   "metadata": {},
   "source": [
    "### Build our model"
   ]
  },
  {
   "cell_type": "code",
   "execution_count": 48,
   "id": "fd970ca5",
   "metadata": {},
   "outputs": [
    {
     "data": {
      "text/plain": [
       "MultinomialNB()"
      ]
     },
     "execution_count": 48,
     "metadata": {},
     "output_type": "execute_result"
    }
   ],
   "source": [
    "nv_model = MultinomialNB()\n",
    "nv_model.fit(X_train,y_train)"
   ]
  },
  {
   "cell_type": "code",
   "execution_count": 49,
   "id": "71b2caf8",
   "metadata": {},
   "outputs": [
    {
     "data": {
      "text/plain": [
       "0.3104166666666667"
      ]
     },
     "execution_count": 49,
     "metadata": {},
     "output_type": "execute_result"
    }
   ],
   "source": [
    "#Accuracy \n",
    "#method\n",
    "nv_model.score(X_test,y_test)"
   ]
  },
  {
   "cell_type": "code",
   "execution_count": 50,
   "id": "bd42e3e7",
   "metadata": {},
   "outputs": [],
   "source": [
    "#Predictions\n",
    "y_pred_for_nv = nv_model.predict(X_test)"
   ]
  },
  {
   "cell_type": "code",
   "execution_count": 51,
   "id": "d1450eb9",
   "metadata": {},
   "outputs": [
    {
     "data": {
      "text/plain": [
       "array(['neutral', 'neutral', 'worry', ..., 'sadness', 'worry', 'worry'],\n",
       "      dtype='<U10')"
      ]
     },
     "execution_count": 51,
     "metadata": {},
     "output_type": "execute_result"
    }
   ],
   "source": [
    "y_pred_for_nv"
   ]
  },
  {
   "cell_type": "markdown",
   "id": "8129e5af",
   "metadata": {},
   "source": [
    "## Make a single Prediction\n",
    "+ Vectorized our text\n",
    "+ Applied our model "
   ]
  },
  {
   "cell_type": "code",
   "execution_count": 52,
   "id": "f48ec25b",
   "metadata": {},
   "outputs": [],
   "source": [
    "sample_text = [\"I love coding\"]"
   ]
  },
  {
   "cell_type": "code",
   "execution_count": 53,
   "id": "2fab48ee",
   "metadata": {},
   "outputs": [],
   "source": [
    "vect = cv.transform(sample_text).toarray()"
   ]
  },
  {
   "cell_type": "code",
   "execution_count": 54,
   "id": "125f3c95",
   "metadata": {},
   "outputs": [
    {
     "data": {
      "text/plain": [
       "array(['love'], dtype='<U10')"
      ]
     },
     "execution_count": 54,
     "metadata": {},
     "output_type": "execute_result"
    }
   ],
   "source": [
    "#Make prediction\n",
    "nv_model.predict(vect)"
   ]
  },
  {
   "cell_type": "code",
   "execution_count": 55,
   "id": "d69fb535",
   "metadata": {},
   "outputs": [
    {
     "data": {
      "text/plain": [
       "array([[1.11107548e-04, 1.70580346e-04, 2.98802065e-03, 2.53626923e-03,\n",
       "        2.19374656e-02, 1.00946776e-01, 3.35880841e-03, 4.25767437e-01,\n",
       "        1.63050217e-01, 1.27858477e-02, 6.54409859e-02, 2.32995676e-02,\n",
       "        1.77606917e-01]])"
      ]
     },
     "execution_count": 55,
     "metadata": {},
     "output_type": "execute_result"
    }
   ],
   "source": [
    "#Check for the prediction probability(Percentage)/Confidence score\n",
    "nv_model.predict_proba(vect)"
   ]
  },
  {
   "cell_type": "code",
   "execution_count": 56,
   "id": "8e05125b",
   "metadata": {},
   "outputs": [
    {
     "data": {
      "text/plain": [
       "array(['anger', 'boredom', 'empty', 'enthusiasm', 'fun', 'happiness',\n",
       "       'hate', 'love', 'neutral', 'relief', 'sadness', 'surprise',\n",
       "       'worry'], dtype='<U10')"
      ]
     },
     "execution_count": 56,
     "metadata": {},
     "output_type": "execute_result"
    }
   ],
   "source": [
    "#Get all classes for our model\n",
    "nv_model.classes_"
   ]
  },
  {
   "cell_type": "code",
   "execution_count": 57,
   "id": "9f3a6b08",
   "metadata": {},
   "outputs": [
    {
     "data": {
      "text/plain": [
       "0.4257674367868487"
      ]
     },
     "execution_count": 57,
     "metadata": {},
     "output_type": "execute_result"
    }
   ],
   "source": [
    "np.max(nv_model.predict_proba(vect))"
   ]
  },
  {
   "cell_type": "code",
   "execution_count": 58,
   "id": "465d9825",
   "metadata": {},
   "outputs": [],
   "source": [
    "def predict_emotion(sample_text,model):\n",
    "    myvect = cv.transform(sample_text).toarray()\n",
    "    prediction = model.predict(myvect)\n",
    "    pred_proba = model.predict_proba(myvect)\n",
    "    pred_percentage_for_all = dict(zip(model.classes_,pred_proba[0]))\n",
    "    print(\"Prediction:{}, Prediction Score:{}\".format(prediction[0],np.max(pred_proba)))\n",
    "    return pred_percentage_for_all"
   ]
  },
  {
   "cell_type": "code",
   "execution_count": 59,
   "id": "6264da32",
   "metadata": {},
   "outputs": [
    {
     "name": "stdout",
     "output_type": "stream",
     "text": [
      "Prediction:love, Prediction Score:0.4257674367868487\n"
     ]
    },
    {
     "data": {
      "text/plain": [
       "{'anger': 0.00011110754759567821,\n",
       " 'boredom': 0.00017058034561305956,\n",
       " 'empty': 0.0029880206544534165,\n",
       " 'enthusiasm': 0.0025362692325022,\n",
       " 'fun': 0.02193746564236567,\n",
       " 'happiness': 0.10094677566073386,\n",
       " 'hate': 0.003358808414794764,\n",
       " 'love': 0.4257674367868487,\n",
       " 'neutral': 0.16305021710551143,\n",
       " 'relief': 0.012785847738939171,\n",
       " 'sadness': 0.06544098589575412,\n",
       " 'surprise': 0.023299567601199618,\n",
       " 'worry': 0.17760691737368894}"
      ]
     },
     "execution_count": 59,
     "metadata": {},
     "output_type": "execute_result"
    }
   ],
   "source": [
    "predict_emotion(sample_text,nv_model)"
   ]
  },
  {
   "cell_type": "code",
   "execution_count": 60,
   "id": "6ade18cc",
   "metadata": {},
   "outputs": [
    {
     "name": "stdout",
     "output_type": "stream",
     "text": [
      "Prediction:sadness, Prediction Score:0.39330603437888156\n"
     ]
    },
    {
     "data": {
      "text/plain": [
       "{'anger': 1.2231181367699192e-06,\n",
       " 'boredom': 4.572376102153649e-06,\n",
       " 'empty': 2.9720558876956714e-05,\n",
       " 'enthusiasm': 0.00021150760690274352,\n",
       " 'fun': 0.009867463420593673,\n",
       " 'happiness': 0.028705379220528918,\n",
       " 'hate': 0.006962268108460733,\n",
       " 'love': 0.08369580367209412,\n",
       " 'neutral': 0.1756159941609437,\n",
       " 'relief': 0.0013185368611518112,\n",
       " 'sadness': 0.39330603437888156,\n",
       " 'surprise': 0.0086177075705413,\n",
       " 'worry': 0.2916637889467884}"
      ]
     },
     "execution_count": 60,
     "metadata": {},
     "output_type": "execute_result"
    }
   ],
   "source": [
    "predict_emotion([\"He hates running all day\"],nv_model)"
   ]
  },
  {
   "cell_type": "markdown",
   "id": "35bd54b1",
   "metadata": {},
   "source": [
    "### Model Evaluation"
   ]
  },
  {
   "cell_type": "code",
   "execution_count": 61,
   "id": "3b190ae7",
   "metadata": {},
   "outputs": [
    {
     "name": "stdout",
     "output_type": "stream",
     "text": [
      "              precision    recall  f1-score   support\n",
      "\n",
      "       anger       0.00      0.00      0.00        24\n",
      "     boredom       0.00      0.00      0.00        43\n",
      "       empty       0.20      0.01      0.01       164\n",
      "  enthusiasm       0.00      0.00      0.00       186\n",
      "         fun       0.17      0.00      0.01       438\n",
      "   happiness       0.30      0.32      0.31      1208\n",
      "        hate       0.18      0.01      0.01       322\n",
      "        love       0.46      0.29      0.36       943\n",
      "     neutral       0.33      0.39      0.36      2120\n",
      "      relief       0.00      0.00      0.00       388\n",
      "     sadness       0.27      0.15      0.19      1206\n",
      "    surprise       0.11      0.00      0.01       525\n",
      "       worry       0.29      0.64      0.40      2033\n",
      "\n",
      "    accuracy                           0.31      9600\n",
      "   macro avg       0.18      0.14      0.13      9600\n",
      "weighted avg       0.27      0.31      0.26      9600\n",
      "\n"
     ]
    },
    {
     "name": "stderr",
     "output_type": "stream",
     "text": [
      "C:\\ProgramData\\Anaconda3\\lib\\site-packages\\sklearn\\metrics\\_classification.py:1248: UndefinedMetricWarning: Precision and F-score are ill-defined and being set to 0.0 in labels with no predicted samples. Use `zero_division` parameter to control this behavior.\n",
      "  _warn_prf(average, modifier, msg_start, len(result))\n",
      "C:\\ProgramData\\Anaconda3\\lib\\site-packages\\sklearn\\metrics\\_classification.py:1248: UndefinedMetricWarning: Precision and F-score are ill-defined and being set to 0.0 in labels with no predicted samples. Use `zero_division` parameter to control this behavior.\n",
      "  _warn_prf(average, modifier, msg_start, len(result))\n",
      "C:\\ProgramData\\Anaconda3\\lib\\site-packages\\sklearn\\metrics\\_classification.py:1248: UndefinedMetricWarning: Precision and F-score are ill-defined and being set to 0.0 in labels with no predicted samples. Use `zero_division` parameter to control this behavior.\n",
      "  _warn_prf(average, modifier, msg_start, len(result))\n"
     ]
    }
   ],
   "source": [
    "#Classification\n",
    "print(classification_report(y_test,y_pred_for_nv))"
   ]
  },
  {
   "cell_type": "code",
   "execution_count": 62,
   "id": "35b5805e",
   "metadata": {},
   "outputs": [
    {
     "data": {
      "text/plain": [
       "array([[   0,    0,    0,    0,    0,    0,    0,    0,    9,    0,    1,\n",
       "           0,   14],\n",
       "       [   0,    0,    0,    0,    0,    1,    0,    0,    8,    0,    7,\n",
       "           0,   27],\n",
       "       [   0,    0,    1,    0,    0,   13,    1,    2,   68,    0,    9,\n",
       "           1,   69],\n",
       "       [   0,    0,    0,    0,    0,   26,    0,    7,   59,    0,   17,\n",
       "           1,   76],\n",
       "       [   0,    0,    0,    0,    2,  110,    0,   20,  122,    0,   17,\n",
       "           1,  166],\n",
       "       [   0,    0,    2,    1,    0,  386,    0,   87,  329,    1,   42,\n",
       "           0,  360],\n",
       "       [   0,    0,    0,    0,    0,   15,    2,    9,   59,    1,   52,\n",
       "           1,  183],\n",
       "       [   0,    0,    0,    0,    0,  214,    0,  275,  166,    0,   27,\n",
       "           2,  259],\n",
       "       [   0,    0,    2,    0,    5,  231,    3,   84,  825,    1,   99,\n",
       "           5,  865],\n",
       "       [   0,    0,    0,    0,    0,   60,    0,   17,  123,    0,   17,\n",
       "           0,  171],\n",
       "       [   0,    0,    0,    0,    2,   56,    3,   27,  206,    0,  177,\n",
       "           1,  734],\n",
       "       [   0,    0,    0,    0,    0,   72,    0,   19,  155,    0,   33,\n",
       "           2,  244],\n",
       "       [   0,    0,    0,    2,    3,  114,    2,   47,  395,    1,  154,\n",
       "           5, 1310]], dtype=int64)"
      ]
     },
     "execution_count": 62,
     "metadata": {},
     "output_type": "execute_result"
    }
   ],
   "source": [
    "#Confusion\n",
    "confusion_matrix(y_test,y_pred_for_nv)"
   ]
  },
  {
   "cell_type": "code",
   "execution_count": 63,
   "id": "c87abe25",
   "metadata": {},
   "outputs": [
    {
     "data": {
      "text/plain": [
       "<sklearn.metrics._plot.confusion_matrix.ConfusionMatrixDisplay at 0x1ad2326ac70>"
      ]
     },
     "execution_count": 63,
     "metadata": {},
     "output_type": "execute_result"
    },
    {
     "data": {
      "image/png": "[encoded data removed]",
      "text/plain": [
       "<Figure size 432x288 with 2 Axes>"
      ]
     },
     "metadata": {
      "needs_background": "light"
     },
     "output_type": "display_data"
    }
   ],
   "source": [
    "#Plot of confusion matrix\n",
    "plot_confusion_matrix(nv_model,X_test,y_test)"
   ]
  },
  {
   "cell_type": "markdown",
   "id": "631a8493",
   "metadata": {},
   "source": [
    "### Save Model"
   ]
  },
  {
   "cell_type": "code",
   "execution_count": 64,
   "id": "7aecc1a4",
   "metadata": {},
   "outputs": [],
   "source": [
    "import joblib"
   ]
  },
  {
   "cell_type": "code",
   "execution_count": 65,
   "id": "932d5c8d",
   "metadata": {},
   "outputs": [],
   "source": [
    "model_file = open(\"emotion_classifier_nv_model_11907868.pkl\",\"wb\")\n",
    "joblib.dump(nv_model,model_file)\n",
    "model_file.close()"
   ]
  },
  {
   "cell_type": "markdown",
   "id": "2939b40d",
   "metadata": {},
   "source": [
    "### Logistic Regression"
   ]
  },
  {
   "cell_type": "code",
   "execution_count": 66,
   "id": "7c36c023",
   "metadata": {},
   "outputs": [
    {
     "name": "stderr",
     "output_type": "stream",
     "text": [
      "C:\\ProgramData\\Anaconda3\\lib\\site-packages\\sklearn\\linear_model\\_logistic.py:763: ConvergenceWarning: lbfgs failed to converge (status=1):\n",
      "STOP: TOTAL NO. of ITERATIONS REACHED LIMIT.\n",
      "\n",
      "Increase the number of iterations (max_iter) or scale the data as shown in:\n",
      "    https://scikit-learn.org/stable/modules/preprocessing.html\n",
      "Please also refer to the documentation for alternative solver options:\n",
      "    https://scikit-learn.org/stable/modules/linear_model.html#logistic-regression\n",
      "  n_iter_i = _check_optimize_result(\n"
     ]
    },
    {
     "data": {
      "text/plain": [
       "LogisticRegression()"
      ]
     },
     "execution_count": 66,
     "metadata": {},
     "output_type": "execute_result"
    }
   ],
   "source": [
    "lr_model = LogisticRegression()\n",
    "lr_model.fit(X_train,y_train)"
   ]
  },
  {
   "cell_type": "code",
   "execution_count": 67,
   "id": "a4e1596d",
   "metadata": {},
   "outputs": [
    {
     "data": {
      "text/plain": [
       "0.33135416666666667"
      ]
     },
     "execution_count": 67,
     "metadata": {},
     "output_type": "execute_result"
    }
   ],
   "source": [
    "#Accuracy\n",
    "lr_model.score(X_test,y_test)"
   ]
  },
  {
   "cell_type": "code",
   "execution_count": 68,
   "id": "0b96362e",
   "metadata": {},
   "outputs": [
    {
     "name": "stdout",
     "output_type": "stream",
     "text": [
      "Prediction:love, Prediction Score:0.5186578946084238\n"
     ]
    },
    {
     "data": {
      "text/plain": [
       "{'anger': 0.0018534088849551202,\n",
       " 'boredom': 0.0015897201179852693,\n",
       " 'empty': 0.017880128971878285,\n",
       " 'enthusiasm': 0.009281069776993712,\n",
       " 'fun': 0.025285539488939454,\n",
       " 'happiness': 0.07789761837751964,\n",
       " 'hate': 0.0066665270610166815,\n",
       " 'love': 0.5186578946084238,\n",
       " 'neutral': 0.13885728379792994,\n",
       " 'relief': 0.026585186020194353,\n",
       " 'sadness': 0.04981683633317237,\n",
       " 'surprise': 0.035766824007175346,\n",
       " 'worry': 0.08986196255381607}"
      ]
     },
     "execution_count": 68,
     "metadata": {},
     "output_type": "execute_result"
    }
   ],
   "source": [
    "#Single Predict\n",
    "predict_emotion(sample_text,lr_model)"
   ]
  },
  {
   "cell_type": "markdown",
   "id": "206f8a8a",
   "metadata": {},
   "source": [
    "# Thank You !!!"
   ]
  }
 ],
 "metadata": {
  "kernelspec": {
   "display_name": "Python 3 (ipykernel)",
   "language": "python",
   "name": "python3"
  },
  "language_info": {
   "codemirror_mode": {
    "name": "ipython",
    "version": 3
   },
   "file_extension": ".py",
   "mimetype": "text/x-python",
   "name": "python",
   "nbconvert_exporter": "python",
   "pygments_lexer": "ipython3",
   "version": "3.9.7"
  }
 },
 "nbformat": 4,
 "nbformat_minor": 5
}
